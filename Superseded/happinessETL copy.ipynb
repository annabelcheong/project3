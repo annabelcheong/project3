{
 "metadata": {
  "language_info": {
   "codemirror_mode": {
    "name": "ipython",
    "version": 3
   },
   "file_extension": ".py",
   "mimetype": "text/x-python",
   "name": "python",
   "nbconvert_exporter": "python",
   "pygments_lexer": "ipython3",
   "version": "3.6.13"
  },
  "orig_nbformat": 2,
  "kernelspec": {
   "name": "python3",
   "display_name": "Python 3.6.13 64-bit ('PythonAdv': conda)",
   "metadata": {
    "interpreter": {
     "hash": "d6d1acd81953b03bcf8e5d296cc3c28990ea354090956f78670ae51fff7474ba"
    }
   }
  }
 },
 "nbformat": 4,
 "nbformat_minor": 2,
 "cells": [
  {
   "cell_type": "code",
   "execution_count": 1,
   "metadata": {},
   "outputs": [],
   "source": [
    "# Dependencies\n",
    "import pandas as pd"
   ]
  },
  {
   "source": [
    "# 2018 Data"
   ],
   "cell_type": "markdown",
   "metadata": {}
  },
  {
   "cell_type": "code",
   "execution_count": 2,
   "metadata": {},
   "outputs": [
    {
     "output_type": "execute_result",
     "data": {
      "text/plain": [
       "   Overall rank Country or region  Score  GDP per capita  Social support  \\\n",
       "0             1           Finland  7.632           1.305           1.592   \n",
       "1             2            Norway  7.594           1.456           1.582   \n",
       "2             3           Denmark  7.555           1.351           1.590   \n",
       "3             4           Iceland  7.495           1.343           1.644   \n",
       "4             5       Switzerland  7.487           1.420           1.549   \n",
       "\n",
       "   Healthy life expectancy  Freedom to make life choices  Generosity  \\\n",
       "0                    0.874                         0.681       0.202   \n",
       "1                    0.861                         0.686       0.286   \n",
       "2                    0.868                         0.683       0.284   \n",
       "3                    0.914                         0.677       0.353   \n",
       "4                    0.927                         0.660       0.256   \n",
       "\n",
       "   Perceptions of corruption  \n",
       "0                      0.393  \n",
       "1                      0.340  \n",
       "2                      0.408  \n",
       "3                      0.138  \n",
       "4                      0.357  "
      ],
      "text/html": "<div>\n<style scoped>\n    .dataframe tbody tr th:only-of-type {\n        vertical-align: middle;\n    }\n\n    .dataframe tbody tr th {\n        vertical-align: top;\n    }\n\n    .dataframe thead th {\n        text-align: right;\n    }\n</style>\n<table border=\"1\" class=\"dataframe\">\n  <thead>\n    <tr style=\"text-align: right;\">\n      <th></th>\n      <th>Overall rank</th>\n      <th>Country or region</th>\n      <th>Score</th>\n      <th>GDP per capita</th>\n      <th>Social support</th>\n      <th>Healthy life expectancy</th>\n      <th>Freedom to make life choices</th>\n      <th>Generosity</th>\n      <th>Perceptions of corruption</th>\n    </tr>\n  </thead>\n  <tbody>\n    <tr>\n      <th>0</th>\n      <td>1</td>\n      <td>Finland</td>\n      <td>7.632</td>\n      <td>1.305</td>\n      <td>1.592</td>\n      <td>0.874</td>\n      <td>0.681</td>\n      <td>0.202</td>\n      <td>0.393</td>\n    </tr>\n    <tr>\n      <th>1</th>\n      <td>2</td>\n      <td>Norway</td>\n      <td>7.594</td>\n      <td>1.456</td>\n      <td>1.582</td>\n      <td>0.861</td>\n      <td>0.686</td>\n      <td>0.286</td>\n      <td>0.340</td>\n    </tr>\n    <tr>\n      <th>2</th>\n      <td>3</td>\n      <td>Denmark</td>\n      <td>7.555</td>\n      <td>1.351</td>\n      <td>1.590</td>\n      <td>0.868</td>\n      <td>0.683</td>\n      <td>0.284</td>\n      <td>0.408</td>\n    </tr>\n    <tr>\n      <th>3</th>\n      <td>4</td>\n      <td>Iceland</td>\n      <td>7.495</td>\n      <td>1.343</td>\n      <td>1.644</td>\n      <td>0.914</td>\n      <td>0.677</td>\n      <td>0.353</td>\n      <td>0.138</td>\n    </tr>\n    <tr>\n      <th>4</th>\n      <td>5</td>\n      <td>Switzerland</td>\n      <td>7.487</td>\n      <td>1.420</td>\n      <td>1.549</td>\n      <td>0.927</td>\n      <td>0.660</td>\n      <td>0.256</td>\n      <td>0.357</td>\n    </tr>\n  </tbody>\n</table>\n</div>"
     },
     "metadata": {},
     "execution_count": 2
    }
   ],
   "source": [
    "happy2018 = pd.read_csv(\"Resources/happy2018.csv\")\n",
    "happy2018.head()"
   ]
  },
  {
   "cell_type": "code",
   "execution_count": 3,
   "metadata": {},
   "outputs": [
    {
     "output_type": "error",
     "ename": "NameError",
     "evalue": "name 'happy2019' is not defined",
     "traceback": [
      "\u001b[0;31m---------------------------------------------------------------------------\u001b[0m",
      "\u001b[0;31mNameError\u001b[0m                                 Traceback (most recent call last)",
      "\u001b[0;32m<ipython-input-3-05de3ef63158>\u001b[0m in \u001b[0;36m<module>\u001b[0;34m\u001b[0m\n\u001b[0;32m----> 1\u001b[0;31m \u001b[0mhappy2019\u001b[0m \u001b[0;34m=\u001b[0m \u001b[0mhappy2019\u001b[0m\u001b[0;34m[\u001b[0m\u001b[0;34m[\u001b[0m\u001b[0;34m\"Country or region\"\u001b[0m\u001b[0;34m,\u001b[0m\u001b[0;34m\"Score\"\u001b[0m\u001b[0;34m,\u001b[0m\u001b[0;34m'GDP per capita'\u001b[0m\u001b[0;34m,\u001b[0m\u001b[0;34m'Social support'\u001b[0m\u001b[0;34m,\u001b[0m\u001b[0;34m'Freedom to make life choices'\u001b[0m\u001b[0;34m,\u001b[0m\u001b[0;34m'Generosity'\u001b[0m\u001b[0;34m,\u001b[0m\u001b[0;34m'Perceptions of corruption'\u001b[0m\u001b[0;34m]\u001b[0m\u001b[0;34m]\u001b[0m\u001b[0;34m\u001b[0m\u001b[0;34m\u001b[0m\u001b[0m\n\u001b[0m\u001b[1;32m      2\u001b[0m \u001b[0;34m\u001b[0m\u001b[0m\n\u001b[1;32m      3\u001b[0m \u001b[0mhappy2018\u001b[0m\u001b[0;34m[\u001b[0m\u001b[0;34m'year'\u001b[0m\u001b[0;34m]\u001b[0m \u001b[0;34m=\u001b[0m \u001b[0;36m2018\u001b[0m\u001b[0;34m\u001b[0m\u001b[0;34m\u001b[0m\u001b[0m\n\u001b[1;32m      4\u001b[0m \u001b[0mhappy2018\u001b[0m\u001b[0;34m.\u001b[0m\u001b[0mhead\u001b[0m\u001b[0;34m(\u001b[0m\u001b[0;34m)\u001b[0m\u001b[0;34m\u001b[0m\u001b[0;34m\u001b[0m\u001b[0m\n",
      "\u001b[0;31mNameError\u001b[0m: name 'happy2019' is not defined"
     ]
    }
   ],
   "source": [
    "happy2019 = happy2019[[\"Country or region\",\"Score\",'GDP per capita','Social support','Freedom to make life choices','Generosity','Perceptions of corruption']]\n",
    "\n",
    "happy2018['year'] = 2018\n",
    "happy2018.head()"
   ]
  },
  {
   "source": [
    "# 2019 Data"
   ],
   "cell_type": "markdown",
   "metadata": {}
  },
  {
   "cell_type": "code",
   "execution_count": 2,
   "metadata": {},
   "outputs": [
    {
     "output_type": "execute_result",
     "data": {
      "text/plain": [
       "   Overall rank Country or region  Score  GDP per capita  Social support  \\\n",
       "0             1           Finland  7.769           1.340           1.587   \n",
       "1             2           Denmark  7.600           1.383           1.573   \n",
       "2             3            Norway  7.554           1.488           1.582   \n",
       "3             4           Iceland  7.494           1.380           1.624   \n",
       "4             5       Netherlands  7.488           1.396           1.522   \n",
       "\n",
       "   Healthy life expectancy  Freedom to make life choices  Generosity  \\\n",
       "0                    0.986                         0.596       0.153   \n",
       "1                    0.996                         0.592       0.252   \n",
       "2                    1.028                         0.603       0.271   \n",
       "3                    1.026                         0.591       0.354   \n",
       "4                    0.999                         0.557       0.322   \n",
       "\n",
       "   Perceptions of corruption  \n",
       "0                      0.393  \n",
       "1                      0.410  \n",
       "2                      0.341  \n",
       "3                      0.118  \n",
       "4                      0.298  "
      ],
      "text/html": "<div>\n<style scoped>\n    .dataframe tbody tr th:only-of-type {\n        vertical-align: middle;\n    }\n\n    .dataframe tbody tr th {\n        vertical-align: top;\n    }\n\n    .dataframe thead th {\n        text-align: right;\n    }\n</style>\n<table border=\"1\" class=\"dataframe\">\n  <thead>\n    <tr style=\"text-align: right;\">\n      <th></th>\n      <th>Overall rank</th>\n      <th>Country or region</th>\n      <th>Score</th>\n      <th>GDP per capita</th>\n      <th>Social support</th>\n      <th>Healthy life expectancy</th>\n      <th>Freedom to make life choices</th>\n      <th>Generosity</th>\n      <th>Perceptions of corruption</th>\n    </tr>\n  </thead>\n  <tbody>\n    <tr>\n      <th>0</th>\n      <td>1</td>\n      <td>Finland</td>\n      <td>7.769</td>\n      <td>1.340</td>\n      <td>1.587</td>\n      <td>0.986</td>\n      <td>0.596</td>\n      <td>0.153</td>\n      <td>0.393</td>\n    </tr>\n    <tr>\n      <th>1</th>\n      <td>2</td>\n      <td>Denmark</td>\n      <td>7.600</td>\n      <td>1.383</td>\n      <td>1.573</td>\n      <td>0.996</td>\n      <td>0.592</td>\n      <td>0.252</td>\n      <td>0.410</td>\n    </tr>\n    <tr>\n      <th>2</th>\n      <td>3</td>\n      <td>Norway</td>\n      <td>7.554</td>\n      <td>1.488</td>\n      <td>1.582</td>\n      <td>1.028</td>\n      <td>0.603</td>\n      <td>0.271</td>\n      <td>0.341</td>\n    </tr>\n    <tr>\n      <th>3</th>\n      <td>4</td>\n      <td>Iceland</td>\n      <td>7.494</td>\n      <td>1.380</td>\n      <td>1.624</td>\n      <td>1.026</td>\n      <td>0.591</td>\n      <td>0.354</td>\n      <td>0.118</td>\n    </tr>\n    <tr>\n      <th>4</th>\n      <td>5</td>\n      <td>Netherlands</td>\n      <td>7.488</td>\n      <td>1.396</td>\n      <td>1.522</td>\n      <td>0.999</td>\n      <td>0.557</td>\n      <td>0.322</td>\n      <td>0.298</td>\n    </tr>\n  </tbody>\n</table>\n</div>"
     },
     "metadata": {},
     "execution_count": 2
    }
   ],
   "source": [
    "happy2019 = pd.read_csv(\"Resources/happy2019.csv\")\n",
    "happy2019.head()"
   ]
  },
  {
   "cell_type": "code",
   "execution_count": 3,
   "metadata": {},
   "outputs": [
    {
     "output_type": "execute_result",
     "data": {
      "text/plain": [
       "  Country or region  Score  GDP per capita  Social support  \\\n",
       "0           Finland  7.769           1.340           1.587   \n",
       "1           Denmark  7.600           1.383           1.573   \n",
       "2            Norway  7.554           1.488           1.582   \n",
       "3           Iceland  7.494           1.380           1.624   \n",
       "4       Netherlands  7.488           1.396           1.522   \n",
       "\n",
       "   Freedom to make life choices  Generosity  Perceptions of corruption  year  \n",
       "0                         0.596       0.153                      0.393  2019  \n",
       "1                         0.592       0.252                      0.410  2019  \n",
       "2                         0.603       0.271                      0.341  2019  \n",
       "3                         0.591       0.354                      0.118  2019  \n",
       "4                         0.557       0.322                      0.298  2019  "
      ],
      "text/html": "<div>\n<style scoped>\n    .dataframe tbody tr th:only-of-type {\n        vertical-align: middle;\n    }\n\n    .dataframe tbody tr th {\n        vertical-align: top;\n    }\n\n    .dataframe thead th {\n        text-align: right;\n    }\n</style>\n<table border=\"1\" class=\"dataframe\">\n  <thead>\n    <tr style=\"text-align: right;\">\n      <th></th>\n      <th>Country or region</th>\n      <th>Score</th>\n      <th>GDP per capita</th>\n      <th>Social support</th>\n      <th>Freedom to make life choices</th>\n      <th>Generosity</th>\n      <th>Perceptions of corruption</th>\n      <th>year</th>\n    </tr>\n  </thead>\n  <tbody>\n    <tr>\n      <th>0</th>\n      <td>Finland</td>\n      <td>7.769</td>\n      <td>1.340</td>\n      <td>1.587</td>\n      <td>0.596</td>\n      <td>0.153</td>\n      <td>0.393</td>\n      <td>2019</td>\n    </tr>\n    <tr>\n      <th>1</th>\n      <td>Denmark</td>\n      <td>7.600</td>\n      <td>1.383</td>\n      <td>1.573</td>\n      <td>0.592</td>\n      <td>0.252</td>\n      <td>0.410</td>\n      <td>2019</td>\n    </tr>\n    <tr>\n      <th>2</th>\n      <td>Norway</td>\n      <td>7.554</td>\n      <td>1.488</td>\n      <td>1.582</td>\n      <td>0.603</td>\n      <td>0.271</td>\n      <td>0.341</td>\n      <td>2019</td>\n    </tr>\n    <tr>\n      <th>3</th>\n      <td>Iceland</td>\n      <td>7.494</td>\n      <td>1.380</td>\n      <td>1.624</td>\n      <td>0.591</td>\n      <td>0.354</td>\n      <td>0.118</td>\n      <td>2019</td>\n    </tr>\n    <tr>\n      <th>4</th>\n      <td>Netherlands</td>\n      <td>7.488</td>\n      <td>1.396</td>\n      <td>1.522</td>\n      <td>0.557</td>\n      <td>0.322</td>\n      <td>0.298</td>\n      <td>2019</td>\n    </tr>\n  </tbody>\n</table>\n</div>"
     },
     "metadata": {},
     "execution_count": 3
    }
   ],
   "source": [
    "happy2019 = happy2019[[\"Country or region\",\"Score\",'GDP per capita','Social support','Freedom to make life choices','Generosity','Perceptions of corruption']]\n",
    "\n",
    "happy2019['year'] = 2019\n",
    "happy2019.head()"
   ]
  },
  {
   "source": [
    "# 2020 Data"
   ],
   "cell_type": "markdown",
   "metadata": {}
  },
  {
   "cell_type": "code",
   "execution_count": 4,
   "metadata": {},
   "outputs": [
    {
     "output_type": "execute_result",
     "data": {
      "text/plain": [
       "  Country name Regional indicator  Ladder score  \\\n",
       "0      Finland     Western Europe        7.8087   \n",
       "1      Denmark     Western Europe        7.6456   \n",
       "2  Switzerland     Western Europe        7.5599   \n",
       "3      Iceland     Western Europe        7.5045   \n",
       "4       Norway     Western Europe        7.4880   \n",
       "\n",
       "   Standard error of ladder score  upperwhisker  lowerwhisker  \\\n",
       "0                        0.031156      7.869766      7.747634   \n",
       "1                        0.033492      7.711245      7.579955   \n",
       "2                        0.035014      7.628528      7.491272   \n",
       "3                        0.059616      7.621347      7.387653   \n",
       "4                        0.034837      7.556281      7.419719   \n",
       "\n",
       "   Logged GDP per capita  Social support  Healthy life expectancy  \\\n",
       "0              10.639267        0.954330                71.900825   \n",
       "1              10.774001        0.955991                72.402504   \n",
       "2              10.979933        0.942847                74.102448   \n",
       "3              10.772559        0.974670                73.000000   \n",
       "4              11.087804        0.952487                73.200783   \n",
       "\n",
       "   Freedom to make life choices  Generosity  Perceptions of corruption  \\\n",
       "0                      0.949172   -0.059482                   0.195445   \n",
       "1                      0.951444    0.066202                   0.168489   \n",
       "2                      0.921337    0.105911                   0.303728   \n",
       "3                      0.948892    0.246944                   0.711710   \n",
       "4                      0.955750    0.134533                   0.263218   \n",
       "\n",
       "   Ladder score in Dystopia  Explained by: Log GDP per capita  \\\n",
       "0                  1.972317                          1.285190   \n",
       "1                  1.972317                          1.326949   \n",
       "2                  1.972317                          1.390774   \n",
       "3                  1.972317                          1.326502   \n",
       "4                  1.972317                          1.424207   \n",
       "\n",
       "   Explained by: Social support  Explained by: Healthy life expectancy  \\\n",
       "0                      1.499526                               0.961271   \n",
       "1                      1.503449                               0.979333   \n",
       "2                      1.472403                               1.040533   \n",
       "3                      1.547567                               1.000843   \n",
       "4                      1.495173                               1.008072   \n",
       "\n",
       "   Explained by: Freedom to make life choices  Explained by: Generosity  \\\n",
       "0                                    0.662317                  0.159670   \n",
       "1                                    0.665040                  0.242793   \n",
       "2                                    0.628954                  0.269056   \n",
       "3                                    0.661981                  0.362330   \n",
       "4                                    0.670201                  0.287985   \n",
       "\n",
       "   Explained by: Perceptions of corruption  Dystopia + residual  \n",
       "0                                 0.477857             2.762835  \n",
       "1                                 0.495260             2.432741  \n",
       "2                                 0.407946             2.350267  \n",
       "3                                 0.144541             2.460688  \n",
       "4                                 0.434101             2.168266  "
      ],
      "text/html": "<div>\n<style scoped>\n    .dataframe tbody tr th:only-of-type {\n        vertical-align: middle;\n    }\n\n    .dataframe tbody tr th {\n        vertical-align: top;\n    }\n\n    .dataframe thead th {\n        text-align: right;\n    }\n</style>\n<table border=\"1\" class=\"dataframe\">\n  <thead>\n    <tr style=\"text-align: right;\">\n      <th></th>\n      <th>Country name</th>\n      <th>Regional indicator</th>\n      <th>Ladder score</th>\n      <th>Standard error of ladder score</th>\n      <th>upperwhisker</th>\n      <th>lowerwhisker</th>\n      <th>Logged GDP per capita</th>\n      <th>Social support</th>\n      <th>Healthy life expectancy</th>\n      <th>Freedom to make life choices</th>\n      <th>Generosity</th>\n      <th>Perceptions of corruption</th>\n      <th>Ladder score in Dystopia</th>\n      <th>Explained by: Log GDP per capita</th>\n      <th>Explained by: Social support</th>\n      <th>Explained by: Healthy life expectancy</th>\n      <th>Explained by: Freedom to make life choices</th>\n      <th>Explained by: Generosity</th>\n      <th>Explained by: Perceptions of corruption</th>\n      <th>Dystopia + residual</th>\n    </tr>\n  </thead>\n  <tbody>\n    <tr>\n      <th>0</th>\n      <td>Finland</td>\n      <td>Western Europe</td>\n      <td>7.8087</td>\n      <td>0.031156</td>\n      <td>7.869766</td>\n      <td>7.747634</td>\n      <td>10.639267</td>\n      <td>0.954330</td>\n      <td>71.900825</td>\n      <td>0.949172</td>\n      <td>-0.059482</td>\n      <td>0.195445</td>\n      <td>1.972317</td>\n      <td>1.285190</td>\n      <td>1.499526</td>\n      <td>0.961271</td>\n      <td>0.662317</td>\n      <td>0.159670</td>\n      <td>0.477857</td>\n      <td>2.762835</td>\n    </tr>\n    <tr>\n      <th>1</th>\n      <td>Denmark</td>\n      <td>Western Europe</td>\n      <td>7.6456</td>\n      <td>0.033492</td>\n      <td>7.711245</td>\n      <td>7.579955</td>\n      <td>10.774001</td>\n      <td>0.955991</td>\n      <td>72.402504</td>\n      <td>0.951444</td>\n      <td>0.066202</td>\n      <td>0.168489</td>\n      <td>1.972317</td>\n      <td>1.326949</td>\n      <td>1.503449</td>\n      <td>0.979333</td>\n      <td>0.665040</td>\n      <td>0.242793</td>\n      <td>0.495260</td>\n      <td>2.432741</td>\n    </tr>\n    <tr>\n      <th>2</th>\n      <td>Switzerland</td>\n      <td>Western Europe</td>\n      <td>7.5599</td>\n      <td>0.035014</td>\n      <td>7.628528</td>\n      <td>7.491272</td>\n      <td>10.979933</td>\n      <td>0.942847</td>\n      <td>74.102448</td>\n      <td>0.921337</td>\n      <td>0.105911</td>\n      <td>0.303728</td>\n      <td>1.972317</td>\n      <td>1.390774</td>\n      <td>1.472403</td>\n      <td>1.040533</td>\n      <td>0.628954</td>\n      <td>0.269056</td>\n      <td>0.407946</td>\n      <td>2.350267</td>\n    </tr>\n    <tr>\n      <th>3</th>\n      <td>Iceland</td>\n      <td>Western Europe</td>\n      <td>7.5045</td>\n      <td>0.059616</td>\n      <td>7.621347</td>\n      <td>7.387653</td>\n      <td>10.772559</td>\n      <td>0.974670</td>\n      <td>73.000000</td>\n      <td>0.948892</td>\n      <td>0.246944</td>\n      <td>0.711710</td>\n      <td>1.972317</td>\n      <td>1.326502</td>\n      <td>1.547567</td>\n      <td>1.000843</td>\n      <td>0.661981</td>\n      <td>0.362330</td>\n      <td>0.144541</td>\n      <td>2.460688</td>\n    </tr>\n    <tr>\n      <th>4</th>\n      <td>Norway</td>\n      <td>Western Europe</td>\n      <td>7.4880</td>\n      <td>0.034837</td>\n      <td>7.556281</td>\n      <td>7.419719</td>\n      <td>11.087804</td>\n      <td>0.952487</td>\n      <td>73.200783</td>\n      <td>0.955750</td>\n      <td>0.134533</td>\n      <td>0.263218</td>\n      <td>1.972317</td>\n      <td>1.424207</td>\n      <td>1.495173</td>\n      <td>1.008072</td>\n      <td>0.670201</td>\n      <td>0.287985</td>\n      <td>0.434101</td>\n      <td>2.168266</td>\n    </tr>\n  </tbody>\n</table>\n</div>"
     },
     "metadata": {},
     "execution_count": 4
    }
   ],
   "source": [
    "happy2020 = pd.read_csv(\"Resources/happy2020.csv\")\n",
    "happy2020.head()"
   ]
  },
  {
   "cell_type": "code",
   "execution_count": 5,
   "metadata": {},
   "outputs": [
    {
     "output_type": "execute_result",
     "data": {
      "text/plain": [
       "  Country name  Ladder score  Logged GDP per capita  Social support  \\\n",
       "0      Finland        7.8087              10.639267        0.954330   \n",
       "1      Denmark        7.6456              10.774001        0.955991   \n",
       "2  Switzerland        7.5599              10.979933        0.942847   \n",
       "3      Iceland        7.5045              10.772559        0.974670   \n",
       "4       Norway        7.4880              11.087804        0.952487   \n",
       "\n",
       "   Freedom to make life choices  Generosity  Perceptions of corruption  year  \n",
       "0                      0.949172   -0.059482                   0.195445  2020  \n",
       "1                      0.951444    0.066202                   0.168489  2020  \n",
       "2                      0.921337    0.105911                   0.303728  2020  \n",
       "3                      0.948892    0.246944                   0.711710  2020  \n",
       "4                      0.955750    0.134533                   0.263218  2020  "
      ],
      "text/html": "<div>\n<style scoped>\n    .dataframe tbody tr th:only-of-type {\n        vertical-align: middle;\n    }\n\n    .dataframe tbody tr th {\n        vertical-align: top;\n    }\n\n    .dataframe thead th {\n        text-align: right;\n    }\n</style>\n<table border=\"1\" class=\"dataframe\">\n  <thead>\n    <tr style=\"text-align: right;\">\n      <th></th>\n      <th>Country name</th>\n      <th>Ladder score</th>\n      <th>Logged GDP per capita</th>\n      <th>Social support</th>\n      <th>Freedom to make life choices</th>\n      <th>Generosity</th>\n      <th>Perceptions of corruption</th>\n      <th>year</th>\n    </tr>\n  </thead>\n  <tbody>\n    <tr>\n      <th>0</th>\n      <td>Finland</td>\n      <td>7.8087</td>\n      <td>10.639267</td>\n      <td>0.954330</td>\n      <td>0.949172</td>\n      <td>-0.059482</td>\n      <td>0.195445</td>\n      <td>2020</td>\n    </tr>\n    <tr>\n      <th>1</th>\n      <td>Denmark</td>\n      <td>7.6456</td>\n      <td>10.774001</td>\n      <td>0.955991</td>\n      <td>0.951444</td>\n      <td>0.066202</td>\n      <td>0.168489</td>\n      <td>2020</td>\n    </tr>\n    <tr>\n      <th>2</th>\n      <td>Switzerland</td>\n      <td>7.5599</td>\n      <td>10.979933</td>\n      <td>0.942847</td>\n      <td>0.921337</td>\n      <td>0.105911</td>\n      <td>0.303728</td>\n      <td>2020</td>\n    </tr>\n    <tr>\n      <th>3</th>\n      <td>Iceland</td>\n      <td>7.5045</td>\n      <td>10.772559</td>\n      <td>0.974670</td>\n      <td>0.948892</td>\n      <td>0.246944</td>\n      <td>0.711710</td>\n      <td>2020</td>\n    </tr>\n    <tr>\n      <th>4</th>\n      <td>Norway</td>\n      <td>7.4880</td>\n      <td>11.087804</td>\n      <td>0.952487</td>\n      <td>0.955750</td>\n      <td>0.134533</td>\n      <td>0.263218</td>\n      <td>2020</td>\n    </tr>\n  </tbody>\n</table>\n</div>"
     },
     "metadata": {},
     "execution_count": 5
    }
   ],
   "source": [
    "happy2020 = happy2020[[\"Country name\",\"Ladder score\",'Logged GDP per capita','Social support','Freedom to make life choices','Generosity','Perceptions of corruption']]\n",
    "\n",
    "happy2020['year'] = 2020\n",
    "happy2020.head()"
   ]
  },
  {
   "source": [
    "# Rename columns \n",
    "- Ensure they are consistent between all dataframes (by year)"
   ],
   "cell_type": "markdown",
   "metadata": {}
  },
  {
   "cell_type": "code",
   "execution_count": 9,
   "metadata": {},
   "outputs": [
    {
     "output_type": "stream",
     "name": "stdout",
     "text": [
      "Index(['Overall rank', 'Country or region', 'Score', 'GDP per capita',\n       'Social support', 'Healthy life expectancy',\n       'Freedom to make life choices', 'Generosity',\n       'Perceptions of corruption', 'year'],\n      dtype='object')\nIndex(['Country or region', 'Score', 'GDP per capita', 'Social support',\n       'Freedom to make life choices', 'Generosity',\n       'Perceptions of corruption'],\n      dtype='object')\nIndex(['Country name', 'Ladder score', 'Logged GDP per capita',\n       'Social support', 'Freedom to make life choices', 'Generosity',\n       'Perceptions of corruption', 'year'],\n      dtype='object')\n"
     ]
    }
   ],
   "source": [
    "print(happy2018.columns)\n",
    "print(happy2019.columns)\n",
    "print(happy2020.columns)"
   ]
  },
  {
   "cell_type": "code",
   "execution_count": 6,
   "metadata": {},
   "outputs": [
    {
     "output_type": "execute_result",
     "data": {
      "text/plain": [
       "     rank                   country  score  GDP_capita  support  life_exp  \\\n",
       "0       1                   Finland  7.632       1.305    1.592     0.874   \n",
       "1       2                    Norway  7.594       1.456    1.582     0.861   \n",
       "2       3                   Denmark  7.555       1.351    1.590     0.868   \n",
       "3       4                   Iceland  7.495       1.343    1.644     0.914   \n",
       "4       5               Switzerland  7.487       1.420    1.549     0.927   \n",
       "..    ...                       ...    ...         ...      ...       ...   \n",
       "151   152                     Yemen  3.355       0.442    1.073     0.343   \n",
       "152   153                  Tanzania  3.303       0.455    0.991     0.381   \n",
       "153   154               South Sudan  3.254       0.337    0.608     0.177   \n",
       "154   155  Central African Republic  3.083       0.024    0.000     0.010   \n",
       "155   156                   Burundi  2.905       0.091    0.627     0.145   \n",
       "\n",
       "     freedom  generosity  corruption  \n",
       "0      0.681       0.202       0.393  \n",
       "1      0.686       0.286       0.340  \n",
       "2      0.683       0.284       0.408  \n",
       "3      0.677       0.353       0.138  \n",
       "4      0.660       0.256       0.357  \n",
       "..       ...         ...         ...  \n",
       "151    0.244       0.083       0.064  \n",
       "152    0.481       0.270       0.097  \n",
       "153    0.112       0.224       0.106  \n",
       "154    0.305       0.218       0.038  \n",
       "155    0.065       0.149       0.076  \n",
       "\n",
       "[156 rows x 9 columns]"
      ],
      "text/html": "<div>\n<style scoped>\n    .dataframe tbody tr th:only-of-type {\n        vertical-align: middle;\n    }\n\n    .dataframe tbody tr th {\n        vertical-align: top;\n    }\n\n    .dataframe thead th {\n        text-align: right;\n    }\n</style>\n<table border=\"1\" class=\"dataframe\">\n  <thead>\n    <tr style=\"text-align: right;\">\n      <th></th>\n      <th>rank</th>\n      <th>country</th>\n      <th>score</th>\n      <th>GDP_capita</th>\n      <th>support</th>\n      <th>life_exp</th>\n      <th>freedom</th>\n      <th>generosity</th>\n      <th>corruption</th>\n    </tr>\n  </thead>\n  <tbody>\n    <tr>\n      <th>0</th>\n      <td>1</td>\n      <td>Finland</td>\n      <td>7.632</td>\n      <td>1.305</td>\n      <td>1.592</td>\n      <td>0.874</td>\n      <td>0.681</td>\n      <td>0.202</td>\n      <td>0.393</td>\n    </tr>\n    <tr>\n      <th>1</th>\n      <td>2</td>\n      <td>Norway</td>\n      <td>7.594</td>\n      <td>1.456</td>\n      <td>1.582</td>\n      <td>0.861</td>\n      <td>0.686</td>\n      <td>0.286</td>\n      <td>0.340</td>\n    </tr>\n    <tr>\n      <th>2</th>\n      <td>3</td>\n      <td>Denmark</td>\n      <td>7.555</td>\n      <td>1.351</td>\n      <td>1.590</td>\n      <td>0.868</td>\n      <td>0.683</td>\n      <td>0.284</td>\n      <td>0.408</td>\n    </tr>\n    <tr>\n      <th>3</th>\n      <td>4</td>\n      <td>Iceland</td>\n      <td>7.495</td>\n      <td>1.343</td>\n      <td>1.644</td>\n      <td>0.914</td>\n      <td>0.677</td>\n      <td>0.353</td>\n      <td>0.138</td>\n    </tr>\n    <tr>\n      <th>4</th>\n      <td>5</td>\n      <td>Switzerland</td>\n      <td>7.487</td>\n      <td>1.420</td>\n      <td>1.549</td>\n      <td>0.927</td>\n      <td>0.660</td>\n      <td>0.256</td>\n      <td>0.357</td>\n    </tr>\n    <tr>\n      <th>...</th>\n      <td>...</td>\n      <td>...</td>\n      <td>...</td>\n      <td>...</td>\n      <td>...</td>\n      <td>...</td>\n      <td>...</td>\n      <td>...</td>\n      <td>...</td>\n    </tr>\n    <tr>\n      <th>151</th>\n      <td>152</td>\n      <td>Yemen</td>\n      <td>3.355</td>\n      <td>0.442</td>\n      <td>1.073</td>\n      <td>0.343</td>\n      <td>0.244</td>\n      <td>0.083</td>\n      <td>0.064</td>\n    </tr>\n    <tr>\n      <th>152</th>\n      <td>153</td>\n      <td>Tanzania</td>\n      <td>3.303</td>\n      <td>0.455</td>\n      <td>0.991</td>\n      <td>0.381</td>\n      <td>0.481</td>\n      <td>0.270</td>\n      <td>0.097</td>\n    </tr>\n    <tr>\n      <th>153</th>\n      <td>154</td>\n      <td>South Sudan</td>\n      <td>3.254</td>\n      <td>0.337</td>\n      <td>0.608</td>\n      <td>0.177</td>\n      <td>0.112</td>\n      <td>0.224</td>\n      <td>0.106</td>\n    </tr>\n    <tr>\n      <th>154</th>\n      <td>155</td>\n      <td>Central African Republic</td>\n      <td>3.083</td>\n      <td>0.024</td>\n      <td>0.000</td>\n      <td>0.010</td>\n      <td>0.305</td>\n      <td>0.218</td>\n      <td>0.038</td>\n    </tr>\n    <tr>\n      <th>155</th>\n      <td>156</td>\n      <td>Burundi</td>\n      <td>2.905</td>\n      <td>0.091</td>\n      <td>0.627</td>\n      <td>0.145</td>\n      <td>0.065</td>\n      <td>0.149</td>\n      <td>0.076</td>\n    </tr>\n  </tbody>\n</table>\n<p>156 rows × 9 columns</p>\n</div>"
     },
     "metadata": {},
     "execution_count": 6
    }
   ],
   "source": [
    "# Rename columns\n",
    "# print(happy2018)\n",
    "happy2018 = happy2018.rename({'Overall rank':'rank', 'Country or region':'country', 'Score':'score', 'GDP per capita':'GDP_capita', 'Social support':'support','Healthy life expectancy':'life_exp','Freedom to make life choices':'freedom','Generosity':'generosity','Perceptions of corruption':'corruption','year':'year'}, axis='columns')\n",
    "\n",
    "happy2018"
   ]
  },
  {
   "source": [
    "# Concantenate dataframes"
   ],
   "cell_type": "markdown",
   "metadata": {}
  },
  {
   "cell_type": "code",
   "execution_count": null,
   "metadata": {},
   "outputs": [],
   "source": [
    "pd.concat('')"
   ]
  }
 ]
}