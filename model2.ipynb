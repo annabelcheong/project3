{
 "metadata": {
  "language_info": {
   "codemirror_mode": {
    "name": "ipython",
    "version": 3
   },
   "file_extension": ".py",
   "mimetype": "text/x-python",
   "name": "python",
   "nbconvert_exporter": "python",
   "pygments_lexer": "ipython3",
   "version": "3.8.5"
  },
  "orig_nbformat": 2,
  "kernelspec": {
   "name": "python3",
   "display_name": "Python 3",
   "language": "python"
  }
 },
 "nbformat": 4,
 "nbformat_minor": 2,
 "cells": [
  {
   "source": [
    "# Random Forest"
   ],
   "cell_type": "markdown",
   "metadata": {}
  },
  {
   "cell_type": "code",
   "execution_count": 1,
   "metadata": {},
   "outputs": [],
   "source": [
    "# Retrieve variables from other jupyter notebook\n",
    "%store -r happy_postg\n",
    "%store -r X_train_scaled\n",
    "%store -r X_test_scaled\n",
    "%store -r y_train\n",
    "%store -r y_test\n",
    "%store -r X_headings\n",
    "%store -r X_scaler\n"
   ]
  },
  {
   "cell_type": "code",
   "execution_count": 2,
   "metadata": {},
   "outputs": [
    {
     "output_type": "execute_result",
     "data": {
      "text/plain": [
       "3      8\n",
       "127    5\n",
       "249    6\n",
       "1      8\n",
       "245    6\n",
       "      ..\n",
       "70     6\n",
       "132    5\n",
       "289    5\n",
       "109    5\n",
       "176    7\n",
       "Name: score, Length: 226, dtype: int64"
      ]
     },
     "metadata": {},
     "execution_count": 2
    }
   ],
   "source": [
    "# Test to ensure variables are retrived\n",
    "y_train"
   ]
  },
  {
   "cell_type": "code",
   "execution_count": 3,
   "metadata": {},
   "outputs": [],
   "source": [
    "# Dependencies\n",
    "from sklearn.ensemble import RandomForestClassifier\n",
    "import pandas as pd\n",
    "from sklearn.preprocessing import MinMaxScaler"
   ]
  },
  {
   "cell_type": "code",
   "execution_count": 4,
   "metadata": {},
   "outputs": [
    {
     "output_type": "execute_result",
     "data": {
      "text/plain": [
       "0.7763157894736842"
      ]
     },
     "metadata": {},
     "execution_count": 4
    }
   ],
   "source": [
    "# Create a random forest classifier\n",
    "rf = RandomForestClassifier(n_estimators=770)\n",
    "rf = rf.fit(X_train_scaled, y_train)\n",
    "rf.score(X_test_scaled, y_test)"
   ]
  },
  {
   "source": [
    "# Save the model"
   ],
   "cell_type": "markdown",
   "metadata": {}
  },
  {
   "cell_type": "code",
   "execution_count": 5,
   "metadata": {},
   "outputs": [
    {
     "output_type": "execute_result",
     "data": {
      "text/plain": [
       "['Models/model2.sav']"
      ]
     },
     "metadata": {},
     "execution_count": 5
    }
   ],
   "source": [
    "# Save the svc model \n",
    "import joblib\n",
    "filename = 'Models/model2.sav'\n",
    "\n",
    "# Print file name\n",
    "joblib.dump(rf, filename)"
   ]
  },
  {
   "source": [
    "# Additional checks on feature importances (X variables)"
   ],
   "cell_type": "markdown",
   "metadata": {}
  },
  {
   "cell_type": "code",
   "execution_count": 6,
   "metadata": {},
   "outputs": [
    {
     "output_type": "execute_result",
     "data": {
      "text/plain": [
       "array([0.01220875, 0.19694821, 0.19713367, 0.1791057 , 0.1539526 ,\n",
       "       0.11005169, 0.15059938])"
      ]
     },
     "metadata": {},
     "execution_count": 6
    }
   ],
   "source": [
    "# Random Forests in sklearn will automatically calculate feature importance\n",
    "importances = rf.feature_importances_\n",
    "importances"
   ]
  },
  {
   "cell_type": "code",
   "execution_count": 7,
   "metadata": {},
   "outputs": [
    {
     "output_type": "execute_result",
     "data": {
      "text/plain": [
       "Index(['year', 'logged_GDP_per_capita', 'support', 'life_exp', 'freedom',\n",
       "       'generosity', 'corruption'],\n",
       "      dtype='object')"
      ]
     },
     "metadata": {},
     "execution_count": 7
    }
   ],
   "source": [
    "X_headings"
   ]
  },
  {
   "cell_type": "code",
   "execution_count": 8,
   "metadata": {},
   "outputs": [
    {
     "output_type": "execute_result",
     "data": {
      "text/plain": [
       "[(0.19713367470150567, 'support'),\n",
       " (0.19694820536075952, 'logged_GDP_per_capita'),\n",
       " (0.17910569576875424, 'life_exp'),\n",
       " (0.15395260209331676, 'freedom'),\n",
       " (0.15059937884658764, 'corruption'),\n",
       " (0.11005169490020998, 'generosity'),\n",
       " (0.012208748328866278, 'year')]"
      ]
     },
     "metadata": {},
     "execution_count": 8
    }
   ],
   "source": [
    "sorted(zip(rf.feature_importances_,X_headings), reverse=True)"
   ]
  },
  {
   "cell_type": "code",
   "execution_count": 14,
   "metadata": {},
   "outputs": [
    {
     "output_type": "execute_result",
     "data": {
      "text/plain": [
       "     y_actual  y_predicted\n",
       "112         5            5\n",
       "63          6            6\n",
       "269         5            5\n",
       "39          7            7\n",
       "276         5            5\n",
       "..        ...          ...\n",
       "214         6            7\n",
       "187         7            6\n",
       "296         4            4\n",
       "46          7            6\n",
       "114         5            5\n",
       "\n",
       "[76 rows x 2 columns]"
      ],
      "text/html": "<div>\n<style scoped>\n    .dataframe tbody tr th:only-of-type {\n        vertical-align: middle;\n    }\n\n    .dataframe tbody tr th {\n        vertical-align: top;\n    }\n\n    .dataframe thead th {\n        text-align: right;\n    }\n</style>\n<table border=\"1\" class=\"dataframe\">\n  <thead>\n    <tr style=\"text-align: right;\">\n      <th></th>\n      <th>y_actual</th>\n      <th>y_predicted</th>\n    </tr>\n  </thead>\n  <tbody>\n    <tr>\n      <th>112</th>\n      <td>5</td>\n      <td>5</td>\n    </tr>\n    <tr>\n      <th>63</th>\n      <td>6</td>\n      <td>6</td>\n    </tr>\n    <tr>\n      <th>269</th>\n      <td>5</td>\n      <td>5</td>\n    </tr>\n    <tr>\n      <th>39</th>\n      <td>7</td>\n      <td>7</td>\n    </tr>\n    <tr>\n      <th>276</th>\n      <td>5</td>\n      <td>5</td>\n    </tr>\n    <tr>\n      <th>...</th>\n      <td>...</td>\n      <td>...</td>\n    </tr>\n    <tr>\n      <th>214</th>\n      <td>6</td>\n      <td>7</td>\n    </tr>\n    <tr>\n      <th>187</th>\n      <td>7</td>\n      <td>6</td>\n    </tr>\n    <tr>\n      <th>296</th>\n      <td>4</td>\n      <td>4</td>\n    </tr>\n    <tr>\n      <th>46</th>\n      <td>7</td>\n      <td>6</td>\n    </tr>\n    <tr>\n      <th>114</th>\n      <td>5</td>\n      <td>5</td>\n    </tr>\n  </tbody>\n</table>\n<p>76 rows × 2 columns</p>\n</div>"
     },
     "metadata": {},
     "execution_count": 14
    }
   ],
   "source": [
    "# Test saved model loads smoothly\n",
    "loaded_model = joblib.load('Models/model2.sav')\n",
    "\n",
    "# Predict based on model2\n",
    "predictions = loaded_model.predict(X_test_scaled)\n",
    "\n",
    "# Put y_actual, y_predicted into dataframe\n",
    "y_test_all_m2 = pd.DataFrame({\"y_actual\": y_test, \"y_predicted\": predictions})\n",
    "y_test_all_m2"
   ]
  },
  {
   "cell_type": "code",
   "execution_count": 15,
   "metadata": {},
   "outputs": [],
   "source": [
    "y_test_all_m2 = y_test_all_m2.reset_index()"
   ]
  },
  {
   "cell_type": "code",
   "execution_count": 16,
   "metadata": {},
   "outputs": [
    {
     "output_type": "execute_result",
     "data": {
      "text/plain": [
       "      year      country  logged_GDP_per_capita   support   life_exp   freedom  \\\n",
       "0.0   2020       Gambia               7.321815  0.693169  55.012016  0.733163   \n",
       "1.0   2020       Serbia               9.680981  0.881476  68.210205  0.726496   \n",
       "2.0   2021         Mali               7.744000  0.724000  51.969000  0.697000   \n",
       "3.0   2020      Bahrain              10.676380  0.876342  68.500000  0.905856   \n",
       "4.0   2021      Namibia               9.161000  0.818000  56.799000  0.719000   \n",
       "...    ...          ...                    ...       ...        ...       ...   \n",
       "71.0  2021  South Korea              10.651000  0.799000  73.900000  0.672000   \n",
       "72.0  2021       Brazil               9.577000  0.882000  66.601000  0.804000   \n",
       "73.0  2021       Malawi               6.958000  0.537000  57.948000  0.780000   \n",
       "74.0  2020      Romania              10.107584  0.825162  67.207237  0.842823   \n",
       "75.0  2020      Nigeria               8.576625  0.737217  49.861908  0.759578   \n",
       "\n",
       "      generosity  corruption  score  index  y_actual  y_predicted  \n",
       "0.0     0.343199    0.690718    5.0    112       5.0          5.0  \n",
       "1.0    -0.073676    0.843509    6.0     63       6.0          6.0  \n",
       "2.0    -0.036000    0.827000    5.0    269       5.0          5.0  \n",
       "3.0     0.133729    0.739347    7.0     39       7.0          7.0  \n",
       "4.0    -0.149000    0.847000    5.0    276       5.0          5.0  \n",
       "...          ...         ...    ...    ...       ...          ...  \n",
       "71.0   -0.083000    0.727000    6.0    214       6.0          7.0  \n",
       "72.0   -0.071000    0.756000    7.0    187       7.0          6.0  \n",
       "73.0    0.038000    0.729000    4.0    296       4.0          4.0  \n",
       "74.0   -0.197815    0.934300    7.0     46       7.0          6.0  \n",
       "75.0    0.033746    0.861874    5.0    114       5.0          5.0  \n",
       "\n",
       "[76 rows x 12 columns]"
      ],
      "text/html": "<div>\n<style scoped>\n    .dataframe tbody tr th:only-of-type {\n        vertical-align: middle;\n    }\n\n    .dataframe tbody tr th {\n        vertical-align: top;\n    }\n\n    .dataframe thead th {\n        text-align: right;\n    }\n</style>\n<table border=\"1\" class=\"dataframe\">\n  <thead>\n    <tr style=\"text-align: right;\">\n      <th></th>\n      <th>year</th>\n      <th>country</th>\n      <th>logged_GDP_per_capita</th>\n      <th>support</th>\n      <th>life_exp</th>\n      <th>freedom</th>\n      <th>generosity</th>\n      <th>corruption</th>\n      <th>score</th>\n      <th>index</th>\n      <th>y_actual</th>\n      <th>y_predicted</th>\n    </tr>\n  </thead>\n  <tbody>\n    <tr>\n      <th>0.0</th>\n      <td>2020</td>\n      <td>Gambia</td>\n      <td>7.321815</td>\n      <td>0.693169</td>\n      <td>55.012016</td>\n      <td>0.733163</td>\n      <td>0.343199</td>\n      <td>0.690718</td>\n      <td>5.0</td>\n      <td>112</td>\n      <td>5.0</td>\n      <td>5.0</td>\n    </tr>\n    <tr>\n      <th>1.0</th>\n      <td>2020</td>\n      <td>Serbia</td>\n      <td>9.680981</td>\n      <td>0.881476</td>\n      <td>68.210205</td>\n      <td>0.726496</td>\n      <td>-0.073676</td>\n      <td>0.843509</td>\n      <td>6.0</td>\n      <td>63</td>\n      <td>6.0</td>\n      <td>6.0</td>\n    </tr>\n    <tr>\n      <th>2.0</th>\n      <td>2021</td>\n      <td>Mali</td>\n      <td>7.744000</td>\n      <td>0.724000</td>\n      <td>51.969000</td>\n      <td>0.697000</td>\n      <td>-0.036000</td>\n      <td>0.827000</td>\n      <td>5.0</td>\n      <td>269</td>\n      <td>5.0</td>\n      <td>5.0</td>\n    </tr>\n    <tr>\n      <th>3.0</th>\n      <td>2020</td>\n      <td>Bahrain</td>\n      <td>10.676380</td>\n      <td>0.876342</td>\n      <td>68.500000</td>\n      <td>0.905856</td>\n      <td>0.133729</td>\n      <td>0.739347</td>\n      <td>7.0</td>\n      <td>39</td>\n      <td>7.0</td>\n      <td>7.0</td>\n    </tr>\n    <tr>\n      <th>4.0</th>\n      <td>2021</td>\n      <td>Namibia</td>\n      <td>9.161000</td>\n      <td>0.818000</td>\n      <td>56.799000</td>\n      <td>0.719000</td>\n      <td>-0.149000</td>\n      <td>0.847000</td>\n      <td>5.0</td>\n      <td>276</td>\n      <td>5.0</td>\n      <td>5.0</td>\n    </tr>\n    <tr>\n      <th>...</th>\n      <td>...</td>\n      <td>...</td>\n      <td>...</td>\n      <td>...</td>\n      <td>...</td>\n      <td>...</td>\n      <td>...</td>\n      <td>...</td>\n      <td>...</td>\n      <td>...</td>\n      <td>...</td>\n      <td>...</td>\n    </tr>\n    <tr>\n      <th>71.0</th>\n      <td>2021</td>\n      <td>South Korea</td>\n      <td>10.651000</td>\n      <td>0.799000</td>\n      <td>73.900000</td>\n      <td>0.672000</td>\n      <td>-0.083000</td>\n      <td>0.727000</td>\n      <td>6.0</td>\n      <td>214</td>\n      <td>6.0</td>\n      <td>7.0</td>\n    </tr>\n    <tr>\n      <th>72.0</th>\n      <td>2021</td>\n      <td>Brazil</td>\n      <td>9.577000</td>\n      <td>0.882000</td>\n      <td>66.601000</td>\n      <td>0.804000</td>\n      <td>-0.071000</td>\n      <td>0.756000</td>\n      <td>7.0</td>\n      <td>187</td>\n      <td>7.0</td>\n      <td>6.0</td>\n    </tr>\n    <tr>\n      <th>73.0</th>\n      <td>2021</td>\n      <td>Malawi</td>\n      <td>6.958000</td>\n      <td>0.537000</td>\n      <td>57.948000</td>\n      <td>0.780000</td>\n      <td>0.038000</td>\n      <td>0.729000</td>\n      <td>4.0</td>\n      <td>296</td>\n      <td>4.0</td>\n      <td>4.0</td>\n    </tr>\n    <tr>\n      <th>74.0</th>\n      <td>2020</td>\n      <td>Romania</td>\n      <td>10.107584</td>\n      <td>0.825162</td>\n      <td>67.207237</td>\n      <td>0.842823</td>\n      <td>-0.197815</td>\n      <td>0.934300</td>\n      <td>7.0</td>\n      <td>46</td>\n      <td>7.0</td>\n      <td>6.0</td>\n    </tr>\n    <tr>\n      <th>75.0</th>\n      <td>2020</td>\n      <td>Nigeria</td>\n      <td>8.576625</td>\n      <td>0.737217</td>\n      <td>49.861908</td>\n      <td>0.759578</td>\n      <td>0.033746</td>\n      <td>0.861874</td>\n      <td>5.0</td>\n      <td>114</td>\n      <td>5.0</td>\n      <td>5.0</td>\n    </tr>\n  </tbody>\n</table>\n<p>76 rows × 12 columns</p>\n</div>"
     },
     "metadata": {},
     "execution_count": 16
    }
   ],
   "source": [
    "# Merge 'happy_postg' on index with 'y_test_all_m2' on column name 'index'. (join=outer)\n",
    "happy_postg_final_m2 = pd.merge(happy_postg,y_test_all_m2, how=\"outer\", left_index=True, right_on=\"index\")\n",
    "happy_postg_final_m2 = happy_postg_final_m2.dropna()\n",
    "happy_postg_final_m2 = happy_postg_final_m2.sort_index()\n",
    "happy_postg_final_m2"
   ]
  },
  {
   "cell_type": "code",
   "execution_count": 17,
   "metadata": {},
   "outputs": [
    {
     "output_type": "execute_result",
     "data": {
      "text/plain": [
       "       id  year      country  logged_GDP_per_capita   support   life_exp  \\\n",
       "0.0   112  2020       Gambia               7.321815  0.693169  55.012016   \n",
       "1.0    63  2020       Serbia               9.680981  0.881476  68.210205   \n",
       "2.0   269  2021         Mali               7.744000  0.724000  51.969000   \n",
       "3.0    39  2020      Bahrain              10.676380  0.876342  68.500000   \n",
       "4.0   276  2021      Namibia               9.161000  0.818000  56.799000   \n",
       "...   ...   ...          ...                    ...       ...        ...   \n",
       "71.0  214  2021  South Korea              10.651000  0.799000  73.900000   \n",
       "72.0  187  2021       Brazil               9.577000  0.882000  66.601000   \n",
       "73.0  296  2021       Malawi               6.958000  0.537000  57.948000   \n",
       "74.0   46  2020      Romania              10.107584  0.825162  67.207237   \n",
       "75.0  114  2020      Nigeria               8.576625  0.737217  49.861908   \n",
       "\n",
       "       freedom  generosity  corruption  y_actual  y_predicted  \n",
       "0.0   0.733163    0.343199    0.690718       5.0          5.0  \n",
       "1.0   0.726496   -0.073676    0.843509       6.0          6.0  \n",
       "2.0   0.697000   -0.036000    0.827000       5.0          5.0  \n",
       "3.0   0.905856    0.133729    0.739347       7.0          7.0  \n",
       "4.0   0.719000   -0.149000    0.847000       5.0          5.0  \n",
       "...        ...         ...         ...       ...          ...  \n",
       "71.0  0.672000   -0.083000    0.727000       6.0          7.0  \n",
       "72.0  0.804000   -0.071000    0.756000       7.0          6.0  \n",
       "73.0  0.780000    0.038000    0.729000       4.0          4.0  \n",
       "74.0  0.842823   -0.197815    0.934300       7.0          6.0  \n",
       "75.0  0.759578    0.033746    0.861874       5.0          5.0  \n",
       "\n",
       "[76 rows x 11 columns]"
      ],
      "text/html": "<div>\n<style scoped>\n    .dataframe tbody tr th:only-of-type {\n        vertical-align: middle;\n    }\n\n    .dataframe tbody tr th {\n        vertical-align: top;\n    }\n\n    .dataframe thead th {\n        text-align: right;\n    }\n</style>\n<table border=\"1\" class=\"dataframe\">\n  <thead>\n    <tr style=\"text-align: right;\">\n      <th></th>\n      <th>id</th>\n      <th>year</th>\n      <th>country</th>\n      <th>logged_GDP_per_capita</th>\n      <th>support</th>\n      <th>life_exp</th>\n      <th>freedom</th>\n      <th>generosity</th>\n      <th>corruption</th>\n      <th>y_actual</th>\n      <th>y_predicted</th>\n    </tr>\n  </thead>\n  <tbody>\n    <tr>\n      <th>0.0</th>\n      <td>112</td>\n      <td>2020</td>\n      <td>Gambia</td>\n      <td>7.321815</td>\n      <td>0.693169</td>\n      <td>55.012016</td>\n      <td>0.733163</td>\n      <td>0.343199</td>\n      <td>0.690718</td>\n      <td>5.0</td>\n      <td>5.0</td>\n    </tr>\n    <tr>\n      <th>1.0</th>\n      <td>63</td>\n      <td>2020</td>\n      <td>Serbia</td>\n      <td>9.680981</td>\n      <td>0.881476</td>\n      <td>68.210205</td>\n      <td>0.726496</td>\n      <td>-0.073676</td>\n      <td>0.843509</td>\n      <td>6.0</td>\n      <td>6.0</td>\n    </tr>\n    <tr>\n      <th>2.0</th>\n      <td>269</td>\n      <td>2021</td>\n      <td>Mali</td>\n      <td>7.744000</td>\n      <td>0.724000</td>\n      <td>51.969000</td>\n      <td>0.697000</td>\n      <td>-0.036000</td>\n      <td>0.827000</td>\n      <td>5.0</td>\n      <td>5.0</td>\n    </tr>\n    <tr>\n      <th>3.0</th>\n      <td>39</td>\n      <td>2020</td>\n      <td>Bahrain</td>\n      <td>10.676380</td>\n      <td>0.876342</td>\n      <td>68.500000</td>\n      <td>0.905856</td>\n      <td>0.133729</td>\n      <td>0.739347</td>\n      <td>7.0</td>\n      <td>7.0</td>\n    </tr>\n    <tr>\n      <th>4.0</th>\n      <td>276</td>\n      <td>2021</td>\n      <td>Namibia</td>\n      <td>9.161000</td>\n      <td>0.818000</td>\n      <td>56.799000</td>\n      <td>0.719000</td>\n      <td>-0.149000</td>\n      <td>0.847000</td>\n      <td>5.0</td>\n      <td>5.0</td>\n    </tr>\n    <tr>\n      <th>...</th>\n      <td>...</td>\n      <td>...</td>\n      <td>...</td>\n      <td>...</td>\n      <td>...</td>\n      <td>...</td>\n      <td>...</td>\n      <td>...</td>\n      <td>...</td>\n      <td>...</td>\n      <td>...</td>\n    </tr>\n    <tr>\n      <th>71.0</th>\n      <td>214</td>\n      <td>2021</td>\n      <td>South Korea</td>\n      <td>10.651000</td>\n      <td>0.799000</td>\n      <td>73.900000</td>\n      <td>0.672000</td>\n      <td>-0.083000</td>\n      <td>0.727000</td>\n      <td>6.0</td>\n      <td>7.0</td>\n    </tr>\n    <tr>\n      <th>72.0</th>\n      <td>187</td>\n      <td>2021</td>\n      <td>Brazil</td>\n      <td>9.577000</td>\n      <td>0.882000</td>\n      <td>66.601000</td>\n      <td>0.804000</td>\n      <td>-0.071000</td>\n      <td>0.756000</td>\n      <td>7.0</td>\n      <td>6.0</td>\n    </tr>\n    <tr>\n      <th>73.0</th>\n      <td>296</td>\n      <td>2021</td>\n      <td>Malawi</td>\n      <td>6.958000</td>\n      <td>0.537000</td>\n      <td>57.948000</td>\n      <td>0.780000</td>\n      <td>0.038000</td>\n      <td>0.729000</td>\n      <td>4.0</td>\n      <td>4.0</td>\n    </tr>\n    <tr>\n      <th>74.0</th>\n      <td>46</td>\n      <td>2020</td>\n      <td>Romania</td>\n      <td>10.107584</td>\n      <td>0.825162</td>\n      <td>67.207237</td>\n      <td>0.842823</td>\n      <td>-0.197815</td>\n      <td>0.934300</td>\n      <td>7.0</td>\n      <td>6.0</td>\n    </tr>\n    <tr>\n      <th>75.0</th>\n      <td>114</td>\n      <td>2020</td>\n      <td>Nigeria</td>\n      <td>8.576625</td>\n      <td>0.737217</td>\n      <td>49.861908</td>\n      <td>0.759578</td>\n      <td>0.033746</td>\n      <td>0.861874</td>\n      <td>5.0</td>\n      <td>5.0</td>\n    </tr>\n  </tbody>\n</table>\n<p>76 rows × 11 columns</p>\n</div>"
     },
     "metadata": {},
     "execution_count": 17
    }
   ],
   "source": [
    "# Rename column 'index' to 'id'\n",
    "happy_postg_final_m2 = happy_postg_final_m2.rename({'index':'id'}, axis='columns')\n",
    "\n",
    "# Reorder column names\n",
    "happy_postg_final_m2 = happy_postg_final_m2[['id','year','country','logged_GDP_per_capita','support','life_exp','freedom','generosity','corruption', 'y_actual','y_predicted']]\n",
    "happy_postg_final_m2"
   ]
  },
  {
   "source": [
    "# Test for 1 set of X values\n"
   ],
   "cell_type": "markdown",
   "metadata": {}
  },
  {
   "source": [
    "# Test for 1 X_variables entry to get 1 y prediction\n",
    "\n",
    "# Index(['year', 'logged_GDP_per_capita', 'support', 'life_exp', 'freedom',\n",
    "#        'generosity', 'corruption'],\n",
    "#       dtype='object')\n",
    "\n",
    "yr = input\n",
    "GDP_per_cap = input\n",
    "logged_GDP_per_cap = natural log of GDP_per_cap\n",
    "support = input\n",
    "life_exp = input\n",
    "freedom = input\n",
    "gen = input\n",
    "corrupt = input\n",
    "\n",
    "X_inp = [yr, logged_GDP_per_cap, support, life_exp, freedom, gen, corrupt]\n",
    "\n",
    "\n",
    "\n",
    "\n",
    "\n",
    "X_input = [[ 0.        ,  0.16086818,  0.43462228,  0.24209131,  0.58697999,\n",
    "         0.73436565,  0.71028917]]\n",
    "\n",
    "predictions = loaded_model.predict(X_input)\n",
    "predictions"
   ],
   "cell_type": "markdown",
   "metadata": {}
  }
 ]
}