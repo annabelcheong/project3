{
 "metadata": {
  "language_info": {
   "codemirror_mode": {
    "name": "ipython",
    "version": 3
   },
   "file_extension": ".py",
   "mimetype": "text/x-python",
   "name": "python",
   "nbconvert_exporter": "python",
   "pygments_lexer": "ipython3",
   "version": "3.8.5"
  },
  "orig_nbformat": 2,
  "kernelspec": {
   "name": "python3",
   "display_name": "Python 3",
   "language": "python"
  }
 },
 "nbformat": 4,
 "nbformat_minor": 2,
 "cells": [
  {
   "source": [
    "# Random Forest"
   ],
   "cell_type": "markdown",
   "metadata": {}
  },
  {
   "cell_type": "code",
   "execution_count": 1,
   "metadata": {},
   "outputs": [],
   "source": [
    "# Retrieve variables from other jupyter notebook\n",
    "%store -r X_train_scaled\n",
    "%store -r X_test_scaled\n",
    "%store -r y_train\n",
    "%store -r y_test\n",
    "%store -r X_headings"
   ]
  },
  {
   "cell_type": "code",
   "execution_count": 11,
   "metadata": {},
   "outputs": [],
   "source": [
    "# Dependencies\n",
    "from sklearn.ensemble import RandomForestClassifier\n",
    "import pandas as pd"
   ]
  },
  {
   "cell_type": "code",
   "execution_count": 3,
   "metadata": {},
   "outputs": [
    {
     "output_type": "execute_result",
     "data": {
      "text/plain": [
       "0.7763157894736842"
      ]
     },
     "metadata": {},
     "execution_count": 3
    }
   ],
   "source": [
    "# Create a random forest classifier\n",
    "rf = RandomForestClassifier(n_estimators=770)\n",
    "rf = rf.fit(X_train_scaled, y_train)\n",
    "rf.score(X_test_scaled, y_test)"
   ]
  },
  {
   "source": [
    "# Save the model"
   ],
   "cell_type": "markdown",
   "metadata": {}
  },
  {
   "cell_type": "code",
   "execution_count": 9,
   "metadata": {},
   "outputs": [
    {
     "output_type": "execute_result",
     "data": {
      "text/plain": [
       "['Models/model2.sav']"
      ]
     },
     "metadata": {},
     "execution_count": 9
    }
   ],
   "source": [
    "# Save the svc model \n",
    "import joblib\n",
    "filename = 'Models/model2.sav'\n",
    "\n",
    "# Print file name\n",
    "joblib.dump(rf, filename)"
   ]
  },
  {
   "source": [
    "# Additional checks on feature importances (X variables)"
   ],
   "cell_type": "markdown",
   "metadata": {}
  },
  {
   "cell_type": "code",
   "execution_count": 5,
   "metadata": {},
   "outputs": [
    {
     "output_type": "execute_result",
     "data": {
      "text/plain": [
       "array([0.01214865, 0.19285596, 0.19896549, 0.17709008, 0.15510982,\n",
       "       0.11042743, 0.15340257])"
      ]
     },
     "metadata": {},
     "execution_count": 5
    }
   ],
   "source": [
    "# Random Forests in sklearn will automatically calculate feature importance\n",
    "importances = rf.feature_importances_\n",
    "importances"
   ]
  },
  {
   "cell_type": "code",
   "execution_count": 6,
   "metadata": {},
   "outputs": [
    {
     "output_type": "execute_result",
     "data": {
      "text/plain": [
       "Index(['year', 'logged_GDP_per_capita', 'support', 'life_exp', 'freedom',\n",
       "       'generosity', 'corruption'],\n",
       "      dtype='object')"
      ]
     },
     "metadata": {},
     "execution_count": 6
    }
   ],
   "source": [
    "X_headings"
   ]
  },
  {
   "cell_type": "code",
   "execution_count": 7,
   "metadata": {},
   "outputs": [
    {
     "output_type": "execute_result",
     "data": {
      "text/plain": [
       "[(0.19896549192950844, 'support'),\n",
       " (0.19285595893256546, 'logged_GDP_per_capita'),\n",
       " (0.17709008126225667, 'life_exp'),\n",
       " (0.15510981975672064, 'freedom'),\n",
       " (0.15340257355358683, 'corruption'),\n",
       " (0.11042742824818405, 'generosity'),\n",
       " (0.012148646317177988, 'year')]"
      ]
     },
     "metadata": {},
     "execution_count": 7
    }
   ],
   "source": [
    "sorted(zip(rf.feature_importances_,X_headings), reverse=True)"
   ]
  },
  {
   "cell_type": "code",
   "execution_count": 12,
   "metadata": {},
   "outputs": [
    {
     "output_type": "execute_result",
     "data": {
      "text/plain": [
       "     Prediction  Actual\n",
       "112           5       5\n",
       "63            6       6\n",
       "116           5       5\n",
       "39            7       7\n",
       "123           5       5\n",
       "..          ...     ...\n",
       "61            7       6\n",
       "34            6       7\n",
       "143           4       4\n",
       "46            6       7\n",
       "114           5       5\n",
       "\n",
       "[76 rows x 2 columns]"
      ],
      "text/html": "<div>\n<style scoped>\n    .dataframe tbody tr th:only-of-type {\n        vertical-align: middle;\n    }\n\n    .dataframe tbody tr th {\n        vertical-align: top;\n    }\n\n    .dataframe thead th {\n        text-align: right;\n    }\n</style>\n<table border=\"1\" class=\"dataframe\">\n  <thead>\n    <tr style=\"text-align: right;\">\n      <th></th>\n      <th>Prediction</th>\n      <th>Actual</th>\n    </tr>\n  </thead>\n  <tbody>\n    <tr>\n      <th>112</th>\n      <td>5</td>\n      <td>5</td>\n    </tr>\n    <tr>\n      <th>63</th>\n      <td>6</td>\n      <td>6</td>\n    </tr>\n    <tr>\n      <th>116</th>\n      <td>5</td>\n      <td>5</td>\n    </tr>\n    <tr>\n      <th>39</th>\n      <td>7</td>\n      <td>7</td>\n    </tr>\n    <tr>\n      <th>123</th>\n      <td>5</td>\n      <td>5</td>\n    </tr>\n    <tr>\n      <th>...</th>\n      <td>...</td>\n      <td>...</td>\n    </tr>\n    <tr>\n      <th>61</th>\n      <td>7</td>\n      <td>6</td>\n    </tr>\n    <tr>\n      <th>34</th>\n      <td>6</td>\n      <td>7</td>\n    </tr>\n    <tr>\n      <th>143</th>\n      <td>4</td>\n      <td>4</td>\n    </tr>\n    <tr>\n      <th>46</th>\n      <td>6</td>\n      <td>7</td>\n    </tr>\n    <tr>\n      <th>114</th>\n      <td>5</td>\n      <td>5</td>\n    </tr>\n  </tbody>\n</table>\n<p>76 rows × 2 columns</p>\n</div>"
     },
     "metadata": {},
     "execution_count": 12
    }
   ],
   "source": [
    "# Test saved model loads smoothly\n",
    "loaded_model = joblib.load('Models/model2.sav')\n",
    "\n",
    "predictions = loaded_model.predict(X_test_scaled)\n",
    "pd.DataFrame({\"Prediction\": predictions, \"Actual\": y_test})"
   ]
  }
 ]
}