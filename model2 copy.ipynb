{
 "metadata": {
  "language_info": {
   "codemirror_mode": {
    "name": "ipython",
    "version": 3
   },
   "file_extension": ".py",
   "mimetype": "text/x-python",
   "name": "python",
   "nbconvert_exporter": "python",
   "pygments_lexer": "ipython3",
   "version": "3.6.10"
  },
  "orig_nbformat": 2,
  "kernelspec": {
   "name": "python3",
   "display_name": "Python 3",
   "language": "python"
  }
 },
 "nbformat": 4,
 "nbformat_minor": 2,
 "cells": [
  {
   "source": [
    "# Random Forest (Model2)\n",
    "    - Final Dataframe: happy_postg_final_m2"
   ],
   "cell_type": "markdown",
   "metadata": {}
  },
  {
   "cell_type": "code",
   "execution_count": 74,
   "metadata": {},
   "outputs": [],
   "source": [
    "# Dependencies\n",
    "from sklearn.ensemble import RandomForestClassifier\n",
    "import pandas as pd\n",
    "from sklearn.preprocessing import MinMaxScaler\n",
    "import joblib # library used to save files\n",
    "import json # convert to json format (preparation test code for app.py)"
   ]
  },
  {
   "cell_type": "code",
   "execution_count": 75,
   "metadata": {},
   "outputs": [],
   "source": [
    "# Retrieve variables from other jupyter notebook\n",
    "%store -r happy_postg\n",
    "%store -r X_train_scaled\n",
    "%store -r X_test_scaled\n",
    "%store -r y_train\n",
    "%store -r y_test\n",
    "%store -r X_headings\n",
    "%store -r X_scaler\n",
    "\n",
    "%store -r X_train\n",
    "%store -r X_test"
   ]
  },
  {
   "cell_type": "code",
   "execution_count": 53,
   "metadata": {},
   "outputs": [
    {
     "output_type": "execute_result",
     "data": {
      "text/plain": [
       "3      8\n",
       "127    5\n",
       "249    6\n",
       "1      8\n",
       "245    6\n",
       "      ..\n",
       "70     6\n",
       "132    5\n",
       "289    5\n",
       "109    5\n",
       "176    7\n",
       "Name: score, Length: 226, dtype: int64"
      ]
     },
     "metadata": {},
     "execution_count": 53
    }
   ],
   "source": [
    "# Test to ensure variables are retrived\n",
    "y_train"
   ]
  },
  {
   "source": [
    "- ## Model: variable 'rf'\n",
    "- ## Accuracy of model \n",
    "- ## Save Model: model2.sav"
   ],
   "cell_type": "markdown",
   "metadata": {}
  },
  {
   "cell_type": "code",
   "execution_count": 4,
   "metadata": {},
   "outputs": [
    {
     "output_type": "execute_result",
     "data": {
      "text/plain": [
       "0.7631578947368421"
      ]
     },
     "metadata": {},
     "execution_count": 4
    }
   ],
   "source": [
    "# Create a random forest classifier (model)\n",
    "rf = RandomForestClassifier(n_estimators=770)\n",
    "rf = rf.fit(X_train_scaled, y_train)\n",
    "\n",
    "# Accuracy of model\n",
    "rf.score(X_test_scaled, y_test)"
   ]
  },
  {
   "cell_type": "code",
   "execution_count": 49,
   "metadata": {},
   "outputs": [
    {
     "output_type": "error",
     "ename": "NameError",
     "evalue": "name 'rf' is not defined",
     "traceback": [
      "\u001b[0;31m---------------------------------------------------------------------------\u001b[0m",
      "\u001b[0;31mNameError\u001b[0m                                 Traceback (most recent call last)",
      "\u001b[0;32m<ipython-input-49-eabe4ada37f0>\u001b[0m in \u001b[0;36m<module>\u001b[0;34m\u001b[0m\n\u001b[1;32m      4\u001b[0m \u001b[0;34m\u001b[0m\u001b[0m\n\u001b[1;32m      5\u001b[0m \u001b[0;31m# Print file name\u001b[0m\u001b[0;34m\u001b[0m\u001b[0;34m\u001b[0m\u001b[0;34m\u001b[0m\u001b[0m\n\u001b[0;32m----> 6\u001b[0;31m \u001b[0mjoblib\u001b[0m\u001b[0;34m.\u001b[0m\u001b[0mdump\u001b[0m\u001b[0;34m(\u001b[0m\u001b[0mrf\u001b[0m\u001b[0;34m,\u001b[0m \u001b[0mfilename\u001b[0m\u001b[0;34m)\u001b[0m\u001b[0;34m\u001b[0m\u001b[0;34m\u001b[0m\u001b[0m\n\u001b[0m",
      "\u001b[0;31mNameError\u001b[0m: name 'rf' is not defined"
     ]
    }
   ],
   "source": [
    "# Save the Random Forest model \n",
    "filename = 'Models/model2.sav'\n",
    "\n",
    "# Print file name\n",
    "joblib.dump(rf, filename)"
   ]
  },
  {
   "source": [
    "## Feature importances (X variables) via Random Forest"
   ],
   "cell_type": "markdown",
   "metadata": {}
  },
  {
   "cell_type": "code",
   "execution_count": 54,
   "metadata": {},
   "outputs": [
    {
     "output_type": "error",
     "ename": "NameError",
     "evalue": "name 'rf' is not defined",
     "traceback": [
      "\u001b[0;31m---------------------------------------------------------------------------\u001b[0m",
      "\u001b[0;31mNameError\u001b[0m                                 Traceback (most recent call last)",
      "\u001b[0;32m<ipython-input-54-bab925464f38>\u001b[0m in \u001b[0;36m<module>\u001b[0;34m\u001b[0m\n\u001b[1;32m      1\u001b[0m \u001b[0;31m# Random Forests in sklearn will automatically calculate feature importance\u001b[0m\u001b[0;34m\u001b[0m\u001b[0;34m\u001b[0m\u001b[0;34m\u001b[0m\u001b[0m\n\u001b[0;32m----> 2\u001b[0;31m \u001b[0mimportances\u001b[0m \u001b[0;34m=\u001b[0m \u001b[0mrf\u001b[0m\u001b[0;34m.\u001b[0m\u001b[0mfeature_importances_\u001b[0m\u001b[0;34m\u001b[0m\u001b[0;34m\u001b[0m\u001b[0m\n\u001b[0m\u001b[1;32m      3\u001b[0m \u001b[0mimportances\u001b[0m\u001b[0;34m\u001b[0m\u001b[0;34m\u001b[0m\u001b[0m\n",
      "\u001b[0;31mNameError\u001b[0m: name 'rf' is not defined"
     ]
    }
   ],
   "source": [
    "# Random Forests in sklearn will automatically calculate feature importance\n",
    "importances = rf.feature_importances_\n",
    "importances"
   ]
  },
  {
   "cell_type": "code",
   "execution_count": 7,
   "metadata": {},
   "outputs": [
    {
     "output_type": "execute_result",
     "data": {
      "text/plain": [
       "Index(['year', 'logged_GDP_per_capita', 'support', 'life_exp', 'freedom',\n",
       "       'generosity', 'corruption'],\n",
       "      dtype='object')"
      ]
     },
     "metadata": {},
     "execution_count": 7
    }
   ],
   "source": [
    "# Match importances with headings below (in that specific order)\n",
    "X_headings"
   ]
  },
  {
   "cell_type": "code",
   "execution_count": 8,
   "metadata": {},
   "outputs": [
    {
     "output_type": "execute_result",
     "data": {
      "text/plain": [
       "[(0.19987537671784644, 'support'),\n",
       " (0.19585595270283346, 'logged_GDP_per_capita'),\n",
       " (0.17834300178411563, 'life_exp'),\n",
       " (0.1533934899366418, 'freedom'),\n",
       " (0.14759642512932394, 'corruption'),\n",
       " (0.11252277651550291, 'generosity'),\n",
       " (0.01241297721373579, 'year')]"
      ]
     },
     "metadata": {},
     "execution_count": 8
    }
   ],
   "source": [
    "# Feature importance and X_headings in an array\n",
    "sorted(zip(rf.feature_importances_,X_headings), reverse=True)"
   ]
  },
  {
   "source": [
    "# **** ML_TABLE: X_VARIABLES, Y PREDICTED, Y ACTUAL SCORES ****"
   ],
   "cell_type": "markdown",
   "metadata": {}
  },
  {
   "source": [
    "## Dataframe 'y_test_all_m2': contains y_actual and y_predicted scores"
   ],
   "cell_type": "markdown",
   "metadata": {}
  },
  {
   "cell_type": "code",
   "execution_count": 76,
   "metadata": {},
   "outputs": [
    {
     "output_type": "execute_result",
     "data": {
      "text/plain": [
       "     y_actual  y_predicted\n",
       "112         5            5\n",
       "63          6            6\n",
       "269         5            5\n",
       "39          7            7\n",
       "276         5            5\n",
       "..        ...          ...\n",
       "214         6            7\n",
       "187         7            6\n",
       "296         4            4\n",
       "46          7            6\n",
       "114         5            5\n",
       "\n",
       "[76 rows x 2 columns]"
      ],
      "text/html": "<div>\n<style scoped>\n    .dataframe tbody tr th:only-of-type {\n        vertical-align: middle;\n    }\n\n    .dataframe tbody tr th {\n        vertical-align: top;\n    }\n\n    .dataframe thead th {\n        text-align: right;\n    }\n</style>\n<table border=\"1\" class=\"dataframe\">\n  <thead>\n    <tr style=\"text-align: right;\">\n      <th></th>\n      <th>y_actual</th>\n      <th>y_predicted</th>\n    </tr>\n  </thead>\n  <tbody>\n    <tr>\n      <th>112</th>\n      <td>5</td>\n      <td>5</td>\n    </tr>\n    <tr>\n      <th>63</th>\n      <td>6</td>\n      <td>6</td>\n    </tr>\n    <tr>\n      <th>269</th>\n      <td>5</td>\n      <td>5</td>\n    </tr>\n    <tr>\n      <th>39</th>\n      <td>7</td>\n      <td>7</td>\n    </tr>\n    <tr>\n      <th>276</th>\n      <td>5</td>\n      <td>5</td>\n    </tr>\n    <tr>\n      <th>...</th>\n      <td>...</td>\n      <td>...</td>\n    </tr>\n    <tr>\n      <th>214</th>\n      <td>6</td>\n      <td>7</td>\n    </tr>\n    <tr>\n      <th>187</th>\n      <td>7</td>\n      <td>6</td>\n    </tr>\n    <tr>\n      <th>296</th>\n      <td>4</td>\n      <td>4</td>\n    </tr>\n    <tr>\n      <th>46</th>\n      <td>7</td>\n      <td>6</td>\n    </tr>\n    <tr>\n      <th>114</th>\n      <td>5</td>\n      <td>5</td>\n    </tr>\n  </tbody>\n</table>\n<p>76 rows × 2 columns</p>\n</div>"
     },
     "metadata": {},
     "execution_count": 76
    }
   ],
   "source": [
    "# Test saved model loads smoothly\n",
    "loaded_model = joblib.load('Models/model2.sav')\n",
    "\n",
    "# Predict based on model2\n",
    "predictions = loaded_model.predict(X_test_scaled)\n",
    "\n",
    "# Put y_actual, y_predicted into dataframe\n",
    "y_test_all_m2 = pd.DataFrame({\"y_actual\": y_test, \"y_predicted\": predictions})\n",
    "y_test_all_m2"
   ]
  },
  {
   "cell_type": "code",
   "execution_count": 51,
   "metadata": {},
   "outputs": [],
   "source": [
    "# Reset index. (Next step after this to merge happy_postg to y_test_all_m2)\n",
    "y_test_all_m2 = y_test_all_m2.reset_index()"
   ]
  },
  {
   "source": [
    "## Merge dataframes:\n",
    "    - final dataframe: happy_postg_final_m2\n",
    "- happy_postg (X_variable values) with \n",
    "- y_test_all_m2 (y_actual values, y_predicted values)\n",
    "\n"
   ],
   "cell_type": "markdown",
   "metadata": {}
  },
  {
   "cell_type": "code",
   "execution_count": 11,
   "metadata": {},
   "outputs": [
    {
     "output_type": "execute_result",
     "data": {
      "text/plain": [
       "      year      country  logged_GDP_per_capita   support   life_exp   freedom  \\\n",
       "0.0   2020       Gambia               7.321815  0.693169  55.012016  0.733163   \n",
       "1.0   2020       Serbia               9.680981  0.881476  68.210205  0.726496   \n",
       "2.0   2021         Mali               7.744000  0.724000  51.969000  0.697000   \n",
       "3.0   2020      Bahrain              10.676380  0.876342  68.500000  0.905856   \n",
       "4.0   2021      Namibia               9.161000  0.818000  56.799000  0.719000   \n",
       "...    ...          ...                    ...       ...        ...       ...   \n",
       "71.0  2021  South Korea              10.651000  0.799000  73.900000  0.672000   \n",
       "72.0  2021       Brazil               9.577000  0.882000  66.601000  0.804000   \n",
       "73.0  2021       Malawi               6.958000  0.537000  57.948000  0.780000   \n",
       "74.0  2020      Romania              10.107584  0.825162  67.207237  0.842823   \n",
       "75.0  2020      Nigeria               8.576625  0.737217  49.861908  0.759578   \n",
       "\n",
       "      generosity  corruption  score  index  y_actual  y_predicted  \n",
       "0.0     0.343199    0.690718    5.0    112       5.0          5.0  \n",
       "1.0    -0.073676    0.843509    6.0     63       6.0          6.0  \n",
       "2.0    -0.036000    0.827000    5.0    269       5.0          5.0  \n",
       "3.0     0.133729    0.739347    7.0     39       7.0          7.0  \n",
       "4.0    -0.149000    0.847000    5.0    276       5.0          5.0  \n",
       "...          ...         ...    ...    ...       ...          ...  \n",
       "71.0   -0.083000    0.727000    6.0    214       6.0          7.0  \n",
       "72.0   -0.071000    0.756000    7.0    187       7.0          6.0  \n",
       "73.0    0.038000    0.729000    4.0    296       4.0          4.0  \n",
       "74.0   -0.197815    0.934300    7.0     46       7.0          6.0  \n",
       "75.0    0.033746    0.861874    5.0    114       5.0          5.0  \n",
       "\n",
       "[76 rows x 12 columns]"
      ],
      "text/html": "<div>\n<style scoped>\n    .dataframe tbody tr th:only-of-type {\n        vertical-align: middle;\n    }\n\n    .dataframe tbody tr th {\n        vertical-align: top;\n    }\n\n    .dataframe thead th {\n        text-align: right;\n    }\n</style>\n<table border=\"1\" class=\"dataframe\">\n  <thead>\n    <tr style=\"text-align: right;\">\n      <th></th>\n      <th>year</th>\n      <th>country</th>\n      <th>logged_GDP_per_capita</th>\n      <th>support</th>\n      <th>life_exp</th>\n      <th>freedom</th>\n      <th>generosity</th>\n      <th>corruption</th>\n      <th>score</th>\n      <th>index</th>\n      <th>y_actual</th>\n      <th>y_predicted</th>\n    </tr>\n  </thead>\n  <tbody>\n    <tr>\n      <th>0.0</th>\n      <td>2020</td>\n      <td>Gambia</td>\n      <td>7.321815</td>\n      <td>0.693169</td>\n      <td>55.012016</td>\n      <td>0.733163</td>\n      <td>0.343199</td>\n      <td>0.690718</td>\n      <td>5.0</td>\n      <td>112</td>\n      <td>5.0</td>\n      <td>5.0</td>\n    </tr>\n    <tr>\n      <th>1.0</th>\n      <td>2020</td>\n      <td>Serbia</td>\n      <td>9.680981</td>\n      <td>0.881476</td>\n      <td>68.210205</td>\n      <td>0.726496</td>\n      <td>-0.073676</td>\n      <td>0.843509</td>\n      <td>6.0</td>\n      <td>63</td>\n      <td>6.0</td>\n      <td>6.0</td>\n    </tr>\n    <tr>\n      <th>2.0</th>\n      <td>2021</td>\n      <td>Mali</td>\n      <td>7.744000</td>\n      <td>0.724000</td>\n      <td>51.969000</td>\n      <td>0.697000</td>\n      <td>-0.036000</td>\n      <td>0.827000</td>\n      <td>5.0</td>\n      <td>269</td>\n      <td>5.0</td>\n      <td>5.0</td>\n    </tr>\n    <tr>\n      <th>3.0</th>\n      <td>2020</td>\n      <td>Bahrain</td>\n      <td>10.676380</td>\n      <td>0.876342</td>\n      <td>68.500000</td>\n      <td>0.905856</td>\n      <td>0.133729</td>\n      <td>0.739347</td>\n      <td>7.0</td>\n      <td>39</td>\n      <td>7.0</td>\n      <td>7.0</td>\n    </tr>\n    <tr>\n      <th>4.0</th>\n      <td>2021</td>\n      <td>Namibia</td>\n      <td>9.161000</td>\n      <td>0.818000</td>\n      <td>56.799000</td>\n      <td>0.719000</td>\n      <td>-0.149000</td>\n      <td>0.847000</td>\n      <td>5.0</td>\n      <td>276</td>\n      <td>5.0</td>\n      <td>5.0</td>\n    </tr>\n    <tr>\n      <th>...</th>\n      <td>...</td>\n      <td>...</td>\n      <td>...</td>\n      <td>...</td>\n      <td>...</td>\n      <td>...</td>\n      <td>...</td>\n      <td>...</td>\n      <td>...</td>\n      <td>...</td>\n      <td>...</td>\n      <td>...</td>\n    </tr>\n    <tr>\n      <th>71.0</th>\n      <td>2021</td>\n      <td>South Korea</td>\n      <td>10.651000</td>\n      <td>0.799000</td>\n      <td>73.900000</td>\n      <td>0.672000</td>\n      <td>-0.083000</td>\n      <td>0.727000</td>\n      <td>6.0</td>\n      <td>214</td>\n      <td>6.0</td>\n      <td>7.0</td>\n    </tr>\n    <tr>\n      <th>72.0</th>\n      <td>2021</td>\n      <td>Brazil</td>\n      <td>9.577000</td>\n      <td>0.882000</td>\n      <td>66.601000</td>\n      <td>0.804000</td>\n      <td>-0.071000</td>\n      <td>0.756000</td>\n      <td>7.0</td>\n      <td>187</td>\n      <td>7.0</td>\n      <td>6.0</td>\n    </tr>\n    <tr>\n      <th>73.0</th>\n      <td>2021</td>\n      <td>Malawi</td>\n      <td>6.958000</td>\n      <td>0.537000</td>\n      <td>57.948000</td>\n      <td>0.780000</td>\n      <td>0.038000</td>\n      <td>0.729000</td>\n      <td>4.0</td>\n      <td>296</td>\n      <td>4.0</td>\n      <td>4.0</td>\n    </tr>\n    <tr>\n      <th>74.0</th>\n      <td>2020</td>\n      <td>Romania</td>\n      <td>10.107584</td>\n      <td>0.825162</td>\n      <td>67.207237</td>\n      <td>0.842823</td>\n      <td>-0.197815</td>\n      <td>0.934300</td>\n      <td>7.0</td>\n      <td>46</td>\n      <td>7.0</td>\n      <td>6.0</td>\n    </tr>\n    <tr>\n      <th>75.0</th>\n      <td>2020</td>\n      <td>Nigeria</td>\n      <td>8.576625</td>\n      <td>0.737217</td>\n      <td>49.861908</td>\n      <td>0.759578</td>\n      <td>0.033746</td>\n      <td>0.861874</td>\n      <td>5.0</td>\n      <td>114</td>\n      <td>5.0</td>\n      <td>5.0</td>\n    </tr>\n  </tbody>\n</table>\n<p>76 rows × 12 columns</p>\n</div>"
     },
     "metadata": {},
     "execution_count": 11
    }
   ],
   "source": [
    "# Merge 'happy_postg' on index with 'y_test_all_m2' on column name 'index'. (join=outer)\n",
    "happy_postg_final_m2 = pd.merge(happy_postg,y_test_all_m2, how=\"outer\", left_index=True, right_on=\"index\")\n",
    "# Clean up data\n",
    "happy_postg_final_m2 = happy_postg_final_m2.dropna()\n",
    "happy_postg_final_m2 = happy_postg_final_m2.sort_index()\n",
    "happy_postg_final_m2"
   ]
  },
  {
   "cell_type": "code",
   "execution_count": 13,
   "metadata": {},
   "outputs": [
    {
     "output_type": "execute_result",
     "data": {
      "text/plain": [
       "       id  year      country  logged_gdp_per_capita   support   life_exp  \\\n",
       "0.0   112  2020       Gambia               7.321815  0.693169  55.012016   \n",
       "1.0    63  2020       Serbia               9.680981  0.881476  68.210205   \n",
       "2.0   269  2021         Mali               7.744000  0.724000  51.969000   \n",
       "3.0    39  2020      Bahrain              10.676380  0.876342  68.500000   \n",
       "4.0   276  2021      Namibia               9.161000  0.818000  56.799000   \n",
       "...   ...   ...          ...                    ...       ...        ...   \n",
       "71.0  214  2021  South Korea              10.651000  0.799000  73.900000   \n",
       "72.0  187  2021       Brazil               9.577000  0.882000  66.601000   \n",
       "73.0  296  2021       Malawi               6.958000  0.537000  57.948000   \n",
       "74.0   46  2020      Romania              10.107584  0.825162  67.207237   \n",
       "75.0  114  2020      Nigeria               8.576625  0.737217  49.861908   \n",
       "\n",
       "       freedom  generosity  corruption  y_actual  y_predicted  \n",
       "0.0   0.733163    0.343199    0.690718       5.0          5.0  \n",
       "1.0   0.726496   -0.073676    0.843509       6.0          6.0  \n",
       "2.0   0.697000   -0.036000    0.827000       5.0          5.0  \n",
       "3.0   0.905856    0.133729    0.739347       7.0          7.0  \n",
       "4.0   0.719000   -0.149000    0.847000       5.0          5.0  \n",
       "...        ...         ...         ...       ...          ...  \n",
       "71.0  0.672000   -0.083000    0.727000       6.0          7.0  \n",
       "72.0  0.804000   -0.071000    0.756000       7.0          6.0  \n",
       "73.0  0.780000    0.038000    0.729000       4.0          4.0  \n",
       "74.0  0.842823   -0.197815    0.934300       7.0          6.0  \n",
       "75.0  0.759578    0.033746    0.861874       5.0          5.0  \n",
       "\n",
       "[76 rows x 11 columns]"
      ],
      "text/html": "<div>\n<style scoped>\n    .dataframe tbody tr th:only-of-type {\n        vertical-align: middle;\n    }\n\n    .dataframe tbody tr th {\n        vertical-align: top;\n    }\n\n    .dataframe thead th {\n        text-align: right;\n    }\n</style>\n<table border=\"1\" class=\"dataframe\">\n  <thead>\n    <tr style=\"text-align: right;\">\n      <th></th>\n      <th>id</th>\n      <th>year</th>\n      <th>country</th>\n      <th>logged_gdp_per_capita</th>\n      <th>support</th>\n      <th>life_exp</th>\n      <th>freedom</th>\n      <th>generosity</th>\n      <th>corruption</th>\n      <th>y_actual</th>\n      <th>y_predicted</th>\n    </tr>\n  </thead>\n  <tbody>\n    <tr>\n      <th>0.0</th>\n      <td>112</td>\n      <td>2020</td>\n      <td>Gambia</td>\n      <td>7.321815</td>\n      <td>0.693169</td>\n      <td>55.012016</td>\n      <td>0.733163</td>\n      <td>0.343199</td>\n      <td>0.690718</td>\n      <td>5.0</td>\n      <td>5.0</td>\n    </tr>\n    <tr>\n      <th>1.0</th>\n      <td>63</td>\n      <td>2020</td>\n      <td>Serbia</td>\n      <td>9.680981</td>\n      <td>0.881476</td>\n      <td>68.210205</td>\n      <td>0.726496</td>\n      <td>-0.073676</td>\n      <td>0.843509</td>\n      <td>6.0</td>\n      <td>6.0</td>\n    </tr>\n    <tr>\n      <th>2.0</th>\n      <td>269</td>\n      <td>2021</td>\n      <td>Mali</td>\n      <td>7.744000</td>\n      <td>0.724000</td>\n      <td>51.969000</td>\n      <td>0.697000</td>\n      <td>-0.036000</td>\n      <td>0.827000</td>\n      <td>5.0</td>\n      <td>5.0</td>\n    </tr>\n    <tr>\n      <th>3.0</th>\n      <td>39</td>\n      <td>2020</td>\n      <td>Bahrain</td>\n      <td>10.676380</td>\n      <td>0.876342</td>\n      <td>68.500000</td>\n      <td>0.905856</td>\n      <td>0.133729</td>\n      <td>0.739347</td>\n      <td>7.0</td>\n      <td>7.0</td>\n    </tr>\n    <tr>\n      <th>4.0</th>\n      <td>276</td>\n      <td>2021</td>\n      <td>Namibia</td>\n      <td>9.161000</td>\n      <td>0.818000</td>\n      <td>56.799000</td>\n      <td>0.719000</td>\n      <td>-0.149000</td>\n      <td>0.847000</td>\n      <td>5.0</td>\n      <td>5.0</td>\n    </tr>\n    <tr>\n      <th>...</th>\n      <td>...</td>\n      <td>...</td>\n      <td>...</td>\n      <td>...</td>\n      <td>...</td>\n      <td>...</td>\n      <td>...</td>\n      <td>...</td>\n      <td>...</td>\n      <td>...</td>\n      <td>...</td>\n    </tr>\n    <tr>\n      <th>71.0</th>\n      <td>214</td>\n      <td>2021</td>\n      <td>South Korea</td>\n      <td>10.651000</td>\n      <td>0.799000</td>\n      <td>73.900000</td>\n      <td>0.672000</td>\n      <td>-0.083000</td>\n      <td>0.727000</td>\n      <td>6.0</td>\n      <td>7.0</td>\n    </tr>\n    <tr>\n      <th>72.0</th>\n      <td>187</td>\n      <td>2021</td>\n      <td>Brazil</td>\n      <td>9.577000</td>\n      <td>0.882000</td>\n      <td>66.601000</td>\n      <td>0.804000</td>\n      <td>-0.071000</td>\n      <td>0.756000</td>\n      <td>7.0</td>\n      <td>6.0</td>\n    </tr>\n    <tr>\n      <th>73.0</th>\n      <td>296</td>\n      <td>2021</td>\n      <td>Malawi</td>\n      <td>6.958000</td>\n      <td>0.537000</td>\n      <td>57.948000</td>\n      <td>0.780000</td>\n      <td>0.038000</td>\n      <td>0.729000</td>\n      <td>4.0</td>\n      <td>4.0</td>\n    </tr>\n    <tr>\n      <th>74.0</th>\n      <td>46</td>\n      <td>2020</td>\n      <td>Romania</td>\n      <td>10.107584</td>\n      <td>0.825162</td>\n      <td>67.207237</td>\n      <td>0.842823</td>\n      <td>-0.197815</td>\n      <td>0.934300</td>\n      <td>7.0</td>\n      <td>6.0</td>\n    </tr>\n    <tr>\n      <th>75.0</th>\n      <td>114</td>\n      <td>2020</td>\n      <td>Nigeria</td>\n      <td>8.576625</td>\n      <td>0.737217</td>\n      <td>49.861908</td>\n      <td>0.759578</td>\n      <td>0.033746</td>\n      <td>0.861874</td>\n      <td>5.0</td>\n      <td>5.0</td>\n    </tr>\n  </tbody>\n</table>\n<p>76 rows × 11 columns</p>\n</div>"
     },
     "metadata": {},
     "execution_count": 13
    }
   ],
   "source": [
    "## Further clean up of data ##\n",
    "\n",
    "# Rename column 'index' to 'id'\n",
    "happy_postg_final_m2 = happy_postg_final_m2.rename({'index':'id','logged_GDP_per_capita':'logged_gdp_per_capita'}, axis='columns')\n",
    "\n",
    "# Reorder column names\n",
    "happy_postg_final_m2 = happy_postg_final_m2[['id','year','country','logged_gdp_per_capita','support','life_exp','freedom','generosity','corruption', 'y_actual','y_predicted']]\n",
    "happy_postg_final_m2"
   ]
  },
  {
   "source": [
    "# LOAD to PostGRES"
   ],
   "cell_type": "markdown",
   "metadata": {}
  },
  {
   "source": [
    "### Ensure pgAdmin is set up and create a table in database in\n",
    "    - Develop environnment (PostGRES Database)\n",
    "    - Deploy environment (Heroku PostGRES Database)\n",
    "\n"
   ],
   "cell_type": "markdown",
   "metadata": {}
  },
  {
   "cell_type": "code",
   "execution_count": 37,
   "metadata": {},
   "outputs": [],
   "source": [
    "from sqlalchemy import create_engine\n",
    "\n",
    "# Choose state = develop OR state = deploy\n",
    "state = develop\n",
    "\n",
    "if state == \"develop\":\n",
    "    # Develop Environment - Connect to Local database \n",
    "    rds_connection_string = \"zrhfplbtdfzlsb:7a52354918a924ca23e8e6f09d7e221ec33c71c911e49ac91fef71daac2db1dc@ec2-54-74-14-109.eu-west-1.compute.amazonaws.com:5432/dasrk3uqfvvv2e\"\n",
    "\n",
    "elif state == \"deploy\":\n",
    "    # Deployment Environment - Connect to Heroku database \n",
    "    rds_connection_string = \"zrhfplbtdfzlsb:7a52354918a924ca23e8e6f09d7e221ec33c71c911e49ac91fef71daac2db1dc@ec2-54-74-14-109.eu-west-1.compute.amazonaws.com:5432/dasrk3uqfvvv2e\"\n",
    "\n",
    "engine = create_engine(f'postgresql://{rds_connection_string}')"
   ]
  },
  {
   "cell_type": "code",
   "execution_count": 38,
   "metadata": {},
   "outputs": [
    {
     "output_type": "execute_result",
     "data": {
      "text/plain": [
       "['happy_table_m2']"
      ]
     },
     "metadata": {},
     "execution_count": 38
    }
   ],
   "source": [
    "# Add table headings via pgAdmin as per schema\n",
    "\n",
    "# Run code to ensure connection is established and table has been created on postgres.\n",
    "engine.table_names()"
   ]
  },
  {
   "cell_type": "code",
   "execution_count": 35,
   "metadata": {},
   "outputs": [],
   "source": [
    "# Load dataframe (variable 'happy_postg_final_m2') into postgres database 'the_flow_db', in the table 'happy_table'\n",
    "happy_postg_final_m2.to_sql(name='happy_table_m2', con=engine, if_exists='append', index=False)"
   ]
  },
  {
   "cell_type": "code",
   "execution_count": 36,
   "metadata": {},
   "outputs": [
    {
     "output_type": "execute_result",
     "data": {
      "text/plain": [
       "     id  year      country  logged_gdp_per_capita   support   life_exp  \\\n",
       "0   112  2020       Gambia               7.321815  0.693169  55.012016   \n",
       "1    63  2020       Serbia               9.680981  0.881476  68.210205   \n",
       "2   269  2021         Mali               7.744000  0.724000  51.969000   \n",
       "3    39  2020      Bahrain              10.676380  0.876342  68.500000   \n",
       "4   276  2021      Namibia               9.161000  0.818000  56.799000   \n",
       "..  ...   ...          ...                    ...       ...        ...   \n",
       "71  214  2021  South Korea              10.651000  0.799000  73.900000   \n",
       "72  187  2021       Brazil               9.577000  0.882000  66.601000   \n",
       "73  296  2021       Malawi               6.958000  0.537000  57.948000   \n",
       "74   46  2020      Romania              10.107584  0.825162  67.207237   \n",
       "75  114  2020      Nigeria               8.576625  0.737217  49.861908   \n",
       "\n",
       "     freedom  generosity  corruption  y_actual  y_predicted  \n",
       "0   0.733163    0.343199    0.690718       5.0          5.0  \n",
       "1   0.726496   -0.073676    0.843509       6.0          6.0  \n",
       "2   0.697000   -0.036000    0.827000       5.0          5.0  \n",
       "3   0.905856    0.133729    0.739347       7.0          7.0  \n",
       "4   0.719000   -0.149000    0.847000       5.0          5.0  \n",
       "..       ...         ...         ...       ...          ...  \n",
       "71  0.672000   -0.083000    0.727000       6.0          7.0  \n",
       "72  0.804000   -0.071000    0.756000       7.0          6.0  \n",
       "73  0.780000    0.038000    0.729000       4.0          4.0  \n",
       "74  0.842823   -0.197815    0.934300       7.0          6.0  \n",
       "75  0.759578    0.033746    0.861874       5.0          5.0  \n",
       "\n",
       "[76 rows x 11 columns]"
      ],
      "text/html": "<div>\n<style scoped>\n    .dataframe tbody tr th:only-of-type {\n        vertical-align: middle;\n    }\n\n    .dataframe tbody tr th {\n        vertical-align: top;\n    }\n\n    .dataframe thead th {\n        text-align: right;\n    }\n</style>\n<table border=\"1\" class=\"dataframe\">\n  <thead>\n    <tr style=\"text-align: right;\">\n      <th></th>\n      <th>id</th>\n      <th>year</th>\n      <th>country</th>\n      <th>logged_gdp_per_capita</th>\n      <th>support</th>\n      <th>life_exp</th>\n      <th>freedom</th>\n      <th>generosity</th>\n      <th>corruption</th>\n      <th>y_actual</th>\n      <th>y_predicted</th>\n    </tr>\n  </thead>\n  <tbody>\n    <tr>\n      <th>0</th>\n      <td>112</td>\n      <td>2020</td>\n      <td>Gambia</td>\n      <td>7.321815</td>\n      <td>0.693169</td>\n      <td>55.012016</td>\n      <td>0.733163</td>\n      <td>0.343199</td>\n      <td>0.690718</td>\n      <td>5.0</td>\n      <td>5.0</td>\n    </tr>\n    <tr>\n      <th>1</th>\n      <td>63</td>\n      <td>2020</td>\n      <td>Serbia</td>\n      <td>9.680981</td>\n      <td>0.881476</td>\n      <td>68.210205</td>\n      <td>0.726496</td>\n      <td>-0.073676</td>\n      <td>0.843509</td>\n      <td>6.0</td>\n      <td>6.0</td>\n    </tr>\n    <tr>\n      <th>2</th>\n      <td>269</td>\n      <td>2021</td>\n      <td>Mali</td>\n      <td>7.744000</td>\n      <td>0.724000</td>\n      <td>51.969000</td>\n      <td>0.697000</td>\n      <td>-0.036000</td>\n      <td>0.827000</td>\n      <td>5.0</td>\n      <td>5.0</td>\n    </tr>\n    <tr>\n      <th>3</th>\n      <td>39</td>\n      <td>2020</td>\n      <td>Bahrain</td>\n      <td>10.676380</td>\n      <td>0.876342</td>\n      <td>68.500000</td>\n      <td>0.905856</td>\n      <td>0.133729</td>\n      <td>0.739347</td>\n      <td>7.0</td>\n      <td>7.0</td>\n    </tr>\n    <tr>\n      <th>4</th>\n      <td>276</td>\n      <td>2021</td>\n      <td>Namibia</td>\n      <td>9.161000</td>\n      <td>0.818000</td>\n      <td>56.799000</td>\n      <td>0.719000</td>\n      <td>-0.149000</td>\n      <td>0.847000</td>\n      <td>5.0</td>\n      <td>5.0</td>\n    </tr>\n    <tr>\n      <th>...</th>\n      <td>...</td>\n      <td>...</td>\n      <td>...</td>\n      <td>...</td>\n      <td>...</td>\n      <td>...</td>\n      <td>...</td>\n      <td>...</td>\n      <td>...</td>\n      <td>...</td>\n      <td>...</td>\n    </tr>\n    <tr>\n      <th>71</th>\n      <td>214</td>\n      <td>2021</td>\n      <td>South Korea</td>\n      <td>10.651000</td>\n      <td>0.799000</td>\n      <td>73.900000</td>\n      <td>0.672000</td>\n      <td>-0.083000</td>\n      <td>0.727000</td>\n      <td>6.0</td>\n      <td>7.0</td>\n    </tr>\n    <tr>\n      <th>72</th>\n      <td>187</td>\n      <td>2021</td>\n      <td>Brazil</td>\n      <td>9.577000</td>\n      <td>0.882000</td>\n      <td>66.601000</td>\n      <td>0.804000</td>\n      <td>-0.071000</td>\n      <td>0.756000</td>\n      <td>7.0</td>\n      <td>6.0</td>\n    </tr>\n    <tr>\n      <th>73</th>\n      <td>296</td>\n      <td>2021</td>\n      <td>Malawi</td>\n      <td>6.958000</td>\n      <td>0.537000</td>\n      <td>57.948000</td>\n      <td>0.780000</td>\n      <td>0.038000</td>\n      <td>0.729000</td>\n      <td>4.0</td>\n      <td>4.0</td>\n    </tr>\n    <tr>\n      <th>74</th>\n      <td>46</td>\n      <td>2020</td>\n      <td>Romania</td>\n      <td>10.107584</td>\n      <td>0.825162</td>\n      <td>67.207237</td>\n      <td>0.842823</td>\n      <td>-0.197815</td>\n      <td>0.934300</td>\n      <td>7.0</td>\n      <td>6.0</td>\n    </tr>\n    <tr>\n      <th>75</th>\n      <td>114</td>\n      <td>2020</td>\n      <td>Nigeria</td>\n      <td>8.576625</td>\n      <td>0.737217</td>\n      <td>49.861908</td>\n      <td>0.759578</td>\n      <td>0.033746</td>\n      <td>0.861874</td>\n      <td>5.0</td>\n      <td>5.0</td>\n    </tr>\n  </tbody>\n</table>\n<p>76 rows × 11 columns</p>\n</div>"
     },
     "metadata": {},
     "execution_count": 36
    }
   ],
   "source": [
    "##### CHECK LOAD WAS SUCCESSFUL #####\n",
    "# Run code to check connection is established and data is reading out from postgres database\n",
    "m2_table = pd.read_sql_table('happy_table_m2', engine) \n",
    "m2_table"
   ]
  },
  {
   "source": [
    "# For app.py: Code for Flask endpoints\n",
    "- ## PART 1: ml_table\n",
    "    - To ensure return of dataset is in json format\n",
    "- ## PART 2: predictScore\n",
    "    - Take user's input (set of X values)\n",
    "    - X-scale the X_train with user input\n",
    "    - Extract user input X scaled values\n",
    "    - Prediction of Happiness Score using model"
   ],
   "cell_type": "markdown",
   "metadata": {}
  },
  {
   "source": [
    "## PART 1: ml_table"
   ],
   "cell_type": "markdown",
   "metadata": {}
  },
  {
   "cell_type": "code",
   "execution_count": 1,
   "metadata": {},
   "outputs": [
    {
     "output_type": "error",
     "ename": "NameError",
     "evalue": "name 'json' is not defined",
     "traceback": [
      "\u001b[0;31m---------------------------------------------------------------------------\u001b[0m",
      "\u001b[0;31mNameError\u001b[0m                                 Traceback (most recent call last)",
      "\u001b[0;32m<ipython-input-1-2217d2436bf3>\u001b[0m in \u001b[0;36m<module>\u001b[0;34m\u001b[0m\n\u001b[1;32m      1\u001b[0m \u001b[0;31m# Convert to json format\u001b[0m\u001b[0;34m\u001b[0m\u001b[0;34m\u001b[0m\u001b[0;34m\u001b[0m\u001b[0m\n\u001b[0;32m----> 2\u001b[0;31m \u001b[0mm2_table_json\u001b[0m \u001b[0;34m=\u001b[0m \u001b[0mjson\u001b[0m\u001b[0;34m.\u001b[0m\u001b[0mdumps\u001b[0m\u001b[0;34m(\u001b[0m\u001b[0mjson\u001b[0m\u001b[0;34m.\u001b[0m\u001b[0mloads\u001b[0m\u001b[0;34m(\u001b[0m\u001b[0mm2_table\u001b[0m\u001b[0;34m.\u001b[0m\u001b[0mto_json\u001b[0m\u001b[0;34m(\u001b[0m\u001b[0morient\u001b[0m \u001b[0;34m=\u001b[0m \u001b[0;34m\"records\"\u001b[0m\u001b[0;34m)\u001b[0m\u001b[0;34m)\u001b[0m\u001b[0;34m,\u001b[0m \u001b[0mindent\u001b[0m\u001b[0;34m=\u001b[0m\u001b[0;36m4\u001b[0m\u001b[0;34m)\u001b[0m\u001b[0;34m\u001b[0m\u001b[0;34m\u001b[0m\u001b[0m\n\u001b[0m\u001b[1;32m      3\u001b[0m \u001b[0mm2_table_json\u001b[0m \u001b[0;34m=\u001b[0m \u001b[0mjson\u001b[0m\u001b[0;34m.\u001b[0m\u001b[0mloads\u001b[0m\u001b[0;34m(\u001b[0m\u001b[0mm2_table_json\u001b[0m\u001b[0;34m)\u001b[0m\u001b[0;34m\u001b[0m\u001b[0;34m\u001b[0m\u001b[0m\n\u001b[1;32m      4\u001b[0m \u001b[0;31m# m2_table_json\u001b[0m\u001b[0;34m\u001b[0m\u001b[0;34m\u001b[0m\u001b[0;34m\u001b[0m\u001b[0m\n",
      "\u001b[0;31mNameError\u001b[0m: name 'json' is not defined"
     ]
    }
   ],
   "source": [
    "# Convert to json format \n",
    "m2_table_json = json.dumps(json.loads(m2_table.to_json(orient = \"records\")), indent=4)\n",
    "m2_table_json = json.loads(m2_table_json)\n",
    "# m2_table_json"
   ]
  },
  {
   "source": [
    "- ## PART 2: predictScore (Happiness Score Prediction) \n",
    "    - Take user's input (set of X values)\n",
    "    - X-scale the X_train with user input\n",
    "    - Extract user input X scaled values\n",
    "    - Prediction of Happiness Score using model"
   ],
   "cell_type": "markdown",
   "metadata": {}
  },
  {
   "source": [
    "- Test for 1 X_variables dataset entry to get 1 y prediction\n",
    "\n",
    "yr = input\n",
    "GDP_per_cap = input\n",
    "logged_GDP_per_cap = natural log of GDP_per_cap\n",
    "support = input\n",
    "life_exp = input\n",
    "freedom = input\n",
    "gen = input\n",
    "corrupt = input\n",
    "\n",
    "X_inp = [yr, logged_GDP_per_cap, support, life_exp, freedom, gen, corrupt]\n",
    "\n",
    "\n",
    "\n",
    "\n",
    "\n",
    "X_input = [[ 0.        ,  0.16086818,  0.43462228,  0.24209131,  0.58697999,\n",
    "         0.73436565,  0.71028917]]\n",
    "\n",
    "predictions = loaded_model.predict(X_input)\n",
    "predictions"
   ],
   "cell_type": "markdown",
   "metadata": {}
  },
  {
   "cell_type": "code",
   "execution_count": null,
   "metadata": {},
   "outputs": [],
   "source": [
    "# Dependencies for app.py\n",
    "import joblib"
   ]
  },
  {
   "cell_type": "code",
   "execution_count": 78,
   "metadata": {},
   "outputs": [],
   "source": [
    "# Test saved model loads smoothly\n",
    "loaded_model2 = joblib.load('Models/model2.sav')"
   ]
  },
  {
   "source": [
    "## Prepare X_train dataset to be loaded to PostGRES. \n",
    "Purpose: To allow X scale to occur for the user input dataset\n",
    "* app.py can then call for the X_train dataset via SQLAlchemy"
   ],
   "cell_type": "markdown",
   "metadata": {}
  },
  {
   "cell_type": "code",
   "execution_count": 59,
   "metadata": {},
   "outputs": [
    {
     "output_type": "execute_result",
     "data": {
      "text/plain": [
       "     year  logged_GDP_per_capita   support   life_exp   freedom  generosity  \\\n",
       "3    2020              10.772559  0.974670  73.000000  0.948892    0.246944   \n",
       "127  2020               9.314973  0.688719  66.897858  0.593362   -0.216414   \n",
       "249  2021               9.629000  0.983000  62.409000  0.877000    0.273000   \n",
       "1    2020              10.774001  0.955991  72.402504  0.951444    0.066202   \n",
       "245  2021               9.520000  0.697000  68.999000  0.785000   -0.030000   \n",
       "..    ...                    ...       ...        ...       ...         ...   \n",
       "70   2020               8.024811  0.835297  64.104591  0.831383   -0.025089   \n",
       "132  2020               8.680482  0.784407  58.961712  0.895075    0.560664   \n",
       "289  2021               8.145000  0.708000  55.809000  0.782000    0.061000   \n",
       "109  2020               9.661096  0.747695  59.903549  0.633183   -0.069565   \n",
       "176  2021              10.871000  0.898000  69.600000  0.784000   -0.070000   \n",
       "\n",
       "     corruption  \n",
       "3      0.711710  \n",
       "127    0.867590  \n",
       "249    0.888000  \n",
       "1      0.168489  \n",
       "245    0.901000  \n",
       "..          ...  \n",
       "70     0.592076  \n",
       "132    0.645124  \n",
       "289    0.823000  \n",
       "109    0.822262  \n",
       "176    0.721000  \n",
       "\n",
       "[226 rows x 7 columns]"
      ],
      "text/html": "<div>\n<style scoped>\n    .dataframe tbody tr th:only-of-type {\n        vertical-align: middle;\n    }\n\n    .dataframe tbody tr th {\n        vertical-align: top;\n    }\n\n    .dataframe thead th {\n        text-align: right;\n    }\n</style>\n<table border=\"1\" class=\"dataframe\">\n  <thead>\n    <tr style=\"text-align: right;\">\n      <th></th>\n      <th>year</th>\n      <th>logged_GDP_per_capita</th>\n      <th>support</th>\n      <th>life_exp</th>\n      <th>freedom</th>\n      <th>generosity</th>\n      <th>corruption</th>\n    </tr>\n  </thead>\n  <tbody>\n    <tr>\n      <th>3</th>\n      <td>2020</td>\n      <td>10.772559</td>\n      <td>0.974670</td>\n      <td>73.000000</td>\n      <td>0.948892</td>\n      <td>0.246944</td>\n      <td>0.711710</td>\n    </tr>\n    <tr>\n      <th>127</th>\n      <td>2020</td>\n      <td>9.314973</td>\n      <td>0.688719</td>\n      <td>66.897858</td>\n      <td>0.593362</td>\n      <td>-0.216414</td>\n      <td>0.867590</td>\n    </tr>\n    <tr>\n      <th>249</th>\n      <td>2021</td>\n      <td>9.629000</td>\n      <td>0.983000</td>\n      <td>62.409000</td>\n      <td>0.877000</td>\n      <td>0.273000</td>\n      <td>0.888000</td>\n    </tr>\n    <tr>\n      <th>1</th>\n      <td>2020</td>\n      <td>10.774001</td>\n      <td>0.955991</td>\n      <td>72.402504</td>\n      <td>0.951444</td>\n      <td>0.066202</td>\n      <td>0.168489</td>\n    </tr>\n    <tr>\n      <th>245</th>\n      <td>2021</td>\n      <td>9.520000</td>\n      <td>0.697000</td>\n      <td>68.999000</td>\n      <td>0.785000</td>\n      <td>-0.030000</td>\n      <td>0.901000</td>\n    </tr>\n    <tr>\n      <th>...</th>\n      <td>...</td>\n      <td>...</td>\n      <td>...</td>\n      <td>...</td>\n      <td>...</td>\n      <td>...</td>\n      <td>...</td>\n    </tr>\n    <tr>\n      <th>70</th>\n      <td>2020</td>\n      <td>8.024811</td>\n      <td>0.835297</td>\n      <td>64.104591</td>\n      <td>0.831383</td>\n      <td>-0.025089</td>\n      <td>0.592076</td>\n    </tr>\n    <tr>\n      <th>132</th>\n      <td>2020</td>\n      <td>8.680482</td>\n      <td>0.784407</td>\n      <td>58.961712</td>\n      <td>0.895075</td>\n      <td>0.560664</td>\n      <td>0.645124</td>\n    </tr>\n    <tr>\n      <th>289</th>\n      <td>2021</td>\n      <td>8.145000</td>\n      <td>0.708000</td>\n      <td>55.809000</td>\n      <td>0.782000</td>\n      <td>0.061000</td>\n      <td>0.823000</td>\n    </tr>\n    <tr>\n      <th>109</th>\n      <td>2020</td>\n      <td>9.661096</td>\n      <td>0.747695</td>\n      <td>59.903549</td>\n      <td>0.633183</td>\n      <td>-0.069565</td>\n      <td>0.822262</td>\n    </tr>\n    <tr>\n      <th>176</th>\n      <td>2021</td>\n      <td>10.871000</td>\n      <td>0.898000</td>\n      <td>69.600000</td>\n      <td>0.784000</td>\n      <td>-0.070000</td>\n      <td>0.721000</td>\n    </tr>\n  </tbody>\n</table>\n<p>226 rows × 7 columns</p>\n</div>"
     },
     "metadata": {},
     "execution_count": 59
    }
   ],
   "source": [
    "%store -r X_train\n",
    "X_train #226 entries in X_train"
   ]
  },
  {
   "cell_type": "code",
   "execution_count": 60,
   "metadata": {},
   "outputs": [
    {
     "output_type": "execute_result",
     "data": {
      "text/plain": [
       "     year  logged_gdp_per_capita   support   life_exp   freedom  generosity  \\\n",
       "0    2020              10.772559  0.974670  73.000000  0.948892    0.246944   \n",
       "1    2020               9.314973  0.688719  66.897858  0.593362   -0.216414   \n",
       "2    2021               9.629000  0.983000  62.409000  0.877000    0.273000   \n",
       "3    2020              10.774001  0.955991  72.402504  0.951444    0.066202   \n",
       "4    2021               9.520000  0.697000  68.999000  0.785000   -0.030000   \n",
       "..    ...                    ...       ...        ...       ...         ...   \n",
       "221  2020               8.024811  0.835297  64.104591  0.831383   -0.025089   \n",
       "222  2020               8.680482  0.784407  58.961712  0.895075    0.560664   \n",
       "223  2021               8.145000  0.708000  55.809000  0.782000    0.061000   \n",
       "224  2020               9.661096  0.747695  59.903549  0.633183   -0.069565   \n",
       "225  2021              10.871000  0.898000  69.600000  0.784000   -0.070000   \n",
       "\n",
       "     corruption  \n",
       "0      0.711710  \n",
       "1      0.867590  \n",
       "2      0.888000  \n",
       "3      0.168489  \n",
       "4      0.901000  \n",
       "..          ...  \n",
       "221    0.592076  \n",
       "222    0.645124  \n",
       "223    0.823000  \n",
       "224    0.822262  \n",
       "225    0.721000  \n",
       "\n",
       "[226 rows x 7 columns]"
      ],
      "text/html": "<div>\n<style scoped>\n    .dataframe tbody tr th:only-of-type {\n        vertical-align: middle;\n    }\n\n    .dataframe tbody tr th {\n        vertical-align: top;\n    }\n\n    .dataframe thead th {\n        text-align: right;\n    }\n</style>\n<table border=\"1\" class=\"dataframe\">\n  <thead>\n    <tr style=\"text-align: right;\">\n      <th></th>\n      <th>year</th>\n      <th>logged_gdp_per_capita</th>\n      <th>support</th>\n      <th>life_exp</th>\n      <th>freedom</th>\n      <th>generosity</th>\n      <th>corruption</th>\n    </tr>\n  </thead>\n  <tbody>\n    <tr>\n      <th>0</th>\n      <td>2020</td>\n      <td>10.772559</td>\n      <td>0.974670</td>\n      <td>73.000000</td>\n      <td>0.948892</td>\n      <td>0.246944</td>\n      <td>0.711710</td>\n    </tr>\n    <tr>\n      <th>1</th>\n      <td>2020</td>\n      <td>9.314973</td>\n      <td>0.688719</td>\n      <td>66.897858</td>\n      <td>0.593362</td>\n      <td>-0.216414</td>\n      <td>0.867590</td>\n    </tr>\n    <tr>\n      <th>2</th>\n      <td>2021</td>\n      <td>9.629000</td>\n      <td>0.983000</td>\n      <td>62.409000</td>\n      <td>0.877000</td>\n      <td>0.273000</td>\n      <td>0.888000</td>\n    </tr>\n    <tr>\n      <th>3</th>\n      <td>2020</td>\n      <td>10.774001</td>\n      <td>0.955991</td>\n      <td>72.402504</td>\n      <td>0.951444</td>\n      <td>0.066202</td>\n      <td>0.168489</td>\n    </tr>\n    <tr>\n      <th>4</th>\n      <td>2021</td>\n      <td>9.520000</td>\n      <td>0.697000</td>\n      <td>68.999000</td>\n      <td>0.785000</td>\n      <td>-0.030000</td>\n      <td>0.901000</td>\n    </tr>\n    <tr>\n      <th>...</th>\n      <td>...</td>\n      <td>...</td>\n      <td>...</td>\n      <td>...</td>\n      <td>...</td>\n      <td>...</td>\n      <td>...</td>\n    </tr>\n    <tr>\n      <th>221</th>\n      <td>2020</td>\n      <td>8.024811</td>\n      <td>0.835297</td>\n      <td>64.104591</td>\n      <td>0.831383</td>\n      <td>-0.025089</td>\n      <td>0.592076</td>\n    </tr>\n    <tr>\n      <th>222</th>\n      <td>2020</td>\n      <td>8.680482</td>\n      <td>0.784407</td>\n      <td>58.961712</td>\n      <td>0.895075</td>\n      <td>0.560664</td>\n      <td>0.645124</td>\n    </tr>\n    <tr>\n      <th>223</th>\n      <td>2021</td>\n      <td>8.145000</td>\n      <td>0.708000</td>\n      <td>55.809000</td>\n      <td>0.782000</td>\n      <td>0.061000</td>\n      <td>0.823000</td>\n    </tr>\n    <tr>\n      <th>224</th>\n      <td>2020</td>\n      <td>9.661096</td>\n      <td>0.747695</td>\n      <td>59.903549</td>\n      <td>0.633183</td>\n      <td>-0.069565</td>\n      <td>0.822262</td>\n    </tr>\n    <tr>\n      <th>225</th>\n      <td>2021</td>\n      <td>10.871000</td>\n      <td>0.898000</td>\n      <td>69.600000</td>\n      <td>0.784000</td>\n      <td>-0.070000</td>\n      <td>0.721000</td>\n    </tr>\n  </tbody>\n</table>\n<p>226 rows × 7 columns</p>\n</div>"
     },
     "metadata": {},
     "execution_count": 60
    }
   ],
   "source": [
    "# Reset index\n",
    "x_train_new_index = X_train.reset_index()\n",
    "x_train_new_index = x_train_new_index.drop('index',axis=1)\n",
    "\n",
    "# Rename columns\n",
    "x_train_new_index = x_train_new_index.rename({'logged_GDP_per_capita':'logged_gdp_per_capita'}, axis='columns')\n",
    "x_train_new_index"
   ]
  },
  {
   "source": [
    "## LOAD x_train_new_index to Postgres\n",
    "- Loaded PostGRES X_train data to be used on app.py. \n",
    "- X scaling happens in app.py when user x_value set is retrieved.\n",
    "- Use schema.sql "
   ],
   "cell_type": "markdown",
   "metadata": {}
  },
  {
   "cell_type": "code",
   "execution_count": 50,
   "metadata": {},
   "outputs": [],
   "source": [
    "from sqlalchemy import create_engine\n",
    "\n",
    "# Development Environment - Connect to database \n",
    "rds_connection_string = \"postgres:postgres@localhost:5432/the_flow_db\"\n",
    "engine = create_engine(f'postgresql://{rds_connection_string}')"
   ]
  },
  {
   "cell_type": "code",
   "execution_count": 57,
   "metadata": {},
   "outputs": [],
   "source": [
    "from sqlalchemy import create_engine\n",
    "\n",
    "# Deployment Environment - Connect to database \n",
    "rds_connection_string =\"wkzrbnexjxchdc:4a180d07c37d29a607c81ce518488602f8a28a3722363968ce16da6913bd892b@ec2-54-155-92-75.eu-west-1.compute.amazonaws.com:5432/d8eudggrvvqde8\"\n",
    "engine = create_engine(f'postgresql://{rds_connection_string}')"
   ]
  },
  {
   "cell_type": "code",
   "execution_count": 58,
   "metadata": {},
   "outputs": [
    {
     "output_type": "execute_result",
     "data": {
      "text/plain": [
       "['happy_table_m2', 'x_test_new_index_table', 'x_train_df']"
      ]
     },
     "metadata": {},
     "execution_count": 58
    }
   ],
   "source": [
    "# Add table headings via pgAdmin as per schema\n",
    "\n",
    "# Run code to ensure connection is established and table has been created on postgres.\n",
    "engine.table_names()"
   ]
  },
  {
   "cell_type": "code",
   "execution_count": 61,
   "metadata": {},
   "outputs": [],
   "source": [
    "# Load dataframe (variable 'x_train_new_index') into postgres database 'the_flow_db' OR 'heroku_withtheflow', in the table 'x_train_df'\n",
    "x_train_new_index.to_sql(name='x_train_df', con=engine, if_exists='append', index=False)"
   ]
  },
  {
   "cell_type": "code",
   "execution_count": 63,
   "metadata": {},
   "outputs": [
    {
     "output_type": "execute_result",
     "data": {
      "text/plain": [
       "       year  logged_gdp_per_capita   support   life_exp   freedom  generosity  \\\n",
       "0    2020.0              10.772559  0.974670  73.000000  0.948892    0.246944   \n",
       "1    2020.0               9.314973  0.688719  66.897858  0.593362   -0.216414   \n",
       "2    2021.0               9.629000  0.983000  62.409000  0.877000    0.273000   \n",
       "3    2020.0              10.774001  0.955991  72.402504  0.951444    0.066202   \n",
       "4    2021.0               9.520000  0.697000  68.999000  0.785000   -0.030000   \n",
       "..      ...                    ...       ...        ...       ...         ...   \n",
       "221  2020.0               8.024811  0.835297  64.104591  0.831383   -0.025089   \n",
       "222  2020.0               8.680482  0.784407  58.961712  0.895075    0.560664   \n",
       "223  2021.0               8.145000  0.708000  55.809000  0.782000    0.061000   \n",
       "224  2020.0               9.661096  0.747695  59.903549  0.633183   -0.069565   \n",
       "225  2021.0              10.871000  0.898000  69.600000  0.784000   -0.070000   \n",
       "\n",
       "     corruption  \n",
       "0      0.711710  \n",
       "1      0.867590  \n",
       "2      0.888000  \n",
       "3      0.168489  \n",
       "4      0.901000  \n",
       "..          ...  \n",
       "221    0.592076  \n",
       "222    0.645124  \n",
       "223    0.823000  \n",
       "224    0.822262  \n",
       "225    0.721000  \n",
       "\n",
       "[226 rows x 7 columns]"
      ],
      "text/html": "<div>\n<style scoped>\n    .dataframe tbody tr th:only-of-type {\n        vertical-align: middle;\n    }\n\n    .dataframe tbody tr th {\n        vertical-align: top;\n    }\n\n    .dataframe thead th {\n        text-align: right;\n    }\n</style>\n<table border=\"1\" class=\"dataframe\">\n  <thead>\n    <tr style=\"text-align: right;\">\n      <th></th>\n      <th>year</th>\n      <th>logged_gdp_per_capita</th>\n      <th>support</th>\n      <th>life_exp</th>\n      <th>freedom</th>\n      <th>generosity</th>\n      <th>corruption</th>\n    </tr>\n  </thead>\n  <tbody>\n    <tr>\n      <th>0</th>\n      <td>2020.0</td>\n      <td>10.772559</td>\n      <td>0.974670</td>\n      <td>73.000000</td>\n      <td>0.948892</td>\n      <td>0.246944</td>\n      <td>0.711710</td>\n    </tr>\n    <tr>\n      <th>1</th>\n      <td>2020.0</td>\n      <td>9.314973</td>\n      <td>0.688719</td>\n      <td>66.897858</td>\n      <td>0.593362</td>\n      <td>-0.216414</td>\n      <td>0.867590</td>\n    </tr>\n    <tr>\n      <th>2</th>\n      <td>2021.0</td>\n      <td>9.629000</td>\n      <td>0.983000</td>\n      <td>62.409000</td>\n      <td>0.877000</td>\n      <td>0.273000</td>\n      <td>0.888000</td>\n    </tr>\n    <tr>\n      <th>3</th>\n      <td>2020.0</td>\n      <td>10.774001</td>\n      <td>0.955991</td>\n      <td>72.402504</td>\n      <td>0.951444</td>\n      <td>0.066202</td>\n      <td>0.168489</td>\n    </tr>\n    <tr>\n      <th>4</th>\n      <td>2021.0</td>\n      <td>9.520000</td>\n      <td>0.697000</td>\n      <td>68.999000</td>\n      <td>0.785000</td>\n      <td>-0.030000</td>\n      <td>0.901000</td>\n    </tr>\n    <tr>\n      <th>...</th>\n      <td>...</td>\n      <td>...</td>\n      <td>...</td>\n      <td>...</td>\n      <td>...</td>\n      <td>...</td>\n      <td>...</td>\n    </tr>\n    <tr>\n      <th>221</th>\n      <td>2020.0</td>\n      <td>8.024811</td>\n      <td>0.835297</td>\n      <td>64.104591</td>\n      <td>0.831383</td>\n      <td>-0.025089</td>\n      <td>0.592076</td>\n    </tr>\n    <tr>\n      <th>222</th>\n      <td>2020.0</td>\n      <td>8.680482</td>\n      <td>0.784407</td>\n      <td>58.961712</td>\n      <td>0.895075</td>\n      <td>0.560664</td>\n      <td>0.645124</td>\n    </tr>\n    <tr>\n      <th>223</th>\n      <td>2021.0</td>\n      <td>8.145000</td>\n      <td>0.708000</td>\n      <td>55.809000</td>\n      <td>0.782000</td>\n      <td>0.061000</td>\n      <td>0.823000</td>\n    </tr>\n    <tr>\n      <th>224</th>\n      <td>2020.0</td>\n      <td>9.661096</td>\n      <td>0.747695</td>\n      <td>59.903549</td>\n      <td>0.633183</td>\n      <td>-0.069565</td>\n      <td>0.822262</td>\n    </tr>\n    <tr>\n      <th>225</th>\n      <td>2021.0</td>\n      <td>10.871000</td>\n      <td>0.898000</td>\n      <td>69.600000</td>\n      <td>0.784000</td>\n      <td>-0.070000</td>\n      <td>0.721000</td>\n    </tr>\n  </tbody>\n</table>\n<p>226 rows × 7 columns</p>\n</div>"
     },
     "metadata": {},
     "execution_count": 63
    }
   ],
   "source": [
    "# Run code to check connection is established and data is reading out from postgres database\n",
    "x_train_df = pd.read_sql_table('x_train_df', engine) \n",
    "x_train_df\n"
   ]
  },
  {
   "cell_type": "code",
   "execution_count": 64,
   "metadata": {},
   "outputs": [],
   "source": [
    "# Assign new variable that will have an additional user input X row\n",
    "x_train_user_df = x_train_df.copy()"
   ]
  },
  {
   "source": [
    "## HAPPINESS PREDICTION \n",
    "### TEST with made up user input\n",
    "- Use code in Flask"
   ],
   "cell_type": "markdown",
   "metadata": {}
  },
  {
   "cell_type": "code",
   "execution_count": 65,
   "metadata": {},
   "outputs": [
    {
     "output_type": "execute_result",
     "data": {
      "text/plain": [
       "year                     2021.00\n",
       "logged_gdp_per_capita      11.32\n",
       "support                     0.86\n",
       "life_exp                   73.90\n",
       "freedom                     0.91\n",
       "generosity                  0.16\n",
       "corruption                  0.44\n",
       "Name: 226, dtype: float64"
      ]
     },
     "metadata": {},
     "execution_count": 65
    }
   ],
   "source": [
    "# Use example user input\n",
    "user_inputs = [2021, 11.32, 0.86, 73.9, 0.91, 0.16, 0.44]\n",
    "# df_length = len(X_test_new_index) \n",
    "df_length = 226 # So each time a new user comes into use it, it overwrites the entry at index loc 76.\n",
    "x_train_user_df.loc[df_length] = user_inputs\n",
    "\n",
    "#Test user input has been appended to dataframe\n",
    "x_train_user_df.loc[226]"
   ]
  },
  {
   "cell_type": "code",
   "execution_count": 66,
   "metadata": {},
   "outputs": [
    {
     "output_type": "stream",
     "name": "stdout",
     "text": [
      "(226, 7)\n(227, 7)\n"
     ]
    }
   ],
   "source": [
    "print(x_train_df.shape)\n",
    "print(x_train_user_df.shape)"
   ]
  },
  {
   "cell_type": "code",
   "execution_count": 67,
   "metadata": {},
   "outputs": [
    {
     "output_type": "execute_result",
     "data": {
      "text/plain": [
       "       year  logged_gdp_per_capita   support   life_exp   freedom  generosity  \\\n",
       "0    2020.0              10.772559  0.974670  73.000000  0.948892    0.246944   \n",
       "1    2020.0               9.314973  0.688719  66.897858  0.593362   -0.216414   \n",
       "2    2021.0               9.629000  0.983000  62.409000  0.877000    0.273000   \n",
       "3    2020.0              10.774001  0.955991  72.402504  0.951444    0.066202   \n",
       "4    2021.0               9.520000  0.697000  68.999000  0.785000   -0.030000   \n",
       "..      ...                    ...       ...        ...       ...         ...   \n",
       "222  2020.0               8.680482  0.784407  58.961712  0.895075    0.560664   \n",
       "223  2021.0               8.145000  0.708000  55.809000  0.782000    0.061000   \n",
       "224  2020.0               9.661096  0.747695  59.903549  0.633183   -0.069565   \n",
       "225  2021.0              10.871000  0.898000  69.600000  0.784000   -0.070000   \n",
       "226  2021.0              11.320000  0.860000  73.900000  0.910000    0.160000   \n",
       "\n",
       "     corruption  \n",
       "0      0.711710  \n",
       "1      0.867590  \n",
       "2      0.888000  \n",
       "3      0.168489  \n",
       "4      0.901000  \n",
       "..          ...  \n",
       "222    0.645124  \n",
       "223    0.823000  \n",
       "224    0.822262  \n",
       "225    0.721000  \n",
       "226    0.440000  \n",
       "\n",
       "[227 rows x 7 columns]"
      ],
      "text/html": "<div>\n<style scoped>\n    .dataframe tbody tr th:only-of-type {\n        vertical-align: middle;\n    }\n\n    .dataframe tbody tr th {\n        vertical-align: top;\n    }\n\n    .dataframe thead th {\n        text-align: right;\n    }\n</style>\n<table border=\"1\" class=\"dataframe\">\n  <thead>\n    <tr style=\"text-align: right;\">\n      <th></th>\n      <th>year</th>\n      <th>logged_gdp_per_capita</th>\n      <th>support</th>\n      <th>life_exp</th>\n      <th>freedom</th>\n      <th>generosity</th>\n      <th>corruption</th>\n    </tr>\n  </thead>\n  <tbody>\n    <tr>\n      <th>0</th>\n      <td>2020.0</td>\n      <td>10.772559</td>\n      <td>0.974670</td>\n      <td>73.000000</td>\n      <td>0.948892</td>\n      <td>0.246944</td>\n      <td>0.711710</td>\n    </tr>\n    <tr>\n      <th>1</th>\n      <td>2020.0</td>\n      <td>9.314973</td>\n      <td>0.688719</td>\n      <td>66.897858</td>\n      <td>0.593362</td>\n      <td>-0.216414</td>\n      <td>0.867590</td>\n    </tr>\n    <tr>\n      <th>2</th>\n      <td>2021.0</td>\n      <td>9.629000</td>\n      <td>0.983000</td>\n      <td>62.409000</td>\n      <td>0.877000</td>\n      <td>0.273000</td>\n      <td>0.888000</td>\n    </tr>\n    <tr>\n      <th>3</th>\n      <td>2020.0</td>\n      <td>10.774001</td>\n      <td>0.955991</td>\n      <td>72.402504</td>\n      <td>0.951444</td>\n      <td>0.066202</td>\n      <td>0.168489</td>\n    </tr>\n    <tr>\n      <th>4</th>\n      <td>2021.0</td>\n      <td>9.520000</td>\n      <td>0.697000</td>\n      <td>68.999000</td>\n      <td>0.785000</td>\n      <td>-0.030000</td>\n      <td>0.901000</td>\n    </tr>\n    <tr>\n      <th>...</th>\n      <td>...</td>\n      <td>...</td>\n      <td>...</td>\n      <td>...</td>\n      <td>...</td>\n      <td>...</td>\n      <td>...</td>\n    </tr>\n    <tr>\n      <th>222</th>\n      <td>2020.0</td>\n      <td>8.680482</td>\n      <td>0.784407</td>\n      <td>58.961712</td>\n      <td>0.895075</td>\n      <td>0.560664</td>\n      <td>0.645124</td>\n    </tr>\n    <tr>\n      <th>223</th>\n      <td>2021.0</td>\n      <td>8.145000</td>\n      <td>0.708000</td>\n      <td>55.809000</td>\n      <td>0.782000</td>\n      <td>0.061000</td>\n      <td>0.823000</td>\n    </tr>\n    <tr>\n      <th>224</th>\n      <td>2020.0</td>\n      <td>9.661096</td>\n      <td>0.747695</td>\n      <td>59.903549</td>\n      <td>0.633183</td>\n      <td>-0.069565</td>\n      <td>0.822262</td>\n    </tr>\n    <tr>\n      <th>225</th>\n      <td>2021.0</td>\n      <td>10.871000</td>\n      <td>0.898000</td>\n      <td>69.600000</td>\n      <td>0.784000</td>\n      <td>-0.070000</td>\n      <td>0.721000</td>\n    </tr>\n    <tr>\n      <th>226</th>\n      <td>2021.0</td>\n      <td>11.320000</td>\n      <td>0.860000</td>\n      <td>73.900000</td>\n      <td>0.910000</td>\n      <td>0.160000</td>\n      <td>0.440000</td>\n    </tr>\n  </tbody>\n</table>\n<p>227 rows × 7 columns</p>\n</div>"
     },
     "metadata": {},
     "execution_count": 67
    }
   ],
   "source": [
    "x_train_user_df"
   ]
  },
  {
   "cell_type": "code",
   "execution_count": 68,
   "metadata": {},
   "outputs": [
    {
     "output_type": "execute_result",
     "data": {
      "text/plain": [
       "227"
      ]
     },
     "metadata": {},
     "execution_count": 68
    }
   ],
   "source": [
    "len(x_train_user_df)"
   ]
  },
  {
   "cell_type": "code",
   "execution_count": 69,
   "metadata": {},
   "outputs": [
    {
     "output_type": "execute_result",
     "data": {
      "text/plain": [
       "array([1.        , 0.93655853, 0.76006229, 0.89454004, 0.89536593,\n",
       "       0.51058798, 0.41773629])"
      ]
     },
     "metadata": {},
     "execution_count": 69
    }
   ],
   "source": [
    "import numpy as np\n",
    "from sklearn.preprocessing import MinMaxScaler\n",
    "\n",
    "# Attain X_scaler using x_train data\n",
    "X_scaler = MinMaxScaler().fit(x_train_df)\n",
    "X_scaler\n",
    "# Save all variables using X_scaler\n",
    "X_scaled = X_scaler.transform(x_train_user_df)\n",
    "user_inputs = X_scaled[226]\n",
    "user_inputs"
   ]
  },
  {
   "cell_type": "code",
   "execution_count": 70,
   "metadata": {},
   "outputs": [
    {
     "output_type": "execute_result",
     "data": {
      "text/plain": [
       "array([[1.        , 0.93655853, 0.76006229, 0.89454004, 0.89536593,\n",
       "        0.51058798, 0.41773629]])"
      ]
     },
     "metadata": {},
     "execution_count": 70
    }
   ],
   "source": [
    "user_inputs = np.array([user_inputs])\n",
    "user_inputs"
   ]
  },
  {
   "cell_type": "code",
   "execution_count": 79,
   "metadata": {},
   "outputs": [
    {
     "output_type": "stream",
     "name": "stdout",
     "text": [
      "Happiness Score Prediction: [8]\n"
     ]
    },
    {
     "output_type": "execute_result",
     "data": {
      "text/plain": [
       "array([8])"
      ]
     },
     "metadata": {},
     "execution_count": 79
    }
   ],
   "source": [
    "predictions = loaded_model2.predict(user_inputs) \n",
    "print(f\"Happiness Score Prediction: {predictions}\")\n",
    "predictions"
   ]
  }
 ]
}