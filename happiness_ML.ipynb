{
 "metadata": {
  "language_info": {
   "codemirror_mode": {
    "name": "ipython",
    "version": 3
   },
   "file_extension": ".py",
   "mimetype": "text/x-python",
   "name": "python",
   "nbconvert_exporter": "python",
   "pygments_lexer": "ipython3",
   "version": "3.6.10"
  },
  "orig_nbformat": 2,
  "kernelspec": {
   "name": "python3",
   "display_name": "Python 3",
   "language": "python"
  }
 },
 "nbformat": 4,
 "nbformat_minor": 2,
 "cells": [
  {
   "source": [
    "# MACHINE LEARNING SECTION\n",
    "## Data Cleanup: \n",
    "### - Save X and y variables\n",
    "### - Train, Test, Split\n",
    "### - X-scaler"
   ],
   "cell_type": "markdown",
   "metadata": {}
  },
  {
   "cell_type": "code",
   "execution_count": 1,
   "metadata": {},
   "outputs": [],
   "source": [
    "# Dependencies\n",
    "import pandas as pd\n",
    "import numpy as np"
   ]
  },
  {
   "cell_type": "code",
   "execution_count": 2,
   "metadata": {},
   "outputs": [
    {
     "output_type": "execute_result",
     "data": {
      "text/plain": [
       "     Unnamed: 0  year      country  logged_GDP_per_capita   support  \\\n",
       "0             0  2020      Finland              10.639267  0.954330   \n",
       "1             1  2020      Denmark              10.774001  0.955991   \n",
       "2             2  2020  Switzerland              10.979933  0.942847   \n",
       "3             3  2020      Iceland              10.772559  0.974670   \n",
       "4             4  2020       Norway              11.087804  0.952487   \n",
       "..          ...   ...          ...                    ...       ...   \n",
       "297         297  2021      Lesotho               7.926000  0.787000   \n",
       "298         298  2021     Botswana               9.782000  0.784000   \n",
       "299         299  2021       Rwanda               7.676000  0.552000   \n",
       "300         300  2021     Zimbabwe               7.943000  0.750000   \n",
       "301         301  2021  Afghanistan               7.695000  0.463000   \n",
       "\n",
       "      life_exp   freedom  generosity  corruption   score  \n",
       "0    71.900825  0.949172   -0.059482    0.195445  7.8087  \n",
       "1    72.402504  0.951444    0.066202    0.168489  7.6456  \n",
       "2    74.102448  0.921337    0.105911    0.303728  7.5599  \n",
       "3    73.000000  0.948892    0.246944    0.711710  7.5045  \n",
       "4    73.200783  0.955750    0.134533    0.263218  7.4880  \n",
       "..         ...       ...         ...         ...     ...  \n",
       "297  48.700000  0.715000   -0.131000    0.915000  3.5120  \n",
       "298  59.269000  0.824000   -0.246000    0.801000  3.4670  \n",
       "299  61.400000  0.897000    0.061000    0.167000  3.4150  \n",
       "300  56.201000  0.677000   -0.047000    0.821000  3.1450  \n",
       "301  52.493000  0.382000   -0.102000    0.924000  2.5230  \n",
       "\n",
       "[302 rows x 10 columns]"
      ],
      "text/html": "<div>\n<style scoped>\n    .dataframe tbody tr th:only-of-type {\n        vertical-align: middle;\n    }\n\n    .dataframe tbody tr th {\n        vertical-align: top;\n    }\n\n    .dataframe thead th {\n        text-align: right;\n    }\n</style>\n<table border=\"1\" class=\"dataframe\">\n  <thead>\n    <tr style=\"text-align: right;\">\n      <th></th>\n      <th>Unnamed: 0</th>\n      <th>year</th>\n      <th>country</th>\n      <th>logged_GDP_per_capita</th>\n      <th>support</th>\n      <th>life_exp</th>\n      <th>freedom</th>\n      <th>generosity</th>\n      <th>corruption</th>\n      <th>score</th>\n    </tr>\n  </thead>\n  <tbody>\n    <tr>\n      <th>0</th>\n      <td>0</td>\n      <td>2020</td>\n      <td>Finland</td>\n      <td>10.639267</td>\n      <td>0.954330</td>\n      <td>71.900825</td>\n      <td>0.949172</td>\n      <td>-0.059482</td>\n      <td>0.195445</td>\n      <td>7.8087</td>\n    </tr>\n    <tr>\n      <th>1</th>\n      <td>1</td>\n      <td>2020</td>\n      <td>Denmark</td>\n      <td>10.774001</td>\n      <td>0.955991</td>\n      <td>72.402504</td>\n      <td>0.951444</td>\n      <td>0.066202</td>\n      <td>0.168489</td>\n      <td>7.6456</td>\n    </tr>\n    <tr>\n      <th>2</th>\n      <td>2</td>\n      <td>2020</td>\n      <td>Switzerland</td>\n      <td>10.979933</td>\n      <td>0.942847</td>\n      <td>74.102448</td>\n      <td>0.921337</td>\n      <td>0.105911</td>\n      <td>0.303728</td>\n      <td>7.5599</td>\n    </tr>\n    <tr>\n      <th>3</th>\n      <td>3</td>\n      <td>2020</td>\n      <td>Iceland</td>\n      <td>10.772559</td>\n      <td>0.974670</td>\n      <td>73.000000</td>\n      <td>0.948892</td>\n      <td>0.246944</td>\n      <td>0.711710</td>\n      <td>7.5045</td>\n    </tr>\n    <tr>\n      <th>4</th>\n      <td>4</td>\n      <td>2020</td>\n      <td>Norway</td>\n      <td>11.087804</td>\n      <td>0.952487</td>\n      <td>73.200783</td>\n      <td>0.955750</td>\n      <td>0.134533</td>\n      <td>0.263218</td>\n      <td>7.4880</td>\n    </tr>\n    <tr>\n      <th>...</th>\n      <td>...</td>\n      <td>...</td>\n      <td>...</td>\n      <td>...</td>\n      <td>...</td>\n      <td>...</td>\n      <td>...</td>\n      <td>...</td>\n      <td>...</td>\n      <td>...</td>\n    </tr>\n    <tr>\n      <th>297</th>\n      <td>297</td>\n      <td>2021</td>\n      <td>Lesotho</td>\n      <td>7.926000</td>\n      <td>0.787000</td>\n      <td>48.700000</td>\n      <td>0.715000</td>\n      <td>-0.131000</td>\n      <td>0.915000</td>\n      <td>3.5120</td>\n    </tr>\n    <tr>\n      <th>298</th>\n      <td>298</td>\n      <td>2021</td>\n      <td>Botswana</td>\n      <td>9.782000</td>\n      <td>0.784000</td>\n      <td>59.269000</td>\n      <td>0.824000</td>\n      <td>-0.246000</td>\n      <td>0.801000</td>\n      <td>3.4670</td>\n    </tr>\n    <tr>\n      <th>299</th>\n      <td>299</td>\n      <td>2021</td>\n      <td>Rwanda</td>\n      <td>7.676000</td>\n      <td>0.552000</td>\n      <td>61.400000</td>\n      <td>0.897000</td>\n      <td>0.061000</td>\n      <td>0.167000</td>\n      <td>3.4150</td>\n    </tr>\n    <tr>\n      <th>300</th>\n      <td>300</td>\n      <td>2021</td>\n      <td>Zimbabwe</td>\n      <td>7.943000</td>\n      <td>0.750000</td>\n      <td>56.201000</td>\n      <td>0.677000</td>\n      <td>-0.047000</td>\n      <td>0.821000</td>\n      <td>3.1450</td>\n    </tr>\n    <tr>\n      <th>301</th>\n      <td>301</td>\n      <td>2021</td>\n      <td>Afghanistan</td>\n      <td>7.695000</td>\n      <td>0.463000</td>\n      <td>52.493000</td>\n      <td>0.382000</td>\n      <td>-0.102000</td>\n      <td>0.924000</td>\n      <td>2.5230</td>\n    </tr>\n  </tbody>\n</table>\n<p>302 rows × 10 columns</p>\n</div>"
     },
     "metadata": {},
     "execution_count": 2
    }
   ],
   "source": [
    "# Retrieve csv file and convert to Pandas dataframe\n",
    "happy_postg = pd.read_csv(\"Resources/happy_2020_2021.csv\")\n",
    "happy_postg"
   ]
  },
  {
   "source": [
    "## Save X and y variables"
   ],
   "cell_type": "markdown",
   "metadata": {}
  },
  {
   "cell_type": "code",
   "execution_count": 3,
   "metadata": {},
   "outputs": [
    {
     "output_type": "stream",
     "name": "stdout",
     "text": [
      "     year  logged_GDP_per_capita   support   life_exp   freedom  generosity  \\\n0    2020              10.639267  0.954330  71.900825  0.949172   -0.059482   \n1    2020              10.774001  0.955991  72.402504  0.951444    0.066202   \n2    2020              10.979933  0.942847  74.102448  0.921337    0.105911   \n3    2020              10.772559  0.974670  73.000000  0.948892    0.246944   \n4    2020              11.087804  0.952487  73.200783  0.955750    0.134533   \n..    ...                    ...       ...        ...       ...         ...   \n297  2021               7.926000  0.787000  48.700000  0.715000   -0.131000   \n298  2021               9.782000  0.784000  59.269000  0.824000   -0.246000   \n299  2021               7.676000  0.552000  61.400000  0.897000    0.061000   \n300  2021               7.943000  0.750000  56.201000  0.677000   -0.047000   \n301  2021               7.695000  0.463000  52.493000  0.382000   -0.102000   \n\n     corruption  \n0      0.195445  \n1      0.168489  \n2      0.303728  \n3      0.711710  \n4      0.263218  \n..          ...  \n297    0.915000  \n298    0.801000  \n299    0.167000  \n300    0.821000  \n301    0.924000  \n\n[302 rows x 7 columns]\n------------------------\n0      8\n1      8\n2      8\n3      8\n4      8\n      ..\n297    4\n298    4\n299    4\n300    4\n301    3\nName: score, Length: 302, dtype: int64\n[8 7 6 5 4 3]\n"
     ]
    }
   ],
   "source": [
    "# Assign X (data) and y (target)\n",
    "X = happy_postg.drop([\"Unnamed: 0\",\"score\",\"country\"], axis=1)\n",
    "print(X)\n",
    "print('------------------------')\n",
    "\n",
    "# Categorise y to have 10 categories, \n",
    "# 6 difference score categories (3: 2-3, 4: 3-4, 5: 4-5, 6: 5-6, 7: 6-7, 8: 7-8)\n",
    "\n",
    "happy_postg[\"score\"] = happy_postg[\"score\"].apply(np.ceil)\n",
    "happy_postg\n",
    "\n",
    "# \n",
    "y = happy_postg[\"score\"]\n",
    "y=y.astype('int')\n",
    "print(y)\n",
    "\n",
    "# Unique y categories (whole values)\n",
    "print(y.unique())"
   ]
  },
  {
   "cell_type": "code",
   "execution_count": 4,
   "metadata": {},
   "outputs": [
    {
     "output_type": "execute_result",
     "data": {
      "text/plain": [
       "Index(['year', 'logged_GDP_per_capita', 'support', 'life_exp', 'freedom',\n",
       "       'generosity', 'corruption'],\n",
       "      dtype='object')"
      ]
     },
     "metadata": {},
     "execution_count": 4
    }
   ],
   "source": [
    "# Check column names which remain\n",
    "X_headings = X.columns\n",
    "X_headings"
   ]
  },
  {
   "cell_type": "code",
   "execution_count": 5,
   "metadata": {},
   "outputs": [
    {
     "output_type": "stream",
     "name": "stdout",
     "text": [
      "(302, 7)\n(302,)\n"
     ]
    }
   ],
   "source": [
    "# Check X and y dataframes' shapes\n",
    "print(X.shape)\n",
    "print(y.shape)"
   ]
  },
  {
   "source": [
    "## Train, Test, Split"
   ],
   "cell_type": "markdown",
   "metadata": {}
  },
  {
   "cell_type": "code",
   "execution_count": 6,
   "metadata": {},
   "outputs": [],
   "source": [
    "# Dependencies (to split data)\n",
    "from sklearn.model_selection import train_test_split\n",
    "\n",
    "# Split the data to attain variables X_train, X_test, y_train, y_test\n",
    "X_train, X_test, y_train, y_test = train_test_split(X, y, random_state=50)"
   ]
  },
  {
   "cell_type": "code",
   "execution_count": 7,
   "metadata": {},
   "outputs": [
    {
     "output_type": "execute_result",
     "data": {
      "text/plain": [
       "3      8\n",
       "127    5\n",
       "249    6\n",
       "1      8\n",
       "245    6\n",
       "      ..\n",
       "70     6\n",
       "132    5\n",
       "289    5\n",
       "109    5\n",
       "176    7\n",
       "Name: score, Length: 226, dtype: int64"
      ]
     },
     "metadata": {},
     "execution_count": 7
    }
   ],
   "source": [
    "y_train"
   ]
  },
  {
   "cell_type": "code",
   "execution_count": 8,
   "metadata": {},
   "outputs": [
    {
     "output_type": "execute_result",
     "data": {
      "text/plain": [
       "112    5\n",
       "63     6\n",
       "269    5\n",
       "39     7\n",
       "276    5\n",
       "      ..\n",
       "214    6\n",
       "187    7\n",
       "296    4\n",
       "46     7\n",
       "114    5\n",
       "Name: score, Length: 76, dtype: int64"
      ]
     },
     "metadata": {},
     "execution_count": 8
    }
   ],
   "source": [
    "y_test"
   ]
  },
  {
   "source": [
    " ## X-Scaler\n",
    " ## Use MinMaxScaler to scale the numerical data"
   ],
   "cell_type": "markdown",
   "metadata": {}
  },
  {
   "cell_type": "code",
   "execution_count": 23,
   "metadata": {},
   "outputs": [],
   "source": [
    "# Perform MinMaxScaler to X_train and X_test\n",
    "# Categorical columns do not need to be scaled. i.e. y_train and y_test\n",
    "from sklearn.preprocessing import MinMaxScaler\n",
    "\n",
    "# Attain X_scaler using x_train data\n",
    "X_scaler = MinMaxScaler().fit(X_train)\n",
    "\n",
    "# Scale X variables (X_train and X_test) using X_scaler\n",
    "X_train_scaled = X_scaler.transform(X_train)\n",
    "X_test_scaled = X_scaler.transform(X_test)"
   ]
  },
  {
   "source": [
    "## Save variables for use in Machine Learning models \n",
    "### (model1.ipynb, model2.ipynb, model3.ipynb)"
   ],
   "cell_type": "markdown",
   "metadata": {}
  },
  {
   "cell_type": "code",
   "execution_count": 11,
   "metadata": {},
   "outputs": [
    {
     "output_type": "stream",
     "name": "stdout",
     "text": [
      "Stored 'happy_postg' (DataFrame)\nStored 'X_train_scaled' (ndarray)\nStored 'X_test_scaled' (ndarray)\nStored 'y_train' (Series)\nStored 'y_test' (Series)\nStored 'X_headings' (Index)\nStored 'X_scaler' (MinMaxScaler)\n"
     ]
    }
   ],
   "source": [
    "%store happy_postg\n",
    "\n",
    "%store X_train\n",
    "%store X_test\n",
    "%store y_train\n",
    "%store y_test\n",
    "%store X_train_scaled\n",
    "%store X_test_scaled\n",
    "%store X_headings\n",
    "%store X_scaler"
   ]
  },
  {
   "source": [
    "## PART 3: TRANSFORMATION OF DATA to produce dataframe containing: original features, score and predicted score\n",
    "    - Clean data to produce dataframe 'y_test': 'index' (original index), 'y_actual', 'y_predicted'\n",
    "    - Clean data to produce dataframe 'y_train': 'index' (original index), 'y_actual', 'y_predicted'\n",
    "    - Merge dataframe 'happy_postg' and 'y_test_all' as new dataframe 'happy_predicted'\n",
    "        - There should be blanks because y_predicted values only exist for 20% test data\n",
    "        - * happy_postg = happy_all : This will ensure happy_all variable is left as is from Part1."
   ],
   "cell_type": "markdown",
   "metadata": {}
  },
  {
   "source": [
    "### Save dataframe 'y_test_all' which contains original_index, y_test, y_test_predicted"
   ],
   "cell_type": "markdown",
   "metadata": {}
  },
  {
   "cell_type": "code",
   "execution_count": 16,
   "metadata": {},
   "outputs": [
    {
     "output_type": "stream",
     "name": "stdout",
     "text": [
      "112    5\n63     6\n269    5\n39     7\n276    5\n      ..\n214    6\n187    7\n296    4\n46     7\n114    5\nName: score, Length: 76, dtype: int64\n-----------------------------------\n    0\n0   6\n1   6\n2   6\n3   6\n4   6\n.. ..\n71  6\n72  6\n73  6\n74  6\n75  6\n\n[76 rows x 1 columns]\n"
     ]
    }
   ],
   "source": [
    "# Print y_test dataframe\n",
    "y_test_m1 = y_test\n",
    "print(y_test_m1)\n",
    "print('-----------------------------------')\n",
    "# PRint y_predicted dataframe\n",
    "y_test_predicted_m1 = pd.DataFrame(predictions)\n",
    "print(y_test_predicted_m1)"
   ]
  },
  {
   "cell_type": "code",
   "execution_count": 17,
   "metadata": {},
   "outputs": [
    {
     "output_type": "execute_result",
     "data": {
      "text/plain": [
       "    index  score\n",
       "0     112      5\n",
       "1      63      6\n",
       "2     269      5\n",
       "3      39      7\n",
       "4     276      5\n",
       "..    ...    ...\n",
       "71    214      6\n",
       "72    187      7\n",
       "73    296      4\n",
       "74     46      7\n",
       "75    114      5\n",
       "\n",
       "[76 rows x 2 columns]"
      ],
      "text/html": "<div>\n<style scoped>\n    .dataframe tbody tr th:only-of-type {\n        vertical-align: middle;\n    }\n\n    .dataframe tbody tr th {\n        vertical-align: top;\n    }\n\n    .dataframe thead th {\n        text-align: right;\n    }\n</style>\n<table border=\"1\" class=\"dataframe\">\n  <thead>\n    <tr style=\"text-align: right;\">\n      <th></th>\n      <th>index</th>\n      <th>score</th>\n    </tr>\n  </thead>\n  <tbody>\n    <tr>\n      <th>0</th>\n      <td>112</td>\n      <td>5</td>\n    </tr>\n    <tr>\n      <th>1</th>\n      <td>63</td>\n      <td>6</td>\n    </tr>\n    <tr>\n      <th>2</th>\n      <td>269</td>\n      <td>5</td>\n    </tr>\n    <tr>\n      <th>3</th>\n      <td>39</td>\n      <td>7</td>\n    </tr>\n    <tr>\n      <th>4</th>\n      <td>276</td>\n      <td>5</td>\n    </tr>\n    <tr>\n      <th>...</th>\n      <td>...</td>\n      <td>...</td>\n    </tr>\n    <tr>\n      <th>71</th>\n      <td>214</td>\n      <td>6</td>\n    </tr>\n    <tr>\n      <th>72</th>\n      <td>187</td>\n      <td>7</td>\n    </tr>\n    <tr>\n      <th>73</th>\n      <td>296</td>\n      <td>4</td>\n    </tr>\n    <tr>\n      <th>74</th>\n      <td>46</td>\n      <td>7</td>\n    </tr>\n    <tr>\n      <th>75</th>\n      <td>114</td>\n      <td>5</td>\n    </tr>\n  </tbody>\n</table>\n<p>76 rows × 2 columns</p>\n</div>"
     },
     "metadata": {},
     "execution_count": 17
    }
   ],
   "source": [
    "# Reset y_test index \n",
    "# (to prepare to merge y_test (actual scores) and y_predicted (predicted scores) dataframes)\n",
    "y_test_m1 = y_test.reset_index()\n",
    "y_test_m1"
   ]
  },
  {
   "cell_type": "code",
   "execution_count": 18,
   "metadata": {},
   "outputs": [
    {
     "output_type": "execute_result",
     "data": {
      "text/plain": [
       "    index  score  0\n",
       "0     112      5  6\n",
       "1      63      6  6\n",
       "2     269      5  6\n",
       "3      39      7  6\n",
       "4     276      5  6\n",
       "..    ...    ... ..\n",
       "71    214      6  6\n",
       "72    187      7  6\n",
       "73    296      4  6\n",
       "74     46      7  6\n",
       "75    114      5  6\n",
       "\n",
       "[76 rows x 3 columns]"
      ],
      "text/html": "<div>\n<style scoped>\n    .dataframe tbody tr th:only-of-type {\n        vertical-align: middle;\n    }\n\n    .dataframe tbody tr th {\n        vertical-align: top;\n    }\n\n    .dataframe thead th {\n        text-align: right;\n    }\n</style>\n<table border=\"1\" class=\"dataframe\">\n  <thead>\n    <tr style=\"text-align: right;\">\n      <th></th>\n      <th>index</th>\n      <th>score</th>\n      <th>0</th>\n    </tr>\n  </thead>\n  <tbody>\n    <tr>\n      <th>0</th>\n      <td>112</td>\n      <td>5</td>\n      <td>6</td>\n    </tr>\n    <tr>\n      <th>1</th>\n      <td>63</td>\n      <td>6</td>\n      <td>6</td>\n    </tr>\n    <tr>\n      <th>2</th>\n      <td>269</td>\n      <td>5</td>\n      <td>6</td>\n    </tr>\n    <tr>\n      <th>3</th>\n      <td>39</td>\n      <td>7</td>\n      <td>6</td>\n    </tr>\n    <tr>\n      <th>4</th>\n      <td>276</td>\n      <td>5</td>\n      <td>6</td>\n    </tr>\n    <tr>\n      <th>...</th>\n      <td>...</td>\n      <td>...</td>\n      <td>...</td>\n    </tr>\n    <tr>\n      <th>71</th>\n      <td>214</td>\n      <td>6</td>\n      <td>6</td>\n    </tr>\n    <tr>\n      <th>72</th>\n      <td>187</td>\n      <td>7</td>\n      <td>6</td>\n    </tr>\n    <tr>\n      <th>73</th>\n      <td>296</td>\n      <td>4</td>\n      <td>6</td>\n    </tr>\n    <tr>\n      <th>74</th>\n      <td>46</td>\n      <td>7</td>\n      <td>6</td>\n    </tr>\n    <tr>\n      <th>75</th>\n      <td>114</td>\n      <td>5</td>\n      <td>6</td>\n    </tr>\n  </tbody>\n</table>\n<p>76 rows × 3 columns</p>\n</div>"
     },
     "metadata": {},
     "execution_count": 18
    }
   ],
   "source": [
    "# Merge y_test and y_test_predicted\n",
    "y_test_all_m1 = pd.merge(y_test_m1, y_test_predicted_m1, left_index=True, right_index=True, how=\"inner\")\n",
    "y_test_all_m1\n"
   ]
  },
  {
   "cell_type": "code",
   "execution_count": 19,
   "metadata": {},
   "outputs": [
    {
     "output_type": "error",
     "ename": "NameError",
     "evalue": "name 'y_test_all' is not defined",
     "traceback": [
      "\u001b[0;31m---------------------------------------------------------------------------\u001b[0m",
      "\u001b[0;31mNameError\u001b[0m                                 Traceback (most recent call last)",
      "\u001b[0;32m<ipython-input-19-2d68ba90a0ea>\u001b[0m in \u001b[0;36m<module>\u001b[0;34m\u001b[0m\n\u001b[1;32m      1\u001b[0m \u001b[0;31m# This dataframe is from the test entries\u001b[0m\u001b[0;34m\u001b[0m\u001b[0;34m\u001b[0m\u001b[0;34m\u001b[0m\u001b[0m\n\u001b[1;32m      2\u001b[0m \u001b[0;31m# Rename column\u001b[0m\u001b[0;34m\u001b[0m\u001b[0;34m\u001b[0m\u001b[0;34m\u001b[0m\u001b[0m\n\u001b[0;32m----> 3\u001b[0;31m \u001b[0my_test_all_m1\u001b[0m \u001b[0;34m=\u001b[0m \u001b[0my_test_all\u001b[0m\u001b[0;34m.\u001b[0m\u001b[0mrename\u001b[0m\u001b[0;34m(\u001b[0m\u001b[0;34m{\u001b[0m\u001b[0;34m'score'\u001b[0m\u001b[0;34m:\u001b[0m\u001b[0;34m'y_actual'\u001b[0m\u001b[0;34m,\u001b[0m\u001b[0;36m0\u001b[0m\u001b[0;34m:\u001b[0m\u001b[0;34m'y_predicted'\u001b[0m\u001b[0;34m}\u001b[0m\u001b[0;34m,\u001b[0m \u001b[0maxis\u001b[0m\u001b[0;34m=\u001b[0m\u001b[0;34m'columns'\u001b[0m\u001b[0;34m)\u001b[0m\u001b[0;34m\u001b[0m\u001b[0;34m\u001b[0m\u001b[0m\n\u001b[0m\u001b[1;32m      4\u001b[0m \u001b[0my_test_all_m1\u001b[0m\u001b[0;34m\u001b[0m\u001b[0;34m\u001b[0m\u001b[0m\n",
      "\u001b[0;31mNameError\u001b[0m: name 'y_test_all' is not defined"
     ]
    }
   ],
   "source": [
    "# This dataframe is from the test entries\n",
    "# Rename column\n",
    "y_test_all_m1 = y_test_all.rename({'score':'y_actual',0:'y_predicted'}, axis='columns')\n",
    "y_test_all_m1"
   ]
  },
  {
   "source": [
    "- Merge dataframe 'happy_postg' with 'y_test_all' on index and save new dataframe as 'happy_postg_final'"
   ],
   "cell_type": "markdown",
   "metadata": {}
  },
  {
   "cell_type": "code",
   "execution_count": 26,
   "metadata": {},
   "outputs": [
    {
     "output_type": "execute_result",
     "data": {
      "text/plain": [
       "      year      country  logged_GDP_per_capita   support   life_exp   freedom  \\\n",
       "0.0   2020       Gambia               7.321815  0.693169  55.012016  0.733163   \n",
       "1.0   2020       Serbia               9.680981  0.881476  68.210205  0.726496   \n",
       "2.0   2021         Mali               7.744000  0.724000  51.969000  0.697000   \n",
       "3.0   2020      Bahrain              10.676380  0.876342  68.500000  0.905856   \n",
       "4.0   2021      Namibia               9.161000  0.818000  56.799000  0.719000   \n",
       "...    ...          ...                    ...       ...        ...       ...   \n",
       "71.0  2021  South Korea              10.651000  0.799000  73.900000  0.672000   \n",
       "72.0  2021       Brazil               9.577000  0.882000  66.601000  0.804000   \n",
       "73.0  2021       Malawi               6.958000  0.537000  57.948000  0.780000   \n",
       "74.0  2020      Romania              10.107584  0.825162  67.207237  0.842823   \n",
       "75.0  2020      Nigeria               8.576625  0.737217  49.861908  0.759578   \n",
       "\n",
       "      generosity  corruption  score  index  y_actual  y_predicted  \n",
       "0.0     0.343199    0.690718    5.0    112       5.0          6.0  \n",
       "1.0    -0.073676    0.843509    6.0     63       6.0          6.0  \n",
       "2.0    -0.036000    0.827000    5.0    269       5.0          6.0  \n",
       "3.0     0.133729    0.739347    7.0     39       7.0          6.0  \n",
       "4.0    -0.149000    0.847000    5.0    276       5.0          6.0  \n",
       "...          ...         ...    ...    ...       ...          ...  \n",
       "71.0   -0.083000    0.727000    6.0    214       6.0          6.0  \n",
       "72.0   -0.071000    0.756000    7.0    187       7.0          6.0  \n",
       "73.0    0.038000    0.729000    4.0    296       4.0          6.0  \n",
       "74.0   -0.197815    0.934300    7.0     46       7.0          6.0  \n",
       "75.0    0.033746    0.861874    5.0    114       5.0          6.0  \n",
       "\n",
       "[76 rows x 12 columns]"
      ],
      "text/html": "<div>\n<style scoped>\n    .dataframe tbody tr th:only-of-type {\n        vertical-align: middle;\n    }\n\n    .dataframe tbody tr th {\n        vertical-align: top;\n    }\n\n    .dataframe thead th {\n        text-align: right;\n    }\n</style>\n<table border=\"1\" class=\"dataframe\">\n  <thead>\n    <tr style=\"text-align: right;\">\n      <th></th>\n      <th>year</th>\n      <th>country</th>\n      <th>logged_GDP_per_capita</th>\n      <th>support</th>\n      <th>life_exp</th>\n      <th>freedom</th>\n      <th>generosity</th>\n      <th>corruption</th>\n      <th>score</th>\n      <th>index</th>\n      <th>y_actual</th>\n      <th>y_predicted</th>\n    </tr>\n  </thead>\n  <tbody>\n    <tr>\n      <th>0.0</th>\n      <td>2020</td>\n      <td>Gambia</td>\n      <td>7.321815</td>\n      <td>0.693169</td>\n      <td>55.012016</td>\n      <td>0.733163</td>\n      <td>0.343199</td>\n      <td>0.690718</td>\n      <td>5.0</td>\n      <td>112</td>\n      <td>5.0</td>\n      <td>6.0</td>\n    </tr>\n    <tr>\n      <th>1.0</th>\n      <td>2020</td>\n      <td>Serbia</td>\n      <td>9.680981</td>\n      <td>0.881476</td>\n      <td>68.210205</td>\n      <td>0.726496</td>\n      <td>-0.073676</td>\n      <td>0.843509</td>\n      <td>6.0</td>\n      <td>63</td>\n      <td>6.0</td>\n      <td>6.0</td>\n    </tr>\n    <tr>\n      <th>2.0</th>\n      <td>2021</td>\n      <td>Mali</td>\n      <td>7.744000</td>\n      <td>0.724000</td>\n      <td>51.969000</td>\n      <td>0.697000</td>\n      <td>-0.036000</td>\n      <td>0.827000</td>\n      <td>5.0</td>\n      <td>269</td>\n      <td>5.0</td>\n      <td>6.0</td>\n    </tr>\n    <tr>\n      <th>3.0</th>\n      <td>2020</td>\n      <td>Bahrain</td>\n      <td>10.676380</td>\n      <td>0.876342</td>\n      <td>68.500000</td>\n      <td>0.905856</td>\n      <td>0.133729</td>\n      <td>0.739347</td>\n      <td>7.0</td>\n      <td>39</td>\n      <td>7.0</td>\n      <td>6.0</td>\n    </tr>\n    <tr>\n      <th>4.0</th>\n      <td>2021</td>\n      <td>Namibia</td>\n      <td>9.161000</td>\n      <td>0.818000</td>\n      <td>56.799000</td>\n      <td>0.719000</td>\n      <td>-0.149000</td>\n      <td>0.847000</td>\n      <td>5.0</td>\n      <td>276</td>\n      <td>5.0</td>\n      <td>6.0</td>\n    </tr>\n    <tr>\n      <th>...</th>\n      <td>...</td>\n      <td>...</td>\n      <td>...</td>\n      <td>...</td>\n      <td>...</td>\n      <td>...</td>\n      <td>...</td>\n      <td>...</td>\n      <td>...</td>\n      <td>...</td>\n      <td>...</td>\n      <td>...</td>\n    </tr>\n    <tr>\n      <th>71.0</th>\n      <td>2021</td>\n      <td>South Korea</td>\n      <td>10.651000</td>\n      <td>0.799000</td>\n      <td>73.900000</td>\n      <td>0.672000</td>\n      <td>-0.083000</td>\n      <td>0.727000</td>\n      <td>6.0</td>\n      <td>214</td>\n      <td>6.0</td>\n      <td>6.0</td>\n    </tr>\n    <tr>\n      <th>72.0</th>\n      <td>2021</td>\n      <td>Brazil</td>\n      <td>9.577000</td>\n      <td>0.882000</td>\n      <td>66.601000</td>\n      <td>0.804000</td>\n      <td>-0.071000</td>\n      <td>0.756000</td>\n      <td>7.0</td>\n      <td>187</td>\n      <td>7.0</td>\n      <td>6.0</td>\n    </tr>\n    <tr>\n      <th>73.0</th>\n      <td>2021</td>\n      <td>Malawi</td>\n      <td>6.958000</td>\n      <td>0.537000</td>\n      <td>57.948000</td>\n      <td>0.780000</td>\n      <td>0.038000</td>\n      <td>0.729000</td>\n      <td>4.0</td>\n      <td>296</td>\n      <td>4.0</td>\n      <td>6.0</td>\n    </tr>\n    <tr>\n      <th>74.0</th>\n      <td>2020</td>\n      <td>Romania</td>\n      <td>10.107584</td>\n      <td>0.825162</td>\n      <td>67.207237</td>\n      <td>0.842823</td>\n      <td>-0.197815</td>\n      <td>0.934300</td>\n      <td>7.0</td>\n      <td>46</td>\n      <td>7.0</td>\n      <td>6.0</td>\n    </tr>\n    <tr>\n      <th>75.0</th>\n      <td>2020</td>\n      <td>Nigeria</td>\n      <td>8.576625</td>\n      <td>0.737217</td>\n      <td>49.861908</td>\n      <td>0.759578</td>\n      <td>0.033746</td>\n      <td>0.861874</td>\n      <td>5.0</td>\n      <td>114</td>\n      <td>5.0</td>\n      <td>6.0</td>\n    </tr>\n  </tbody>\n</table>\n<p>76 rows × 12 columns</p>\n</div>"
     },
     "metadata": {},
     "execution_count": 26
    }
   ],
   "source": [
    "# Merge 'happy_postg' on index with 'y_test_all' on column name 'index'. (join=outer)\n",
    "happy_postg_final_m1 = pd.merge(happy_postg,y_test_all_m1, how=\"outer\", left_index=True, right_on=\"index\")\n",
    "happy_postg_final_m1 = happy_postg_final_m1.dropna()\n",
    "happy_postg_final_m1= happy_postg_final_m1.sort_index()\n",
    "happy_postg_final_m1"
   ]
  },
  {
   "cell_type": "code",
   "execution_count": 27,
   "metadata": {},
   "outputs": [
    {
     "output_type": "execute_result",
     "data": {
      "text/plain": [
       "       id  year      country  logged_GDP_per_capita   support   life_exp  \\\n",
       "0.0   112  2020       Gambia               7.321815  0.693169  55.012016   \n",
       "1.0    63  2020       Serbia               9.680981  0.881476  68.210205   \n",
       "2.0   269  2021         Mali               7.744000  0.724000  51.969000   \n",
       "3.0    39  2020      Bahrain              10.676380  0.876342  68.500000   \n",
       "4.0   276  2021      Namibia               9.161000  0.818000  56.799000   \n",
       "...   ...   ...          ...                    ...       ...        ...   \n",
       "71.0  214  2021  South Korea              10.651000  0.799000  73.900000   \n",
       "72.0  187  2021       Brazil               9.577000  0.882000  66.601000   \n",
       "73.0  296  2021       Malawi               6.958000  0.537000  57.948000   \n",
       "74.0   46  2020      Romania              10.107584  0.825162  67.207237   \n",
       "75.0  114  2020      Nigeria               8.576625  0.737217  49.861908   \n",
       "\n",
       "       freedom  generosity  corruption  y_actual  y_predicted  \n",
       "0.0   0.733163    0.343199    0.690718       5.0          6.0  \n",
       "1.0   0.726496   -0.073676    0.843509       6.0          6.0  \n",
       "2.0   0.697000   -0.036000    0.827000       5.0          6.0  \n",
       "3.0   0.905856    0.133729    0.739347       7.0          6.0  \n",
       "4.0   0.719000   -0.149000    0.847000       5.0          6.0  \n",
       "...        ...         ...         ...       ...          ...  \n",
       "71.0  0.672000   -0.083000    0.727000       6.0          6.0  \n",
       "72.0  0.804000   -0.071000    0.756000       7.0          6.0  \n",
       "73.0  0.780000    0.038000    0.729000       4.0          6.0  \n",
       "74.0  0.842823   -0.197815    0.934300       7.0          6.0  \n",
       "75.0  0.759578    0.033746    0.861874       5.0          6.0  \n",
       "\n",
       "[76 rows x 11 columns]"
      ],
      "text/html": "<div>\n<style scoped>\n    .dataframe tbody tr th:only-of-type {\n        vertical-align: middle;\n    }\n\n    .dataframe tbody tr th {\n        vertical-align: top;\n    }\n\n    .dataframe thead th {\n        text-align: right;\n    }\n</style>\n<table border=\"1\" class=\"dataframe\">\n  <thead>\n    <tr style=\"text-align: right;\">\n      <th></th>\n      <th>id</th>\n      <th>year</th>\n      <th>country</th>\n      <th>logged_GDP_per_capita</th>\n      <th>support</th>\n      <th>life_exp</th>\n      <th>freedom</th>\n      <th>generosity</th>\n      <th>corruption</th>\n      <th>y_actual</th>\n      <th>y_predicted</th>\n    </tr>\n  </thead>\n  <tbody>\n    <tr>\n      <th>0.0</th>\n      <td>112</td>\n      <td>2020</td>\n      <td>Gambia</td>\n      <td>7.321815</td>\n      <td>0.693169</td>\n      <td>55.012016</td>\n      <td>0.733163</td>\n      <td>0.343199</td>\n      <td>0.690718</td>\n      <td>5.0</td>\n      <td>6.0</td>\n    </tr>\n    <tr>\n      <th>1.0</th>\n      <td>63</td>\n      <td>2020</td>\n      <td>Serbia</td>\n      <td>9.680981</td>\n      <td>0.881476</td>\n      <td>68.210205</td>\n      <td>0.726496</td>\n      <td>-0.073676</td>\n      <td>0.843509</td>\n      <td>6.0</td>\n      <td>6.0</td>\n    </tr>\n    <tr>\n      <th>2.0</th>\n      <td>269</td>\n      <td>2021</td>\n      <td>Mali</td>\n      <td>7.744000</td>\n      <td>0.724000</td>\n      <td>51.969000</td>\n      <td>0.697000</td>\n      <td>-0.036000</td>\n      <td>0.827000</td>\n      <td>5.0</td>\n      <td>6.0</td>\n    </tr>\n    <tr>\n      <th>3.0</th>\n      <td>39</td>\n      <td>2020</td>\n      <td>Bahrain</td>\n      <td>10.676380</td>\n      <td>0.876342</td>\n      <td>68.500000</td>\n      <td>0.905856</td>\n      <td>0.133729</td>\n      <td>0.739347</td>\n      <td>7.0</td>\n      <td>6.0</td>\n    </tr>\n    <tr>\n      <th>4.0</th>\n      <td>276</td>\n      <td>2021</td>\n      <td>Namibia</td>\n      <td>9.161000</td>\n      <td>0.818000</td>\n      <td>56.799000</td>\n      <td>0.719000</td>\n      <td>-0.149000</td>\n      <td>0.847000</td>\n      <td>5.0</td>\n      <td>6.0</td>\n    </tr>\n    <tr>\n      <th>...</th>\n      <td>...</td>\n      <td>...</td>\n      <td>...</td>\n      <td>...</td>\n      <td>...</td>\n      <td>...</td>\n      <td>...</td>\n      <td>...</td>\n      <td>...</td>\n      <td>...</td>\n      <td>...</td>\n    </tr>\n    <tr>\n      <th>71.0</th>\n      <td>214</td>\n      <td>2021</td>\n      <td>South Korea</td>\n      <td>10.651000</td>\n      <td>0.799000</td>\n      <td>73.900000</td>\n      <td>0.672000</td>\n      <td>-0.083000</td>\n      <td>0.727000</td>\n      <td>6.0</td>\n      <td>6.0</td>\n    </tr>\n    <tr>\n      <th>72.0</th>\n      <td>187</td>\n      <td>2021</td>\n      <td>Brazil</td>\n      <td>9.577000</td>\n      <td>0.882000</td>\n      <td>66.601000</td>\n      <td>0.804000</td>\n      <td>-0.071000</td>\n      <td>0.756000</td>\n      <td>7.0</td>\n      <td>6.0</td>\n    </tr>\n    <tr>\n      <th>73.0</th>\n      <td>296</td>\n      <td>2021</td>\n      <td>Malawi</td>\n      <td>6.958000</td>\n      <td>0.537000</td>\n      <td>57.948000</td>\n      <td>0.780000</td>\n      <td>0.038000</td>\n      <td>0.729000</td>\n      <td>4.0</td>\n      <td>6.0</td>\n    </tr>\n    <tr>\n      <th>74.0</th>\n      <td>46</td>\n      <td>2020</td>\n      <td>Romania</td>\n      <td>10.107584</td>\n      <td>0.825162</td>\n      <td>67.207237</td>\n      <td>0.842823</td>\n      <td>-0.197815</td>\n      <td>0.934300</td>\n      <td>7.0</td>\n      <td>6.0</td>\n    </tr>\n    <tr>\n      <th>75.0</th>\n      <td>114</td>\n      <td>2020</td>\n      <td>Nigeria</td>\n      <td>8.576625</td>\n      <td>0.737217</td>\n      <td>49.861908</td>\n      <td>0.759578</td>\n      <td>0.033746</td>\n      <td>0.861874</td>\n      <td>5.0</td>\n      <td>6.0</td>\n    </tr>\n  </tbody>\n</table>\n<p>76 rows × 11 columns</p>\n</div>"
     },
     "metadata": {},
     "execution_count": 27
    }
   ],
   "source": [
    "# Rename column 'index' to 'id'\n",
    "happy_postg_final_m1 = happy_postg_final_m1.rename({'index':'id'}, axis='columns')\n",
    "\n",
    "# Reorder column names\n",
    "happy_postg_final_m1 = happy_postg_final_m1[['id','year','country','logged_GDP_per_capita','support','life_exp','freedom','generosity','corruption', 'y_actual','y_predicted']]\n",
    "happy_postg_final_m1"
   ]
  },
  {
   "cell_type": "code",
   "execution_count": 28,
   "metadata": {},
   "outputs": [
    {
     "output_type": "execute_result",
     "data": {
      "text/plain": [
       "      id  year  country  logged_GDP_per_capita   support   life_exp   freedom  \\\n",
       "74.0  46  2020  Romania              10.107584  0.825162  67.207237  0.842823   \n",
       "\n",
       "      generosity  corruption  y_actual  y_predicted  \n",
       "74.0   -0.197815      0.9343       7.0          6.0  "
      ],
      "text/html": "<div>\n<style scoped>\n    .dataframe tbody tr th:only-of-type {\n        vertical-align: middle;\n    }\n\n    .dataframe tbody tr th {\n        vertical-align: top;\n    }\n\n    .dataframe thead th {\n        text-align: right;\n    }\n</style>\n<table border=\"1\" class=\"dataframe\">\n  <thead>\n    <tr style=\"text-align: right;\">\n      <th></th>\n      <th>id</th>\n      <th>year</th>\n      <th>country</th>\n      <th>logged_GDP_per_capita</th>\n      <th>support</th>\n      <th>life_exp</th>\n      <th>freedom</th>\n      <th>generosity</th>\n      <th>corruption</th>\n      <th>y_actual</th>\n      <th>y_predicted</th>\n    </tr>\n  </thead>\n  <tbody>\n    <tr>\n      <th>74.0</th>\n      <td>46</td>\n      <td>2020</td>\n      <td>Romania</td>\n      <td>10.107584</td>\n      <td>0.825162</td>\n      <td>67.207237</td>\n      <td>0.842823</td>\n      <td>-0.197815</td>\n      <td>0.9343</td>\n      <td>7.0</td>\n      <td>6.0</td>\n    </tr>\n  </tbody>\n</table>\n</div>"
     },
     "metadata": {},
     "execution_count": 28
    }
   ],
   "source": [
    "happy_postg_final_m1[happy_postg_final_m1['country']==\"Romania\"]"
   ]
  }
 ]
}