{
 "metadata": {
  "language_info": {
   "codemirror_mode": {
    "name": "ipython",
    "version": 3
   },
   "file_extension": ".py",
   "mimetype": "text/x-python",
   "name": "python",
   "nbconvert_exporter": "python",
   "pygments_lexer": "ipython3",
   "version": "3.8.5"
  },
  "orig_nbformat": 2,
  "kernelspec": {
   "name": "python3",
   "display_name": "Python 3",
   "language": "python"
  }
 },
 "nbformat": 4,
 "nbformat_minor": 2,
 "cells": [
  {
   "source": [
    "# Logistic Regression"
   ],
   "cell_type": "markdown",
   "metadata": {}
  },
  {
   "cell_type": "code",
   "execution_count": 1,
   "metadata": {},
   "outputs": [],
   "source": [
    "# Dependencies\n",
    "import pandas as pd # pandas dataframe view\n",
    "from sklearn.linear_model import LogisticRegression # Machine learning model\n",
    "import joblib # To save model \n",
    "import numpy as np"
   ]
  },
  {
   "cell_type": "code",
   "execution_count": 12,
   "metadata": {},
   "outputs": [
    {
     "output_type": "stream",
     "name": "stdout",
     "text": [
      "<class 'numpy.ndarray'>\n<class 'pandas.core.series.Series'>\n"
     ]
    },
    {
     "output_type": "execute_result",
     "data": {
      "text/plain": [
       "112    5\n",
       "63     6\n",
       "116    5\n",
       "39     7\n",
       "123    5\n",
       "      ..\n",
       "61     6\n",
       "34     7\n",
       "143    4\n",
       "46     7\n",
       "114    5\n",
       "Name: score, Length: 76, dtype: int64"
      ]
     },
     "metadata": {},
     "execution_count": 12
    }
   ],
   "source": [
    "# Retrieve variables from other jupyter notebook\n",
    "%store -r X_train_scaled\n",
    "%store -r X_test_scaled\n",
    "%store -r y_train\n",
    "%store -r y_test\n",
    "\n",
    "# y_test\n",
    "print(type(X_train_scaled))\n",
    "print(type(y_test))\n",
    "y_test"
   ]
  },
  {
   "cell_type": "code",
   "execution_count": 3,
   "metadata": {},
   "outputs": [
    {
     "output_type": "execute_result",
     "data": {
      "text/plain": [
       "LogisticRegression()"
      ]
     },
     "metadata": {},
     "execution_count": 3
    }
   ],
   "source": [
    "# Create classifier\n",
    "classifier = LogisticRegression()\n",
    "classifier"
   ]
  },
  {
   "cell_type": "code",
   "execution_count": 4,
   "metadata": {},
   "outputs": [
    {
     "output_type": "execute_result",
     "data": {
      "text/plain": [
       "LogisticRegression()"
      ]
     },
     "metadata": {},
     "execution_count": 4
    }
   ],
   "source": [
    "# Fit data points to classifier 'Logistic Regression'\n",
    "classifier.fit(X_train_scaled, y_train)"
   ]
  },
  {
   "cell_type": "code",
   "execution_count": 5,
   "metadata": {},
   "outputs": [
    {
     "output_type": "stream",
     "name": "stdout",
     "text": [
      "Training Data Score: 0.6017699115044248\nTesting Data Score: 0.6052631578947368\n"
     ]
    }
   ],
   "source": [
    "# Accuracy of Model\n",
    "print(f\"Training Data Score: {classifier.score(X_train_scaled, y_train)}\")\n",
    "print(f\"Testing Data Score: {classifier.score(X_test_scaled, y_test)}\")"
   ]
  },
  {
   "cell_type": "code",
   "execution_count": 6,
   "metadata": {},
   "outputs": [
    {
     "output_type": "execute_result",
     "data": {
      "text/plain": [
       "     Prediction  Actual\n",
       "112           5       5\n",
       "63            6       6\n",
       "116           5       5\n",
       "39            7       7\n",
       "123           5       5\n",
       "..          ...     ...\n",
       "61            6       6\n",
       "34            6       7\n",
       "143           5       4\n",
       "46            6       7\n",
       "114           5       5\n",
       "\n",
       "[76 rows x 2 columns]"
      ],
      "text/html": "<div>\n<style scoped>\n    .dataframe tbody tr th:only-of-type {\n        vertical-align: middle;\n    }\n\n    .dataframe tbody tr th {\n        vertical-align: top;\n    }\n\n    .dataframe thead th {\n        text-align: right;\n    }\n</style>\n<table border=\"1\" class=\"dataframe\">\n  <thead>\n    <tr style=\"text-align: right;\">\n      <th></th>\n      <th>Prediction</th>\n      <th>Actual</th>\n    </tr>\n  </thead>\n  <tbody>\n    <tr>\n      <th>112</th>\n      <td>5</td>\n      <td>5</td>\n    </tr>\n    <tr>\n      <th>63</th>\n      <td>6</td>\n      <td>6</td>\n    </tr>\n    <tr>\n      <th>116</th>\n      <td>5</td>\n      <td>5</td>\n    </tr>\n    <tr>\n      <th>39</th>\n      <td>7</td>\n      <td>7</td>\n    </tr>\n    <tr>\n      <th>123</th>\n      <td>5</td>\n      <td>5</td>\n    </tr>\n    <tr>\n      <th>...</th>\n      <td>...</td>\n      <td>...</td>\n    </tr>\n    <tr>\n      <th>61</th>\n      <td>6</td>\n      <td>6</td>\n    </tr>\n    <tr>\n      <th>34</th>\n      <td>6</td>\n      <td>7</td>\n    </tr>\n    <tr>\n      <th>143</th>\n      <td>5</td>\n      <td>4</td>\n    </tr>\n    <tr>\n      <th>46</th>\n      <td>6</td>\n      <td>7</td>\n    </tr>\n    <tr>\n      <th>114</th>\n      <td>5</td>\n      <td>5</td>\n    </tr>\n  </tbody>\n</table>\n<p>76 rows × 2 columns</p>\n</div>"
     },
     "metadata": {},
     "execution_count": 6
    }
   ],
   "source": [
    "predictions = classifier.predict(X_test_scaled)\n",
    "pd.DataFrame({\"Prediction\": predictions, \"Actual\": y_test})"
   ]
  },
  {
   "cell_type": "code",
   "execution_count": 9,
   "metadata": {},
   "outputs": [
    {
     "output_type": "execute_result",
     "data": {
      "text/plain": [
       "['Models/model1.sav']"
      ]
     },
     "metadata": {},
     "execution_count": 9
    }
   ],
   "source": [
    "# Save the svc model \n",
    "filename = 'Models/model1.sav'\n",
    "\n",
    "# Print file name\n",
    "joblib.dump(classifier, filename)"
   ]
  },
  {
   "cell_type": "code",
   "execution_count": 10,
   "metadata": {},
   "outputs": [
    {
     "output_type": "execute_result",
     "data": {
      "text/plain": [
       "     Prediction  Actual\n",
       "112           5       5\n",
       "63            6       6\n",
       "116           5       5\n",
       "39            7       7\n",
       "123           5       5\n",
       "..          ...     ...\n",
       "61            6       6\n",
       "34            6       7\n",
       "143           5       4\n",
       "46            6       7\n",
       "114           5       5\n",
       "\n",
       "[76 rows x 2 columns]"
      ],
      "text/html": "<div>\n<style scoped>\n    .dataframe tbody tr th:only-of-type {\n        vertical-align: middle;\n    }\n\n    .dataframe tbody tr th {\n        vertical-align: top;\n    }\n\n    .dataframe thead th {\n        text-align: right;\n    }\n</style>\n<table border=\"1\" class=\"dataframe\">\n  <thead>\n    <tr style=\"text-align: right;\">\n      <th></th>\n      <th>Prediction</th>\n      <th>Actual</th>\n    </tr>\n  </thead>\n  <tbody>\n    <tr>\n      <th>112</th>\n      <td>5</td>\n      <td>5</td>\n    </tr>\n    <tr>\n      <th>63</th>\n      <td>6</td>\n      <td>6</td>\n    </tr>\n    <tr>\n      <th>116</th>\n      <td>5</td>\n      <td>5</td>\n    </tr>\n    <tr>\n      <th>39</th>\n      <td>7</td>\n      <td>7</td>\n    </tr>\n    <tr>\n      <th>123</th>\n      <td>5</td>\n      <td>5</td>\n    </tr>\n    <tr>\n      <th>...</th>\n      <td>...</td>\n      <td>...</td>\n    </tr>\n    <tr>\n      <th>61</th>\n      <td>6</td>\n      <td>6</td>\n    </tr>\n    <tr>\n      <th>34</th>\n      <td>6</td>\n      <td>7</td>\n    </tr>\n    <tr>\n      <th>143</th>\n      <td>5</td>\n      <td>4</td>\n    </tr>\n    <tr>\n      <th>46</th>\n      <td>6</td>\n      <td>7</td>\n    </tr>\n    <tr>\n      <th>114</th>\n      <td>5</td>\n      <td>5</td>\n    </tr>\n  </tbody>\n</table>\n<p>76 rows × 2 columns</p>\n</div>"
     },
     "metadata": {},
     "execution_count": 10
    }
   ],
   "source": [
    "# Test saved model loads smoothly\n",
    "loaded_model = joblib.load('Models/model2.sav')\n",
    "\n",
    "predictions = loaded_model.predict(X_test_scaled)\n",
    "pd.DataFrame({\"Prediction\": predictions, \"Actual\": y_test})"
   ]
  }
 ]
}