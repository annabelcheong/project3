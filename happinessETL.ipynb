{
 "metadata": {
  "language_info": {
   "codemirror_mode": {
    "name": "ipython",
    "version": 3
   },
   "file_extension": ".py",
   "mimetype": "text/x-python",
   "name": "python",
   "nbconvert_exporter": "python",
   "pygments_lexer": "ipython3",
   "version": "3.6.13"
  },
  "orig_nbformat": 2,
  "kernelspec": {
   "name": "python3",
   "display_name": "Python 3.6.13 64-bit ('PythonAdv': conda)",
   "metadata": {
    "interpreter": {
     "hash": "d6d1acd81953b03bcf8e5d296cc3c28990ea354090956f78670ae51fff7474ba"
    }
   }
  }
 },
 "nbformat": 4,
 "nbformat_minor": 2,
 "cells": [
  {
   "cell_type": "code",
   "execution_count": 1,
   "metadata": {},
   "outputs": [],
   "source": [
    "# Dependencies\n",
    "import pandas as pd"
   ]
  },
  {
   "source": [
    "# 2020 Data"
   ],
   "cell_type": "markdown",
   "metadata": {}
  },
  {
   "cell_type": "code",
   "execution_count": 2,
   "metadata": {},
   "outputs": [
    {
     "output_type": "execute_result",
     "data": {
      "text/plain": [
       "  Country name Regional indicator  Ladder score  \\\n",
       "0      Finland     Western Europe        7.8087   \n",
       "1      Denmark     Western Europe        7.6456   \n",
       "2  Switzerland     Western Europe        7.5599   \n",
       "3      Iceland     Western Europe        7.5045   \n",
       "4       Norway     Western Europe        7.4880   \n",
       "\n",
       "   Standard error of ladder score  upperwhisker  lowerwhisker  \\\n",
       "0                        0.031156      7.869766      7.747634   \n",
       "1                        0.033492      7.711245      7.579955   \n",
       "2                        0.035014      7.628528      7.491272   \n",
       "3                        0.059616      7.621347      7.387653   \n",
       "4                        0.034837      7.556281      7.419719   \n",
       "\n",
       "   Logged GDP per capita  Social support  Healthy life expectancy  \\\n",
       "0              10.639267        0.954330                71.900825   \n",
       "1              10.774001        0.955991                72.402504   \n",
       "2              10.979933        0.942847                74.102448   \n",
       "3              10.772559        0.974670                73.000000   \n",
       "4              11.087804        0.952487                73.200783   \n",
       "\n",
       "   Freedom to make life choices  Generosity  Perceptions of corruption  \\\n",
       "0                      0.949172   -0.059482                   0.195445   \n",
       "1                      0.951444    0.066202                   0.168489   \n",
       "2                      0.921337    0.105911                   0.303728   \n",
       "3                      0.948892    0.246944                   0.711710   \n",
       "4                      0.955750    0.134533                   0.263218   \n",
       "\n",
       "   Ladder score in Dystopia  Explained by: Log GDP per capita  \\\n",
       "0                  1.972317                          1.285190   \n",
       "1                  1.972317                          1.326949   \n",
       "2                  1.972317                          1.390774   \n",
       "3                  1.972317                          1.326502   \n",
       "4                  1.972317                          1.424207   \n",
       "\n",
       "   Explained by: Social support  Explained by: Healthy life expectancy  \\\n",
       "0                      1.499526                               0.961271   \n",
       "1                      1.503449                               0.979333   \n",
       "2                      1.472403                               1.040533   \n",
       "3                      1.547567                               1.000843   \n",
       "4                      1.495173                               1.008072   \n",
       "\n",
       "   Explained by: Freedom to make life choices  Explained by: Generosity  \\\n",
       "0                                    0.662317                  0.159670   \n",
       "1                                    0.665040                  0.242793   \n",
       "2                                    0.628954                  0.269056   \n",
       "3                                    0.661981                  0.362330   \n",
       "4                                    0.670201                  0.287985   \n",
       "\n",
       "   Explained by: Perceptions of corruption  Dystopia + residual  \n",
       "0                                 0.477857             2.762835  \n",
       "1                                 0.495260             2.432741  \n",
       "2                                 0.407946             2.350267  \n",
       "3                                 0.144541             2.460688  \n",
       "4                                 0.434101             2.168266  "
      ],
      "text/html": "<div>\n<style scoped>\n    .dataframe tbody tr th:only-of-type {\n        vertical-align: middle;\n    }\n\n    .dataframe tbody tr th {\n        vertical-align: top;\n    }\n\n    .dataframe thead th {\n        text-align: right;\n    }\n</style>\n<table border=\"1\" class=\"dataframe\">\n  <thead>\n    <tr style=\"text-align: right;\">\n      <th></th>\n      <th>Country name</th>\n      <th>Regional indicator</th>\n      <th>Ladder score</th>\n      <th>Standard error of ladder score</th>\n      <th>upperwhisker</th>\n      <th>lowerwhisker</th>\n      <th>Logged GDP per capita</th>\n      <th>Social support</th>\n      <th>Healthy life expectancy</th>\n      <th>Freedom to make life choices</th>\n      <th>Generosity</th>\n      <th>Perceptions of corruption</th>\n      <th>Ladder score in Dystopia</th>\n      <th>Explained by: Log GDP per capita</th>\n      <th>Explained by: Social support</th>\n      <th>Explained by: Healthy life expectancy</th>\n      <th>Explained by: Freedom to make life choices</th>\n      <th>Explained by: Generosity</th>\n      <th>Explained by: Perceptions of corruption</th>\n      <th>Dystopia + residual</th>\n    </tr>\n  </thead>\n  <tbody>\n    <tr>\n      <th>0</th>\n      <td>Finland</td>\n      <td>Western Europe</td>\n      <td>7.8087</td>\n      <td>0.031156</td>\n      <td>7.869766</td>\n      <td>7.747634</td>\n      <td>10.639267</td>\n      <td>0.954330</td>\n      <td>71.900825</td>\n      <td>0.949172</td>\n      <td>-0.059482</td>\n      <td>0.195445</td>\n      <td>1.972317</td>\n      <td>1.285190</td>\n      <td>1.499526</td>\n      <td>0.961271</td>\n      <td>0.662317</td>\n      <td>0.159670</td>\n      <td>0.477857</td>\n      <td>2.762835</td>\n    </tr>\n    <tr>\n      <th>1</th>\n      <td>Denmark</td>\n      <td>Western Europe</td>\n      <td>7.6456</td>\n      <td>0.033492</td>\n      <td>7.711245</td>\n      <td>7.579955</td>\n      <td>10.774001</td>\n      <td>0.955991</td>\n      <td>72.402504</td>\n      <td>0.951444</td>\n      <td>0.066202</td>\n      <td>0.168489</td>\n      <td>1.972317</td>\n      <td>1.326949</td>\n      <td>1.503449</td>\n      <td>0.979333</td>\n      <td>0.665040</td>\n      <td>0.242793</td>\n      <td>0.495260</td>\n      <td>2.432741</td>\n    </tr>\n    <tr>\n      <th>2</th>\n      <td>Switzerland</td>\n      <td>Western Europe</td>\n      <td>7.5599</td>\n      <td>0.035014</td>\n      <td>7.628528</td>\n      <td>7.491272</td>\n      <td>10.979933</td>\n      <td>0.942847</td>\n      <td>74.102448</td>\n      <td>0.921337</td>\n      <td>0.105911</td>\n      <td>0.303728</td>\n      <td>1.972317</td>\n      <td>1.390774</td>\n      <td>1.472403</td>\n      <td>1.040533</td>\n      <td>0.628954</td>\n      <td>0.269056</td>\n      <td>0.407946</td>\n      <td>2.350267</td>\n    </tr>\n    <tr>\n      <th>3</th>\n      <td>Iceland</td>\n      <td>Western Europe</td>\n      <td>7.5045</td>\n      <td>0.059616</td>\n      <td>7.621347</td>\n      <td>7.387653</td>\n      <td>10.772559</td>\n      <td>0.974670</td>\n      <td>73.000000</td>\n      <td>0.948892</td>\n      <td>0.246944</td>\n      <td>0.711710</td>\n      <td>1.972317</td>\n      <td>1.326502</td>\n      <td>1.547567</td>\n      <td>1.000843</td>\n      <td>0.661981</td>\n      <td>0.362330</td>\n      <td>0.144541</td>\n      <td>2.460688</td>\n    </tr>\n    <tr>\n      <th>4</th>\n      <td>Norway</td>\n      <td>Western Europe</td>\n      <td>7.4880</td>\n      <td>0.034837</td>\n      <td>7.556281</td>\n      <td>7.419719</td>\n      <td>11.087804</td>\n      <td>0.952487</td>\n      <td>73.200783</td>\n      <td>0.955750</td>\n      <td>0.134533</td>\n      <td>0.263218</td>\n      <td>1.972317</td>\n      <td>1.424207</td>\n      <td>1.495173</td>\n      <td>1.008072</td>\n      <td>0.670201</td>\n      <td>0.287985</td>\n      <td>0.434101</td>\n      <td>2.168266</td>\n    </tr>\n  </tbody>\n</table>\n</div>"
     },
     "metadata": {},
     "execution_count": 2
    }
   ],
   "source": [
    "happy2020 = pd.read_csv(\"Resources/happy2020.csv\")\n",
    "happy2020.head()"
   ]
  },
  {
   "cell_type": "code",
   "execution_count": 3,
   "metadata": {},
   "outputs": [
    {
     "output_type": "execute_result",
     "data": {
      "text/plain": [
       "   year Country name  Ladder score  Logged GDP per capita  Social support  \\\n",
       "0  2020      Finland        7.8087              10.639267        0.954330   \n",
       "1  2020      Denmark        7.6456              10.774001        0.955991   \n",
       "2  2020  Switzerland        7.5599              10.979933        0.942847   \n",
       "3  2020      Iceland        7.5045              10.772559        0.974670   \n",
       "4  2020       Norway        7.4880              11.087804        0.952487   \n",
       "\n",
       "   Healthy life expectancy  Freedom to make life choices  Generosity  \\\n",
       "0                71.900825                      0.949172   -0.059482   \n",
       "1                72.402504                      0.951444    0.066202   \n",
       "2                74.102448                      0.921337    0.105911   \n",
       "3                73.000000                      0.948892    0.246944   \n",
       "4                73.200783                      0.955750    0.134533   \n",
       "\n",
       "   Perceptions of corruption  \n",
       "0                   0.195445  \n",
       "1                   0.168489  \n",
       "2                   0.303728  \n",
       "3                   0.711710  \n",
       "4                   0.263218  "
      ],
      "text/html": "<div>\n<style scoped>\n    .dataframe tbody tr th:only-of-type {\n        vertical-align: middle;\n    }\n\n    .dataframe tbody tr th {\n        vertical-align: top;\n    }\n\n    .dataframe thead th {\n        text-align: right;\n    }\n</style>\n<table border=\"1\" class=\"dataframe\">\n  <thead>\n    <tr style=\"text-align: right;\">\n      <th></th>\n      <th>year</th>\n      <th>Country name</th>\n      <th>Ladder score</th>\n      <th>Logged GDP per capita</th>\n      <th>Social support</th>\n      <th>Healthy life expectancy</th>\n      <th>Freedom to make life choices</th>\n      <th>Generosity</th>\n      <th>Perceptions of corruption</th>\n    </tr>\n  </thead>\n  <tbody>\n    <tr>\n      <th>0</th>\n      <td>2020</td>\n      <td>Finland</td>\n      <td>7.8087</td>\n      <td>10.639267</td>\n      <td>0.954330</td>\n      <td>71.900825</td>\n      <td>0.949172</td>\n      <td>-0.059482</td>\n      <td>0.195445</td>\n    </tr>\n    <tr>\n      <th>1</th>\n      <td>2020</td>\n      <td>Denmark</td>\n      <td>7.6456</td>\n      <td>10.774001</td>\n      <td>0.955991</td>\n      <td>72.402504</td>\n      <td>0.951444</td>\n      <td>0.066202</td>\n      <td>0.168489</td>\n    </tr>\n    <tr>\n      <th>2</th>\n      <td>2020</td>\n      <td>Switzerland</td>\n      <td>7.5599</td>\n      <td>10.979933</td>\n      <td>0.942847</td>\n      <td>74.102448</td>\n      <td>0.921337</td>\n      <td>0.105911</td>\n      <td>0.303728</td>\n    </tr>\n    <tr>\n      <th>3</th>\n      <td>2020</td>\n      <td>Iceland</td>\n      <td>7.5045</td>\n      <td>10.772559</td>\n      <td>0.974670</td>\n      <td>73.000000</td>\n      <td>0.948892</td>\n      <td>0.246944</td>\n      <td>0.711710</td>\n    </tr>\n    <tr>\n      <th>4</th>\n      <td>2020</td>\n      <td>Norway</td>\n      <td>7.4880</td>\n      <td>11.087804</td>\n      <td>0.952487</td>\n      <td>73.200783</td>\n      <td>0.955750</td>\n      <td>0.134533</td>\n      <td>0.263218</td>\n    </tr>\n  </tbody>\n</table>\n</div>"
     },
     "metadata": {},
     "execution_count": 3
    }
   ],
   "source": [
    "happy2020['year'] = 2020\n",
    "\n",
    "happy2020 = happy2020[['year','Country name','Ladder score','Logged GDP per capita','Social support','Healthy life expectancy','Freedom to make life choices','Generosity','Perceptions of corruption']]\n",
    "\n",
    "\n",
    "happy2020.head()"
   ]
  },
  {
   "source": [
    "# 2021 Data"
   ],
   "cell_type": "markdown",
   "metadata": {}
  },
  {
   "cell_type": "code",
   "execution_count": 4,
   "metadata": {},
   "outputs": [
    {
     "output_type": "execute_result",
     "data": {
      "text/plain": [
       "  Country name Regional indicator  Ladder score  \\\n",
       "0      Finland     Western Europe         7.842   \n",
       "1      Denmark     Western Europe         7.620   \n",
       "2  Switzerland     Western Europe         7.571   \n",
       "3      Iceland     Western Europe         7.554   \n",
       "4  Netherlands     Western Europe         7.464   \n",
       "\n",
       "   Standard error of ladder score  upperwhisker  lowerwhisker  \\\n",
       "0                           0.032         7.904         7.780   \n",
       "1                           0.035         7.687         7.552   \n",
       "2                           0.036         7.643         7.500   \n",
       "3                           0.059         7.670         7.438   \n",
       "4                           0.027         7.518         7.410   \n",
       "\n",
       "   Logged GDP per capita  Social support  Healthy life expectancy  \\\n",
       "0                 10.775           0.954                     72.0   \n",
       "1                 10.933           0.954                     72.7   \n",
       "2                 11.117           0.942                     74.4   \n",
       "3                 10.878           0.983                     73.0   \n",
       "4                 10.932           0.942                     72.4   \n",
       "\n",
       "   Freedom to make life choices  Generosity  Perceptions of corruption  \\\n",
       "0                         0.949      -0.098                      0.186   \n",
       "1                         0.946       0.030                      0.179   \n",
       "2                         0.919       0.025                      0.292   \n",
       "3                         0.955       0.160                      0.673   \n",
       "4                         0.913       0.175                      0.338   \n",
       "\n",
       "   Ladder score in Dystopia  Explained by: Log GDP per capita  \\\n",
       "0                      2.43                             1.446   \n",
       "1                      2.43                             1.502   \n",
       "2                      2.43                             1.566   \n",
       "3                      2.43                             1.482   \n",
       "4                      2.43                             1.501   \n",
       "\n",
       "   Explained by: Social support  Explained by: Healthy life expectancy  \\\n",
       "0                         1.106                                  0.741   \n",
       "1                         1.108                                  0.763   \n",
       "2                         1.079                                  0.816   \n",
       "3                         1.172                                  0.772   \n",
       "4                         1.079                                  0.753   \n",
       "\n",
       "   Explained by: Freedom to make life choices  Explained by: Generosity  \\\n",
       "0                                       0.691                     0.124   \n",
       "1                                       0.686                     0.208   \n",
       "2                                       0.653                     0.204   \n",
       "3                                       0.698                     0.293   \n",
       "4                                       0.647                     0.302   \n",
       "\n",
       "   Explained by: Perceptions of corruption  Dystopia + residual  \n",
       "0                                    0.481                3.253  \n",
       "1                                    0.485                2.868  \n",
       "2                                    0.413                2.839  \n",
       "3                                    0.170                2.967  \n",
       "4                                    0.384                2.798  "
      ],
      "text/html": "<div>\n<style scoped>\n    .dataframe tbody tr th:only-of-type {\n        vertical-align: middle;\n    }\n\n    .dataframe tbody tr th {\n        vertical-align: top;\n    }\n\n    .dataframe thead th {\n        text-align: right;\n    }\n</style>\n<table border=\"1\" class=\"dataframe\">\n  <thead>\n    <tr style=\"text-align: right;\">\n      <th></th>\n      <th>Country name</th>\n      <th>Regional indicator</th>\n      <th>Ladder score</th>\n      <th>Standard error of ladder score</th>\n      <th>upperwhisker</th>\n      <th>lowerwhisker</th>\n      <th>Logged GDP per capita</th>\n      <th>Social support</th>\n      <th>Healthy life expectancy</th>\n      <th>Freedom to make life choices</th>\n      <th>Generosity</th>\n      <th>Perceptions of corruption</th>\n      <th>Ladder score in Dystopia</th>\n      <th>Explained by: Log GDP per capita</th>\n      <th>Explained by: Social support</th>\n      <th>Explained by: Healthy life expectancy</th>\n      <th>Explained by: Freedom to make life choices</th>\n      <th>Explained by: Generosity</th>\n      <th>Explained by: Perceptions of corruption</th>\n      <th>Dystopia + residual</th>\n    </tr>\n  </thead>\n  <tbody>\n    <tr>\n      <th>0</th>\n      <td>Finland</td>\n      <td>Western Europe</td>\n      <td>7.842</td>\n      <td>0.032</td>\n      <td>7.904</td>\n      <td>7.780</td>\n      <td>10.775</td>\n      <td>0.954</td>\n      <td>72.0</td>\n      <td>0.949</td>\n      <td>-0.098</td>\n      <td>0.186</td>\n      <td>2.43</td>\n      <td>1.446</td>\n      <td>1.106</td>\n      <td>0.741</td>\n      <td>0.691</td>\n      <td>0.124</td>\n      <td>0.481</td>\n      <td>3.253</td>\n    </tr>\n    <tr>\n      <th>1</th>\n      <td>Denmark</td>\n      <td>Western Europe</td>\n      <td>7.620</td>\n      <td>0.035</td>\n      <td>7.687</td>\n      <td>7.552</td>\n      <td>10.933</td>\n      <td>0.954</td>\n      <td>72.7</td>\n      <td>0.946</td>\n      <td>0.030</td>\n      <td>0.179</td>\n      <td>2.43</td>\n      <td>1.502</td>\n      <td>1.108</td>\n      <td>0.763</td>\n      <td>0.686</td>\n      <td>0.208</td>\n      <td>0.485</td>\n      <td>2.868</td>\n    </tr>\n    <tr>\n      <th>2</th>\n      <td>Switzerland</td>\n      <td>Western Europe</td>\n      <td>7.571</td>\n      <td>0.036</td>\n      <td>7.643</td>\n      <td>7.500</td>\n      <td>11.117</td>\n      <td>0.942</td>\n      <td>74.4</td>\n      <td>0.919</td>\n      <td>0.025</td>\n      <td>0.292</td>\n      <td>2.43</td>\n      <td>1.566</td>\n      <td>1.079</td>\n      <td>0.816</td>\n      <td>0.653</td>\n      <td>0.204</td>\n      <td>0.413</td>\n      <td>2.839</td>\n    </tr>\n    <tr>\n      <th>3</th>\n      <td>Iceland</td>\n      <td>Western Europe</td>\n      <td>7.554</td>\n      <td>0.059</td>\n      <td>7.670</td>\n      <td>7.438</td>\n      <td>10.878</td>\n      <td>0.983</td>\n      <td>73.0</td>\n      <td>0.955</td>\n      <td>0.160</td>\n      <td>0.673</td>\n      <td>2.43</td>\n      <td>1.482</td>\n      <td>1.172</td>\n      <td>0.772</td>\n      <td>0.698</td>\n      <td>0.293</td>\n      <td>0.170</td>\n      <td>2.967</td>\n    </tr>\n    <tr>\n      <th>4</th>\n      <td>Netherlands</td>\n      <td>Western Europe</td>\n      <td>7.464</td>\n      <td>0.027</td>\n      <td>7.518</td>\n      <td>7.410</td>\n      <td>10.932</td>\n      <td>0.942</td>\n      <td>72.4</td>\n      <td>0.913</td>\n      <td>0.175</td>\n      <td>0.338</td>\n      <td>2.43</td>\n      <td>1.501</td>\n      <td>1.079</td>\n      <td>0.753</td>\n      <td>0.647</td>\n      <td>0.302</td>\n      <td>0.384</td>\n      <td>2.798</td>\n    </tr>\n  </tbody>\n</table>\n</div>"
     },
     "metadata": {},
     "execution_count": 4
    }
   ],
   "source": [
    "happy2021 = pd.read_csv(\"Resources/happy2021.csv\")\n",
    "happy2021.head()"
   ]
  },
  {
   "cell_type": "code",
   "execution_count": 5,
   "metadata": {},
   "outputs": [
    {
     "output_type": "execute_result",
     "data": {
      "text/plain": [
       "   year Country name  Ladder score  Logged GDP per capita  Social support  \\\n",
       "0  2021      Finland         7.842                 10.775           0.954   \n",
       "1  2021      Denmark         7.620                 10.933           0.954   \n",
       "2  2021  Switzerland         7.571                 11.117           0.942   \n",
       "3  2021      Iceland         7.554                 10.878           0.983   \n",
       "4  2021  Netherlands         7.464                 10.932           0.942   \n",
       "\n",
       "   Healthy life expectancy  Freedom to make life choices  Generosity  \\\n",
       "0                     72.0                         0.949      -0.098   \n",
       "1                     72.7                         0.946       0.030   \n",
       "2                     74.4                         0.919       0.025   \n",
       "3                     73.0                         0.955       0.160   \n",
       "4                     72.4                         0.913       0.175   \n",
       "\n",
       "   Perceptions of corruption  \n",
       "0                      0.186  \n",
       "1                      0.179  \n",
       "2                      0.292  \n",
       "3                      0.673  \n",
       "4                      0.338  "
      ],
      "text/html": "<div>\n<style scoped>\n    .dataframe tbody tr th:only-of-type {\n        vertical-align: middle;\n    }\n\n    .dataframe tbody tr th {\n        vertical-align: top;\n    }\n\n    .dataframe thead th {\n        text-align: right;\n    }\n</style>\n<table border=\"1\" class=\"dataframe\">\n  <thead>\n    <tr style=\"text-align: right;\">\n      <th></th>\n      <th>year</th>\n      <th>Country name</th>\n      <th>Ladder score</th>\n      <th>Logged GDP per capita</th>\n      <th>Social support</th>\n      <th>Healthy life expectancy</th>\n      <th>Freedom to make life choices</th>\n      <th>Generosity</th>\n      <th>Perceptions of corruption</th>\n    </tr>\n  </thead>\n  <tbody>\n    <tr>\n      <th>0</th>\n      <td>2021</td>\n      <td>Finland</td>\n      <td>7.842</td>\n      <td>10.775</td>\n      <td>0.954</td>\n      <td>72.0</td>\n      <td>0.949</td>\n      <td>-0.098</td>\n      <td>0.186</td>\n    </tr>\n    <tr>\n      <th>1</th>\n      <td>2021</td>\n      <td>Denmark</td>\n      <td>7.620</td>\n      <td>10.933</td>\n      <td>0.954</td>\n      <td>72.7</td>\n      <td>0.946</td>\n      <td>0.030</td>\n      <td>0.179</td>\n    </tr>\n    <tr>\n      <th>2</th>\n      <td>2021</td>\n      <td>Switzerland</td>\n      <td>7.571</td>\n      <td>11.117</td>\n      <td>0.942</td>\n      <td>74.4</td>\n      <td>0.919</td>\n      <td>0.025</td>\n      <td>0.292</td>\n    </tr>\n    <tr>\n      <th>3</th>\n      <td>2021</td>\n      <td>Iceland</td>\n      <td>7.554</td>\n      <td>10.878</td>\n      <td>0.983</td>\n      <td>73.0</td>\n      <td>0.955</td>\n      <td>0.160</td>\n      <td>0.673</td>\n    </tr>\n    <tr>\n      <th>4</th>\n      <td>2021</td>\n      <td>Netherlands</td>\n      <td>7.464</td>\n      <td>10.932</td>\n      <td>0.942</td>\n      <td>72.4</td>\n      <td>0.913</td>\n      <td>0.175</td>\n      <td>0.338</td>\n    </tr>\n  </tbody>\n</table>\n</div>"
     },
     "metadata": {},
     "execution_count": 5
    }
   ],
   "source": [
    "happy2021['year'] = 2021\n",
    "\n",
    "happy2021 = happy2021[['year','Country name','Ladder score','Logged GDP per capita','Social support','Healthy life expectancy','Freedom to make life choices','Generosity','Perceptions of corruption']]\n",
    "\n",
    "happy2021.head()"
   ]
  },
  {
   "source": [
    "# Concantenate dataframes of all years"
   ],
   "cell_type": "markdown",
   "metadata": {}
  },
  {
   "cell_type": "code",
   "execution_count": 6,
   "metadata": {},
   "outputs": [
    {
     "output_type": "execute_result",
     "data": {
      "text/plain": [
       "     year Country name  Ladder score  Logged GDP per capita  Social support  \\\n",
       "0    2020      Finland        7.8087              10.639267        0.954330   \n",
       "1    2020      Denmark        7.6456              10.774001        0.955991   \n",
       "2    2020  Switzerland        7.5599              10.979933        0.942847   \n",
       "3    2020      Iceland        7.5045              10.772559        0.974670   \n",
       "4    2020       Norway        7.4880              11.087804        0.952487   \n",
       "..    ...          ...           ...                    ...             ...   \n",
       "144  2021      Lesotho        3.5120               7.926000        0.787000   \n",
       "145  2021     Botswana        3.4670               9.782000        0.784000   \n",
       "146  2021       Rwanda        3.4150               7.676000        0.552000   \n",
       "147  2021     Zimbabwe        3.1450               7.943000        0.750000   \n",
       "148  2021  Afghanistan        2.5230               7.695000        0.463000   \n",
       "\n",
       "     Healthy life expectancy  Freedom to make life choices  Generosity  \\\n",
       "0                  71.900825                      0.949172   -0.059482   \n",
       "1                  72.402504                      0.951444    0.066202   \n",
       "2                  74.102448                      0.921337    0.105911   \n",
       "3                  73.000000                      0.948892    0.246944   \n",
       "4                  73.200783                      0.955750    0.134533   \n",
       "..                       ...                           ...         ...   \n",
       "144                48.700000                      0.715000   -0.131000   \n",
       "145                59.269000                      0.824000   -0.246000   \n",
       "146                61.400000                      0.897000    0.061000   \n",
       "147                56.201000                      0.677000   -0.047000   \n",
       "148                52.493000                      0.382000   -0.102000   \n",
       "\n",
       "     Perceptions of corruption  \n",
       "0                     0.195445  \n",
       "1                     0.168489  \n",
       "2                     0.303728  \n",
       "3                     0.711710  \n",
       "4                     0.263218  \n",
       "..                         ...  \n",
       "144                   0.915000  \n",
       "145                   0.801000  \n",
       "146                   0.167000  \n",
       "147                   0.821000  \n",
       "148                   0.924000  \n",
       "\n",
       "[302 rows x 9 columns]"
      ],
      "text/html": "<div>\n<style scoped>\n    .dataframe tbody tr th:only-of-type {\n        vertical-align: middle;\n    }\n\n    .dataframe tbody tr th {\n        vertical-align: top;\n    }\n\n    .dataframe thead th {\n        text-align: right;\n    }\n</style>\n<table border=\"1\" class=\"dataframe\">\n  <thead>\n    <tr style=\"text-align: right;\">\n      <th></th>\n      <th>year</th>\n      <th>Country name</th>\n      <th>Ladder score</th>\n      <th>Logged GDP per capita</th>\n      <th>Social support</th>\n      <th>Healthy life expectancy</th>\n      <th>Freedom to make life choices</th>\n      <th>Generosity</th>\n      <th>Perceptions of corruption</th>\n    </tr>\n  </thead>\n  <tbody>\n    <tr>\n      <th>0</th>\n      <td>2020</td>\n      <td>Finland</td>\n      <td>7.8087</td>\n      <td>10.639267</td>\n      <td>0.954330</td>\n      <td>71.900825</td>\n      <td>0.949172</td>\n      <td>-0.059482</td>\n      <td>0.195445</td>\n    </tr>\n    <tr>\n      <th>1</th>\n      <td>2020</td>\n      <td>Denmark</td>\n      <td>7.6456</td>\n      <td>10.774001</td>\n      <td>0.955991</td>\n      <td>72.402504</td>\n      <td>0.951444</td>\n      <td>0.066202</td>\n      <td>0.168489</td>\n    </tr>\n    <tr>\n      <th>2</th>\n      <td>2020</td>\n      <td>Switzerland</td>\n      <td>7.5599</td>\n      <td>10.979933</td>\n      <td>0.942847</td>\n      <td>74.102448</td>\n      <td>0.921337</td>\n      <td>0.105911</td>\n      <td>0.303728</td>\n    </tr>\n    <tr>\n      <th>3</th>\n      <td>2020</td>\n      <td>Iceland</td>\n      <td>7.5045</td>\n      <td>10.772559</td>\n      <td>0.974670</td>\n      <td>73.000000</td>\n      <td>0.948892</td>\n      <td>0.246944</td>\n      <td>0.711710</td>\n    </tr>\n    <tr>\n      <th>4</th>\n      <td>2020</td>\n      <td>Norway</td>\n      <td>7.4880</td>\n      <td>11.087804</td>\n      <td>0.952487</td>\n      <td>73.200783</td>\n      <td>0.955750</td>\n      <td>0.134533</td>\n      <td>0.263218</td>\n    </tr>\n    <tr>\n      <th>...</th>\n      <td>...</td>\n      <td>...</td>\n      <td>...</td>\n      <td>...</td>\n      <td>...</td>\n      <td>...</td>\n      <td>...</td>\n      <td>...</td>\n      <td>...</td>\n    </tr>\n    <tr>\n      <th>144</th>\n      <td>2021</td>\n      <td>Lesotho</td>\n      <td>3.5120</td>\n      <td>7.926000</td>\n      <td>0.787000</td>\n      <td>48.700000</td>\n      <td>0.715000</td>\n      <td>-0.131000</td>\n      <td>0.915000</td>\n    </tr>\n    <tr>\n      <th>145</th>\n      <td>2021</td>\n      <td>Botswana</td>\n      <td>3.4670</td>\n      <td>9.782000</td>\n      <td>0.784000</td>\n      <td>59.269000</td>\n      <td>0.824000</td>\n      <td>-0.246000</td>\n      <td>0.801000</td>\n    </tr>\n    <tr>\n      <th>146</th>\n      <td>2021</td>\n      <td>Rwanda</td>\n      <td>3.4150</td>\n      <td>7.676000</td>\n      <td>0.552000</td>\n      <td>61.400000</td>\n      <td>0.897000</td>\n      <td>0.061000</td>\n      <td>0.167000</td>\n    </tr>\n    <tr>\n      <th>147</th>\n      <td>2021</td>\n      <td>Zimbabwe</td>\n      <td>3.1450</td>\n      <td>7.943000</td>\n      <td>0.750000</td>\n      <td>56.201000</td>\n      <td>0.677000</td>\n      <td>-0.047000</td>\n      <td>0.821000</td>\n    </tr>\n    <tr>\n      <th>148</th>\n      <td>2021</td>\n      <td>Afghanistan</td>\n      <td>2.5230</td>\n      <td>7.695000</td>\n      <td>0.463000</td>\n      <td>52.493000</td>\n      <td>0.382000</td>\n      <td>-0.102000</td>\n      <td>0.924000</td>\n    </tr>\n  </tbody>\n</table>\n<p>302 rows × 9 columns</p>\n</div>"
     },
     "metadata": {},
     "execution_count": 6
    }
   ],
   "source": [
    "happy_all = pd.concat([happy2020,happy2021])\n",
    "happy_all"
   ]
  },
  {
   "source": [
    "# Rename columns \n",
    "- Ensure they are consistent between all dataframes (by year)"
   ],
   "cell_type": "markdown",
   "metadata": {}
  },
  {
   "cell_type": "code",
   "execution_count": 7,
   "metadata": {},
   "outputs": [
    {
     "output_type": "stream",
     "name": "stdout",
     "text": [
      "Index(['year', 'Country name', 'Ladder score', 'Logged GDP per capita',\n       'Social support', 'Healthy life expectancy',\n       'Freedom to make life choices', 'Generosity',\n       'Perceptions of corruption'],\n      dtype='object')\n"
     ]
    }
   ],
   "source": [
    "# See current column headings\n",
    "print(happy_all.columns)"
   ]
  },
  {
   "cell_type": "code",
   "execution_count": 8,
   "metadata": {},
   "outputs": [
    {
     "output_type": "execute_result",
     "data": {
      "text/plain": [
       "     year      country   score  logged_GDP_per_capita   support   life_exp  \\\n",
       "0    2020      Finland  7.8087              10.639267  0.954330  71.900825   \n",
       "1    2020      Denmark  7.6456              10.774001  0.955991  72.402504   \n",
       "2    2020  Switzerland  7.5599              10.979933  0.942847  74.102448   \n",
       "3    2020      Iceland  7.5045              10.772559  0.974670  73.000000   \n",
       "4    2020       Norway  7.4880              11.087804  0.952487  73.200783   \n",
       "..    ...          ...     ...                    ...       ...        ...   \n",
       "144  2021      Lesotho  3.5120               7.926000  0.787000  48.700000   \n",
       "145  2021     Botswana  3.4670               9.782000  0.784000  59.269000   \n",
       "146  2021       Rwanda  3.4150               7.676000  0.552000  61.400000   \n",
       "147  2021     Zimbabwe  3.1450               7.943000  0.750000  56.201000   \n",
       "148  2021  Afghanistan  2.5230               7.695000  0.463000  52.493000   \n",
       "\n",
       "      freedom  generosity  corruption  \n",
       "0    0.949172   -0.059482    0.195445  \n",
       "1    0.951444    0.066202    0.168489  \n",
       "2    0.921337    0.105911    0.303728  \n",
       "3    0.948892    0.246944    0.711710  \n",
       "4    0.955750    0.134533    0.263218  \n",
       "..        ...         ...         ...  \n",
       "144  0.715000   -0.131000    0.915000  \n",
       "145  0.824000   -0.246000    0.801000  \n",
       "146  0.897000    0.061000    0.167000  \n",
       "147  0.677000   -0.047000    0.821000  \n",
       "148  0.382000   -0.102000    0.924000  \n",
       "\n",
       "[302 rows x 9 columns]"
      ],
      "text/html": "<div>\n<style scoped>\n    .dataframe tbody tr th:only-of-type {\n        vertical-align: middle;\n    }\n\n    .dataframe tbody tr th {\n        vertical-align: top;\n    }\n\n    .dataframe thead th {\n        text-align: right;\n    }\n</style>\n<table border=\"1\" class=\"dataframe\">\n  <thead>\n    <tr style=\"text-align: right;\">\n      <th></th>\n      <th>year</th>\n      <th>country</th>\n      <th>score</th>\n      <th>logged_GDP_per_capita</th>\n      <th>support</th>\n      <th>life_exp</th>\n      <th>freedom</th>\n      <th>generosity</th>\n      <th>corruption</th>\n    </tr>\n  </thead>\n  <tbody>\n    <tr>\n      <th>0</th>\n      <td>2020</td>\n      <td>Finland</td>\n      <td>7.8087</td>\n      <td>10.639267</td>\n      <td>0.954330</td>\n      <td>71.900825</td>\n      <td>0.949172</td>\n      <td>-0.059482</td>\n      <td>0.195445</td>\n    </tr>\n    <tr>\n      <th>1</th>\n      <td>2020</td>\n      <td>Denmark</td>\n      <td>7.6456</td>\n      <td>10.774001</td>\n      <td>0.955991</td>\n      <td>72.402504</td>\n      <td>0.951444</td>\n      <td>0.066202</td>\n      <td>0.168489</td>\n    </tr>\n    <tr>\n      <th>2</th>\n      <td>2020</td>\n      <td>Switzerland</td>\n      <td>7.5599</td>\n      <td>10.979933</td>\n      <td>0.942847</td>\n      <td>74.102448</td>\n      <td>0.921337</td>\n      <td>0.105911</td>\n      <td>0.303728</td>\n    </tr>\n    <tr>\n      <th>3</th>\n      <td>2020</td>\n      <td>Iceland</td>\n      <td>7.5045</td>\n      <td>10.772559</td>\n      <td>0.974670</td>\n      <td>73.000000</td>\n      <td>0.948892</td>\n      <td>0.246944</td>\n      <td>0.711710</td>\n    </tr>\n    <tr>\n      <th>4</th>\n      <td>2020</td>\n      <td>Norway</td>\n      <td>7.4880</td>\n      <td>11.087804</td>\n      <td>0.952487</td>\n      <td>73.200783</td>\n      <td>0.955750</td>\n      <td>0.134533</td>\n      <td>0.263218</td>\n    </tr>\n    <tr>\n      <th>...</th>\n      <td>...</td>\n      <td>...</td>\n      <td>...</td>\n      <td>...</td>\n      <td>...</td>\n      <td>...</td>\n      <td>...</td>\n      <td>...</td>\n      <td>...</td>\n    </tr>\n    <tr>\n      <th>144</th>\n      <td>2021</td>\n      <td>Lesotho</td>\n      <td>3.5120</td>\n      <td>7.926000</td>\n      <td>0.787000</td>\n      <td>48.700000</td>\n      <td>0.715000</td>\n      <td>-0.131000</td>\n      <td>0.915000</td>\n    </tr>\n    <tr>\n      <th>145</th>\n      <td>2021</td>\n      <td>Botswana</td>\n      <td>3.4670</td>\n      <td>9.782000</td>\n      <td>0.784000</td>\n      <td>59.269000</td>\n      <td>0.824000</td>\n      <td>-0.246000</td>\n      <td>0.801000</td>\n    </tr>\n    <tr>\n      <th>146</th>\n      <td>2021</td>\n      <td>Rwanda</td>\n      <td>3.4150</td>\n      <td>7.676000</td>\n      <td>0.552000</td>\n      <td>61.400000</td>\n      <td>0.897000</td>\n      <td>0.061000</td>\n      <td>0.167000</td>\n    </tr>\n    <tr>\n      <th>147</th>\n      <td>2021</td>\n      <td>Zimbabwe</td>\n      <td>3.1450</td>\n      <td>7.943000</td>\n      <td>0.750000</td>\n      <td>56.201000</td>\n      <td>0.677000</td>\n      <td>-0.047000</td>\n      <td>0.821000</td>\n    </tr>\n    <tr>\n      <th>148</th>\n      <td>2021</td>\n      <td>Afghanistan</td>\n      <td>2.5230</td>\n      <td>7.695000</td>\n      <td>0.463000</td>\n      <td>52.493000</td>\n      <td>0.382000</td>\n      <td>-0.102000</td>\n      <td>0.924000</td>\n    </tr>\n  </tbody>\n</table>\n<p>302 rows × 9 columns</p>\n</div>"
     },
     "metadata": {},
     "execution_count": 8
    }
   ],
   "source": [
    "# Rename columns\n",
    "happy_all = happy_all.rename({'Country name':'country', 'Ladder score':'score', 'Logged GDP per capita':'logged_GDP_per_capita', 'Social support':'support','Freedom to make life choices':'freedom','Generosity':'generosity','Healthy life expectancy':'life_exp','Perceptions of corruption':'corruption'}, axis='columns')\n",
    "\n",
    "happy_all"
   ]
  }
 ]
}