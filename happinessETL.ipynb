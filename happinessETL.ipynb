{
 "metadata": {
  "language_info": {
   "codemirror_mode": {
    "name": "ipython",
    "version": 3
   },
   "file_extension": ".py",
   "mimetype": "text/x-python",
   "name": "python",
   "nbconvert_exporter": "python",
   "pygments_lexer": "ipython3",
   "version": "3.6.13"
  },
  "orig_nbformat": 2,
  "kernelspec": {
   "name": "python3",
   "display_name": "Python 3",
   "language": "python"
  }
 },
 "nbformat": 4,
 "nbformat_minor": 2,
 "cells": [
  {
   "cell_type": "code",
   "execution_count": 1,
   "metadata": {},
   "outputs": [],
   "source": [
    "# Dependencies\n",
    "import pandas as pd"
   ]
  },
  {
   "source": [
    "# Extraction: 2020 Data and 2021 Data \n",
    "    - Both datasets are saved and available as csv files from kaggle.com"
   ],
   "cell_type": "markdown",
   "metadata": {}
  },
  {
   "source": [
    "## 2020 Data"
   ],
   "cell_type": "markdown",
   "metadata": {}
  },
  {
   "cell_type": "code",
   "execution_count": 2,
   "metadata": {},
   "outputs": [
    {
     "output_type": "execute_result",
     "data": {
      "text/plain": [
       "  Country name Regional indicator  Ladder score  \\\n",
       "0      Finland     Western Europe        7.8087   \n",
       "1      Denmark     Western Europe        7.6456   \n",
       "2  Switzerland     Western Europe        7.5599   \n",
       "3      Iceland     Western Europe        7.5045   \n",
       "4       Norway     Western Europe        7.4880   \n",
       "\n",
       "   Standard error of ladder score  upperwhisker  lowerwhisker  \\\n",
       "0                        0.031156      7.869766      7.747634   \n",
       "1                        0.033492      7.711245      7.579955   \n",
       "2                        0.035014      7.628528      7.491272   \n",
       "3                        0.059616      7.621347      7.387653   \n",
       "4                        0.034837      7.556281      7.419719   \n",
       "\n",
       "   Logged GDP per capita  Social support  Healthy life expectancy  \\\n",
       "0              10.639267        0.954330                71.900825   \n",
       "1              10.774001        0.955991                72.402504   \n",
       "2              10.979933        0.942847                74.102448   \n",
       "3              10.772559        0.974670                73.000000   \n",
       "4              11.087804        0.952487                73.200783   \n",
       "\n",
       "   Freedom to make life choices  Generosity  Perceptions of corruption  \\\n",
       "0                      0.949172   -0.059482                   0.195445   \n",
       "1                      0.951444    0.066202                   0.168489   \n",
       "2                      0.921337    0.105911                   0.303728   \n",
       "3                      0.948892    0.246944                   0.711710   \n",
       "4                      0.955750    0.134533                   0.263218   \n",
       "\n",
       "   Ladder score in Dystopia  Explained by: Log GDP per capita  \\\n",
       "0                  1.972317                          1.285190   \n",
       "1                  1.972317                          1.326949   \n",
       "2                  1.972317                          1.390774   \n",
       "3                  1.972317                          1.326502   \n",
       "4                  1.972317                          1.424207   \n",
       "\n",
       "   Explained by: Social support  Explained by: Healthy life expectancy  \\\n",
       "0                      1.499526                               0.961271   \n",
       "1                      1.503449                               0.979333   \n",
       "2                      1.472403                               1.040533   \n",
       "3                      1.547567                               1.000843   \n",
       "4                      1.495173                               1.008072   \n",
       "\n",
       "   Explained by: Freedom to make life choices  Explained by: Generosity  \\\n",
       "0                                    0.662317                  0.159670   \n",
       "1                                    0.665040                  0.242793   \n",
       "2                                    0.628954                  0.269056   \n",
       "3                                    0.661981                  0.362330   \n",
       "4                                    0.670201                  0.287985   \n",
       "\n",
       "   Explained by: Perceptions of corruption  Dystopia + residual  \n",
       "0                                 0.477857             2.762835  \n",
       "1                                 0.495260             2.432741  \n",
       "2                                 0.407946             2.350267  \n",
       "3                                 0.144541             2.460688  \n",
       "4                                 0.434101             2.168266  "
      ],
      "text/html": "<div>\n<style scoped>\n    .dataframe tbody tr th:only-of-type {\n        vertical-align: middle;\n    }\n\n    .dataframe tbody tr th {\n        vertical-align: top;\n    }\n\n    .dataframe thead th {\n        text-align: right;\n    }\n</style>\n<table border=\"1\" class=\"dataframe\">\n  <thead>\n    <tr style=\"text-align: right;\">\n      <th></th>\n      <th>Country name</th>\n      <th>Regional indicator</th>\n      <th>Ladder score</th>\n      <th>Standard error of ladder score</th>\n      <th>upperwhisker</th>\n      <th>lowerwhisker</th>\n      <th>Logged GDP per capita</th>\n      <th>Social support</th>\n      <th>Healthy life expectancy</th>\n      <th>Freedom to make life choices</th>\n      <th>Generosity</th>\n      <th>Perceptions of corruption</th>\n      <th>Ladder score in Dystopia</th>\n      <th>Explained by: Log GDP per capita</th>\n      <th>Explained by: Social support</th>\n      <th>Explained by: Healthy life expectancy</th>\n      <th>Explained by: Freedom to make life choices</th>\n      <th>Explained by: Generosity</th>\n      <th>Explained by: Perceptions of corruption</th>\n      <th>Dystopia + residual</th>\n    </tr>\n  </thead>\n  <tbody>\n    <tr>\n      <th>0</th>\n      <td>Finland</td>\n      <td>Western Europe</td>\n      <td>7.8087</td>\n      <td>0.031156</td>\n      <td>7.869766</td>\n      <td>7.747634</td>\n      <td>10.639267</td>\n      <td>0.954330</td>\n      <td>71.900825</td>\n      <td>0.949172</td>\n      <td>-0.059482</td>\n      <td>0.195445</td>\n      <td>1.972317</td>\n      <td>1.285190</td>\n      <td>1.499526</td>\n      <td>0.961271</td>\n      <td>0.662317</td>\n      <td>0.159670</td>\n      <td>0.477857</td>\n      <td>2.762835</td>\n    </tr>\n    <tr>\n      <th>1</th>\n      <td>Denmark</td>\n      <td>Western Europe</td>\n      <td>7.6456</td>\n      <td>0.033492</td>\n      <td>7.711245</td>\n      <td>7.579955</td>\n      <td>10.774001</td>\n      <td>0.955991</td>\n      <td>72.402504</td>\n      <td>0.951444</td>\n      <td>0.066202</td>\n      <td>0.168489</td>\n      <td>1.972317</td>\n      <td>1.326949</td>\n      <td>1.503449</td>\n      <td>0.979333</td>\n      <td>0.665040</td>\n      <td>0.242793</td>\n      <td>0.495260</td>\n      <td>2.432741</td>\n    </tr>\n    <tr>\n      <th>2</th>\n      <td>Switzerland</td>\n      <td>Western Europe</td>\n      <td>7.5599</td>\n      <td>0.035014</td>\n      <td>7.628528</td>\n      <td>7.491272</td>\n      <td>10.979933</td>\n      <td>0.942847</td>\n      <td>74.102448</td>\n      <td>0.921337</td>\n      <td>0.105911</td>\n      <td>0.303728</td>\n      <td>1.972317</td>\n      <td>1.390774</td>\n      <td>1.472403</td>\n      <td>1.040533</td>\n      <td>0.628954</td>\n      <td>0.269056</td>\n      <td>0.407946</td>\n      <td>2.350267</td>\n    </tr>\n    <tr>\n      <th>3</th>\n      <td>Iceland</td>\n      <td>Western Europe</td>\n      <td>7.5045</td>\n      <td>0.059616</td>\n      <td>7.621347</td>\n      <td>7.387653</td>\n      <td>10.772559</td>\n      <td>0.974670</td>\n      <td>73.000000</td>\n      <td>0.948892</td>\n      <td>0.246944</td>\n      <td>0.711710</td>\n      <td>1.972317</td>\n      <td>1.326502</td>\n      <td>1.547567</td>\n      <td>1.000843</td>\n      <td>0.661981</td>\n      <td>0.362330</td>\n      <td>0.144541</td>\n      <td>2.460688</td>\n    </tr>\n    <tr>\n      <th>4</th>\n      <td>Norway</td>\n      <td>Western Europe</td>\n      <td>7.4880</td>\n      <td>0.034837</td>\n      <td>7.556281</td>\n      <td>7.419719</td>\n      <td>11.087804</td>\n      <td>0.952487</td>\n      <td>73.200783</td>\n      <td>0.955750</td>\n      <td>0.134533</td>\n      <td>0.263218</td>\n      <td>1.972317</td>\n      <td>1.424207</td>\n      <td>1.495173</td>\n      <td>1.008072</td>\n      <td>0.670201</td>\n      <td>0.287985</td>\n      <td>0.434101</td>\n      <td>2.168266</td>\n    </tr>\n  </tbody>\n</table>\n</div>"
     },
     "metadata": {},
     "execution_count": 2
    }
   ],
   "source": [
    "happy2020 = pd.read_csv(\"Resources/happy2020.csv\")\n",
    "happy2020.head()"
   ]
  },
  {
   "cell_type": "code",
   "execution_count": 3,
   "metadata": {},
   "outputs": [
    {
     "output_type": "execute_result",
     "data": {
      "text/plain": [
       "   year Country name  Logged GDP per capita  Social support  \\\n",
       "0  2020      Finland              10.639267        0.954330   \n",
       "1  2020      Denmark              10.774001        0.955991   \n",
       "2  2020  Switzerland              10.979933        0.942847   \n",
       "3  2020      Iceland              10.772559        0.974670   \n",
       "4  2020       Norway              11.087804        0.952487   \n",
       "\n",
       "   Healthy life expectancy  Freedom to make life choices  Generosity  \\\n",
       "0                71.900825                      0.949172   -0.059482   \n",
       "1                72.402504                      0.951444    0.066202   \n",
       "2                74.102448                      0.921337    0.105911   \n",
       "3                73.000000                      0.948892    0.246944   \n",
       "4                73.200783                      0.955750    0.134533   \n",
       "\n",
       "   Perceptions of corruption  Ladder score  \n",
       "0                   0.195445        7.8087  \n",
       "1                   0.168489        7.6456  \n",
       "2                   0.303728        7.5599  \n",
       "3                   0.711710        7.5045  \n",
       "4                   0.263218        7.4880  "
      ],
      "text/html": "<div>\n<style scoped>\n    .dataframe tbody tr th:only-of-type {\n        vertical-align: middle;\n    }\n\n    .dataframe tbody tr th {\n        vertical-align: top;\n    }\n\n    .dataframe thead th {\n        text-align: right;\n    }\n</style>\n<table border=\"1\" class=\"dataframe\">\n  <thead>\n    <tr style=\"text-align: right;\">\n      <th></th>\n      <th>year</th>\n      <th>Country name</th>\n      <th>Logged GDP per capita</th>\n      <th>Social support</th>\n      <th>Healthy life expectancy</th>\n      <th>Freedom to make life choices</th>\n      <th>Generosity</th>\n      <th>Perceptions of corruption</th>\n      <th>Ladder score</th>\n    </tr>\n  </thead>\n  <tbody>\n    <tr>\n      <th>0</th>\n      <td>2020</td>\n      <td>Finland</td>\n      <td>10.639267</td>\n      <td>0.954330</td>\n      <td>71.900825</td>\n      <td>0.949172</td>\n      <td>-0.059482</td>\n      <td>0.195445</td>\n      <td>7.8087</td>\n    </tr>\n    <tr>\n      <th>1</th>\n      <td>2020</td>\n      <td>Denmark</td>\n      <td>10.774001</td>\n      <td>0.955991</td>\n      <td>72.402504</td>\n      <td>0.951444</td>\n      <td>0.066202</td>\n      <td>0.168489</td>\n      <td>7.6456</td>\n    </tr>\n    <tr>\n      <th>2</th>\n      <td>2020</td>\n      <td>Switzerland</td>\n      <td>10.979933</td>\n      <td>0.942847</td>\n      <td>74.102448</td>\n      <td>0.921337</td>\n      <td>0.105911</td>\n      <td>0.303728</td>\n      <td>7.5599</td>\n    </tr>\n    <tr>\n      <th>3</th>\n      <td>2020</td>\n      <td>Iceland</td>\n      <td>10.772559</td>\n      <td>0.974670</td>\n      <td>73.000000</td>\n      <td>0.948892</td>\n      <td>0.246944</td>\n      <td>0.711710</td>\n      <td>7.5045</td>\n    </tr>\n    <tr>\n      <th>4</th>\n      <td>2020</td>\n      <td>Norway</td>\n      <td>11.087804</td>\n      <td>0.952487</td>\n      <td>73.200783</td>\n      <td>0.955750</td>\n      <td>0.134533</td>\n      <td>0.263218</td>\n      <td>7.4880</td>\n    </tr>\n  </tbody>\n</table>\n</div>"
     },
     "metadata": {},
     "execution_count": 3
    }
   ],
   "source": [
    "happy2020['year'] = 2020\n",
    "\n",
    "happy2020 = happy2020[['year','Country name','Logged GDP per capita','Social support','Healthy life expectancy','Freedom to make life choices','Generosity','Perceptions of corruption', 'Ladder score']]\n",
    "\n",
    "\n",
    "happy2020.head()"
   ]
  },
  {
   "source": [
    "## 2021 Data"
   ],
   "cell_type": "markdown",
   "metadata": {}
  },
  {
   "cell_type": "code",
   "execution_count": 4,
   "metadata": {},
   "outputs": [
    {
     "output_type": "execute_result",
     "data": {
      "text/plain": [
       "  Country name Regional indicator  Ladder score  \\\n",
       "0      Finland     Western Europe         7.842   \n",
       "1      Denmark     Western Europe         7.620   \n",
       "2  Switzerland     Western Europe         7.571   \n",
       "3      Iceland     Western Europe         7.554   \n",
       "4  Netherlands     Western Europe         7.464   \n",
       "\n",
       "   Standard error of ladder score  upperwhisker  lowerwhisker  \\\n",
       "0                           0.032         7.904         7.780   \n",
       "1                           0.035         7.687         7.552   \n",
       "2                           0.036         7.643         7.500   \n",
       "3                           0.059         7.670         7.438   \n",
       "4                           0.027         7.518         7.410   \n",
       "\n",
       "   Logged GDP per capita  Social support  Healthy life expectancy  \\\n",
       "0                 10.775           0.954                     72.0   \n",
       "1                 10.933           0.954                     72.7   \n",
       "2                 11.117           0.942                     74.4   \n",
       "3                 10.878           0.983                     73.0   \n",
       "4                 10.932           0.942                     72.4   \n",
       "\n",
       "   Freedom to make life choices  Generosity  Perceptions of corruption  \\\n",
       "0                         0.949      -0.098                      0.186   \n",
       "1                         0.946       0.030                      0.179   \n",
       "2                         0.919       0.025                      0.292   \n",
       "3                         0.955       0.160                      0.673   \n",
       "4                         0.913       0.175                      0.338   \n",
       "\n",
       "   Ladder score in Dystopia  Explained by: Log GDP per capita  \\\n",
       "0                      2.43                             1.446   \n",
       "1                      2.43                             1.502   \n",
       "2                      2.43                             1.566   \n",
       "3                      2.43                             1.482   \n",
       "4                      2.43                             1.501   \n",
       "\n",
       "   Explained by: Social support  Explained by: Healthy life expectancy  \\\n",
       "0                         1.106                                  0.741   \n",
       "1                         1.108                                  0.763   \n",
       "2                         1.079                                  0.816   \n",
       "3                         1.172                                  0.772   \n",
       "4                         1.079                                  0.753   \n",
       "\n",
       "   Explained by: Freedom to make life choices  Explained by: Generosity  \\\n",
       "0                                       0.691                     0.124   \n",
       "1                                       0.686                     0.208   \n",
       "2                                       0.653                     0.204   \n",
       "3                                       0.698                     0.293   \n",
       "4                                       0.647                     0.302   \n",
       "\n",
       "   Explained by: Perceptions of corruption  Dystopia + residual  \n",
       "0                                    0.481                3.253  \n",
       "1                                    0.485                2.868  \n",
       "2                                    0.413                2.839  \n",
       "3                                    0.170                2.967  \n",
       "4                                    0.384                2.798  "
      ],
      "text/html": "<div>\n<style scoped>\n    .dataframe tbody tr th:only-of-type {\n        vertical-align: middle;\n    }\n\n    .dataframe tbody tr th {\n        vertical-align: top;\n    }\n\n    .dataframe thead th {\n        text-align: right;\n    }\n</style>\n<table border=\"1\" class=\"dataframe\">\n  <thead>\n    <tr style=\"text-align: right;\">\n      <th></th>\n      <th>Country name</th>\n      <th>Regional indicator</th>\n      <th>Ladder score</th>\n      <th>Standard error of ladder score</th>\n      <th>upperwhisker</th>\n      <th>lowerwhisker</th>\n      <th>Logged GDP per capita</th>\n      <th>Social support</th>\n      <th>Healthy life expectancy</th>\n      <th>Freedom to make life choices</th>\n      <th>Generosity</th>\n      <th>Perceptions of corruption</th>\n      <th>Ladder score in Dystopia</th>\n      <th>Explained by: Log GDP per capita</th>\n      <th>Explained by: Social support</th>\n      <th>Explained by: Healthy life expectancy</th>\n      <th>Explained by: Freedom to make life choices</th>\n      <th>Explained by: Generosity</th>\n      <th>Explained by: Perceptions of corruption</th>\n      <th>Dystopia + residual</th>\n    </tr>\n  </thead>\n  <tbody>\n    <tr>\n      <th>0</th>\n      <td>Finland</td>\n      <td>Western Europe</td>\n      <td>7.842</td>\n      <td>0.032</td>\n      <td>7.904</td>\n      <td>7.780</td>\n      <td>10.775</td>\n      <td>0.954</td>\n      <td>72.0</td>\n      <td>0.949</td>\n      <td>-0.098</td>\n      <td>0.186</td>\n      <td>2.43</td>\n      <td>1.446</td>\n      <td>1.106</td>\n      <td>0.741</td>\n      <td>0.691</td>\n      <td>0.124</td>\n      <td>0.481</td>\n      <td>3.253</td>\n    </tr>\n    <tr>\n      <th>1</th>\n      <td>Denmark</td>\n      <td>Western Europe</td>\n      <td>7.620</td>\n      <td>0.035</td>\n      <td>7.687</td>\n      <td>7.552</td>\n      <td>10.933</td>\n      <td>0.954</td>\n      <td>72.7</td>\n      <td>0.946</td>\n      <td>0.030</td>\n      <td>0.179</td>\n      <td>2.43</td>\n      <td>1.502</td>\n      <td>1.108</td>\n      <td>0.763</td>\n      <td>0.686</td>\n      <td>0.208</td>\n      <td>0.485</td>\n      <td>2.868</td>\n    </tr>\n    <tr>\n      <th>2</th>\n      <td>Switzerland</td>\n      <td>Western Europe</td>\n      <td>7.571</td>\n      <td>0.036</td>\n      <td>7.643</td>\n      <td>7.500</td>\n      <td>11.117</td>\n      <td>0.942</td>\n      <td>74.4</td>\n      <td>0.919</td>\n      <td>0.025</td>\n      <td>0.292</td>\n      <td>2.43</td>\n      <td>1.566</td>\n      <td>1.079</td>\n      <td>0.816</td>\n      <td>0.653</td>\n      <td>0.204</td>\n      <td>0.413</td>\n      <td>2.839</td>\n    </tr>\n    <tr>\n      <th>3</th>\n      <td>Iceland</td>\n      <td>Western Europe</td>\n      <td>7.554</td>\n      <td>0.059</td>\n      <td>7.670</td>\n      <td>7.438</td>\n      <td>10.878</td>\n      <td>0.983</td>\n      <td>73.0</td>\n      <td>0.955</td>\n      <td>0.160</td>\n      <td>0.673</td>\n      <td>2.43</td>\n      <td>1.482</td>\n      <td>1.172</td>\n      <td>0.772</td>\n      <td>0.698</td>\n      <td>0.293</td>\n      <td>0.170</td>\n      <td>2.967</td>\n    </tr>\n    <tr>\n      <th>4</th>\n      <td>Netherlands</td>\n      <td>Western Europe</td>\n      <td>7.464</td>\n      <td>0.027</td>\n      <td>7.518</td>\n      <td>7.410</td>\n      <td>10.932</td>\n      <td>0.942</td>\n      <td>72.4</td>\n      <td>0.913</td>\n      <td>0.175</td>\n      <td>0.338</td>\n      <td>2.43</td>\n      <td>1.501</td>\n      <td>1.079</td>\n      <td>0.753</td>\n      <td>0.647</td>\n      <td>0.302</td>\n      <td>0.384</td>\n      <td>2.798</td>\n    </tr>\n  </tbody>\n</table>\n</div>"
     },
     "metadata": {},
     "execution_count": 4
    }
   ],
   "source": [
    "happy2021 = pd.read_csv(\"Resources/happy2021.csv\")\n",
    "happy2021.head()"
   ]
  },
  {
   "cell_type": "code",
   "execution_count": 5,
   "metadata": {},
   "outputs": [
    {
     "output_type": "execute_result",
     "data": {
      "text/plain": [
       "   year Country name  Logged GDP per capita  Social support  \\\n",
       "0  2021      Finland                 10.775           0.954   \n",
       "1  2021      Denmark                 10.933           0.954   \n",
       "2  2021  Switzerland                 11.117           0.942   \n",
       "3  2021      Iceland                 10.878           0.983   \n",
       "4  2021  Netherlands                 10.932           0.942   \n",
       "\n",
       "   Healthy life expectancy  Freedom to make life choices  Generosity  \\\n",
       "0                     72.0                         0.949      -0.098   \n",
       "1                     72.7                         0.946       0.030   \n",
       "2                     74.4                         0.919       0.025   \n",
       "3                     73.0                         0.955       0.160   \n",
       "4                     72.4                         0.913       0.175   \n",
       "\n",
       "   Perceptions of corruption  Ladder score  \n",
       "0                      0.186         7.842  \n",
       "1                      0.179         7.620  \n",
       "2                      0.292         7.571  \n",
       "3                      0.673         7.554  \n",
       "4                      0.338         7.464  "
      ],
      "text/html": "<div>\n<style scoped>\n    .dataframe tbody tr th:only-of-type {\n        vertical-align: middle;\n    }\n\n    .dataframe tbody tr th {\n        vertical-align: top;\n    }\n\n    .dataframe thead th {\n        text-align: right;\n    }\n</style>\n<table border=\"1\" class=\"dataframe\">\n  <thead>\n    <tr style=\"text-align: right;\">\n      <th></th>\n      <th>year</th>\n      <th>Country name</th>\n      <th>Logged GDP per capita</th>\n      <th>Social support</th>\n      <th>Healthy life expectancy</th>\n      <th>Freedom to make life choices</th>\n      <th>Generosity</th>\n      <th>Perceptions of corruption</th>\n      <th>Ladder score</th>\n    </tr>\n  </thead>\n  <tbody>\n    <tr>\n      <th>0</th>\n      <td>2021</td>\n      <td>Finland</td>\n      <td>10.775</td>\n      <td>0.954</td>\n      <td>72.0</td>\n      <td>0.949</td>\n      <td>-0.098</td>\n      <td>0.186</td>\n      <td>7.842</td>\n    </tr>\n    <tr>\n      <th>1</th>\n      <td>2021</td>\n      <td>Denmark</td>\n      <td>10.933</td>\n      <td>0.954</td>\n      <td>72.7</td>\n      <td>0.946</td>\n      <td>0.030</td>\n      <td>0.179</td>\n      <td>7.620</td>\n    </tr>\n    <tr>\n      <th>2</th>\n      <td>2021</td>\n      <td>Switzerland</td>\n      <td>11.117</td>\n      <td>0.942</td>\n      <td>74.4</td>\n      <td>0.919</td>\n      <td>0.025</td>\n      <td>0.292</td>\n      <td>7.571</td>\n    </tr>\n    <tr>\n      <th>3</th>\n      <td>2021</td>\n      <td>Iceland</td>\n      <td>10.878</td>\n      <td>0.983</td>\n      <td>73.0</td>\n      <td>0.955</td>\n      <td>0.160</td>\n      <td>0.673</td>\n      <td>7.554</td>\n    </tr>\n    <tr>\n      <th>4</th>\n      <td>2021</td>\n      <td>Netherlands</td>\n      <td>10.932</td>\n      <td>0.942</td>\n      <td>72.4</td>\n      <td>0.913</td>\n      <td>0.175</td>\n      <td>0.338</td>\n      <td>7.464</td>\n    </tr>\n  </tbody>\n</table>\n</div>"
     },
     "metadata": {},
     "execution_count": 5
    }
   ],
   "source": [
    "happy2021['year'] = 2021\n",
    "\n",
    "happy2021 = happy2021[['year','Country name','Logged GDP per capita','Social support','Healthy life expectancy','Freedom to make life choices','Generosity','Perceptions of corruption', 'Ladder score']]\n",
    "\n",
    "happy2021.head()"
   ]
  },
  {
   "source": [
    "# Transformation \n",
    "## Part 1: For Tableau Visualisation \n",
    "    - dataframe: happy_all\n",
    "## Part 2: Machine Learning\n",
    "- ### Data Cleanup\n",
    "    - Save X and y variables\n",
    "    - Train, Test, Split\n",
    "    - X-scaler\n",
    "- ### Accuracy\n",
    "- ### Predictions\n",
    "## Part 3: For PostGRES >> Javascript\n",
    "TRANSFORMATION OF DATA to produce dataframe containing: original features, score and predicted score"
   ],
   "cell_type": "markdown",
   "metadata": {}
  },
  {
   "source": [
    "## PART 1: For Tableau Visualisation\n",
    "- Concantenate dataframes of all years\n",
    "- Drop NAs (if any)\n",
    "- Reset index\n",
    "- Rename columns\n",
    "- Save dataframe as csv file (for Tableau use)"
   ],
   "cell_type": "markdown",
   "metadata": {}
  },
  {
   "cell_type": "code",
   "execution_count": 6,
   "metadata": {},
   "outputs": [
    {
     "output_type": "execute_result",
     "data": {
      "text/plain": [
       "     year Country name  Logged GDP per capita  Social support  \\\n",
       "0    2020      Finland              10.639267        0.954330   \n",
       "1    2020      Denmark              10.774001        0.955991   \n",
       "2    2020  Switzerland              10.979933        0.942847   \n",
       "3    2020      Iceland              10.772559        0.974670   \n",
       "4    2020       Norway              11.087804        0.952487   \n",
       "..    ...          ...                    ...             ...   \n",
       "297  2021      Lesotho               7.926000        0.787000   \n",
       "298  2021     Botswana               9.782000        0.784000   \n",
       "299  2021       Rwanda               7.676000        0.552000   \n",
       "300  2021     Zimbabwe               7.943000        0.750000   \n",
       "301  2021  Afghanistan               7.695000        0.463000   \n",
       "\n",
       "     Healthy life expectancy  Freedom to make life choices  Generosity  \\\n",
       "0                  71.900825                      0.949172   -0.059482   \n",
       "1                  72.402504                      0.951444    0.066202   \n",
       "2                  74.102448                      0.921337    0.105911   \n",
       "3                  73.000000                      0.948892    0.246944   \n",
       "4                  73.200783                      0.955750    0.134533   \n",
       "..                       ...                           ...         ...   \n",
       "297                48.700000                      0.715000   -0.131000   \n",
       "298                59.269000                      0.824000   -0.246000   \n",
       "299                61.400000                      0.897000    0.061000   \n",
       "300                56.201000                      0.677000   -0.047000   \n",
       "301                52.493000                      0.382000   -0.102000   \n",
       "\n",
       "     Perceptions of corruption  Ladder score  \n",
       "0                     0.195445        7.8087  \n",
       "1                     0.168489        7.6456  \n",
       "2                     0.303728        7.5599  \n",
       "3                     0.711710        7.5045  \n",
       "4                     0.263218        7.4880  \n",
       "..                         ...           ...  \n",
       "297                   0.915000        3.5120  \n",
       "298                   0.801000        3.4670  \n",
       "299                   0.167000        3.4150  \n",
       "300                   0.821000        3.1450  \n",
       "301                   0.924000        2.5230  \n",
       "\n",
       "[302 rows x 9 columns]"
      ],
      "text/html": "<div>\n<style scoped>\n    .dataframe tbody tr th:only-of-type {\n        vertical-align: middle;\n    }\n\n    .dataframe tbody tr th {\n        vertical-align: top;\n    }\n\n    .dataframe thead th {\n        text-align: right;\n    }\n</style>\n<table border=\"1\" class=\"dataframe\">\n  <thead>\n    <tr style=\"text-align: right;\">\n      <th></th>\n      <th>year</th>\n      <th>Country name</th>\n      <th>Logged GDP per capita</th>\n      <th>Social support</th>\n      <th>Healthy life expectancy</th>\n      <th>Freedom to make life choices</th>\n      <th>Generosity</th>\n      <th>Perceptions of corruption</th>\n      <th>Ladder score</th>\n    </tr>\n  </thead>\n  <tbody>\n    <tr>\n      <th>0</th>\n      <td>2020</td>\n      <td>Finland</td>\n      <td>10.639267</td>\n      <td>0.954330</td>\n      <td>71.900825</td>\n      <td>0.949172</td>\n      <td>-0.059482</td>\n      <td>0.195445</td>\n      <td>7.8087</td>\n    </tr>\n    <tr>\n      <th>1</th>\n      <td>2020</td>\n      <td>Denmark</td>\n      <td>10.774001</td>\n      <td>0.955991</td>\n      <td>72.402504</td>\n      <td>0.951444</td>\n      <td>0.066202</td>\n      <td>0.168489</td>\n      <td>7.6456</td>\n    </tr>\n    <tr>\n      <th>2</th>\n      <td>2020</td>\n      <td>Switzerland</td>\n      <td>10.979933</td>\n      <td>0.942847</td>\n      <td>74.102448</td>\n      <td>0.921337</td>\n      <td>0.105911</td>\n      <td>0.303728</td>\n      <td>7.5599</td>\n    </tr>\n    <tr>\n      <th>3</th>\n      <td>2020</td>\n      <td>Iceland</td>\n      <td>10.772559</td>\n      <td>0.974670</td>\n      <td>73.000000</td>\n      <td>0.948892</td>\n      <td>0.246944</td>\n      <td>0.711710</td>\n      <td>7.5045</td>\n    </tr>\n    <tr>\n      <th>4</th>\n      <td>2020</td>\n      <td>Norway</td>\n      <td>11.087804</td>\n      <td>0.952487</td>\n      <td>73.200783</td>\n      <td>0.955750</td>\n      <td>0.134533</td>\n      <td>0.263218</td>\n      <td>7.4880</td>\n    </tr>\n    <tr>\n      <th>...</th>\n      <td>...</td>\n      <td>...</td>\n      <td>...</td>\n      <td>...</td>\n      <td>...</td>\n      <td>...</td>\n      <td>...</td>\n      <td>...</td>\n      <td>...</td>\n    </tr>\n    <tr>\n      <th>297</th>\n      <td>2021</td>\n      <td>Lesotho</td>\n      <td>7.926000</td>\n      <td>0.787000</td>\n      <td>48.700000</td>\n      <td>0.715000</td>\n      <td>-0.131000</td>\n      <td>0.915000</td>\n      <td>3.5120</td>\n    </tr>\n    <tr>\n      <th>298</th>\n      <td>2021</td>\n      <td>Botswana</td>\n      <td>9.782000</td>\n      <td>0.784000</td>\n      <td>59.269000</td>\n      <td>0.824000</td>\n      <td>-0.246000</td>\n      <td>0.801000</td>\n      <td>3.4670</td>\n    </tr>\n    <tr>\n      <th>299</th>\n      <td>2021</td>\n      <td>Rwanda</td>\n      <td>7.676000</td>\n      <td>0.552000</td>\n      <td>61.400000</td>\n      <td>0.897000</td>\n      <td>0.061000</td>\n      <td>0.167000</td>\n      <td>3.4150</td>\n    </tr>\n    <tr>\n      <th>300</th>\n      <td>2021</td>\n      <td>Zimbabwe</td>\n      <td>7.943000</td>\n      <td>0.750000</td>\n      <td>56.201000</td>\n      <td>0.677000</td>\n      <td>-0.047000</td>\n      <td>0.821000</td>\n      <td>3.1450</td>\n    </tr>\n    <tr>\n      <th>301</th>\n      <td>2021</td>\n      <td>Afghanistan</td>\n      <td>7.695000</td>\n      <td>0.463000</td>\n      <td>52.493000</td>\n      <td>0.382000</td>\n      <td>-0.102000</td>\n      <td>0.924000</td>\n      <td>2.5230</td>\n    </tr>\n  </tbody>\n</table>\n<p>302 rows × 9 columns</p>\n</div>"
     },
     "metadata": {},
     "execution_count": 6
    }
   ],
   "source": [
    "# Concatenate dataframes from 2020 and 2021\n",
    "happy_all = pd.concat([happy2020,happy2021])\n",
    "# Drop all rows with NaN\n",
    "happy_all = happy_all.dropna() \n",
    "happy_all\n",
    "# Reset index\n",
    "happy_all = happy_all.reset_index()\n",
    "happy_all\n",
    "# Drop old index\n",
    "happy_all = happy_all.drop(columns=\"index\")\n",
    "happy_all"
   ]
  },
  {
   "cell_type": "code",
   "execution_count": 7,
   "metadata": {},
   "outputs": [
    {
     "output_type": "stream",
     "name": "stdout",
     "text": [
      "Index(['year', 'Country name', 'Logged GDP per capita', 'Social support',\n       'Healthy life expectancy', 'Freedom to make life choices', 'Generosity',\n       'Perceptions of corruption', 'Ladder score'],\n      dtype='object')\n"
     ]
    },
    {
     "output_type": "execute_result",
     "data": {
      "text/plain": [
       "     year      country  logged_GDP_per_capita   support   life_exp   freedom  \\\n",
       "0    2020      Finland              10.639267  0.954330  71.900825  0.949172   \n",
       "1    2020      Denmark              10.774001  0.955991  72.402504  0.951444   \n",
       "2    2020  Switzerland              10.979933  0.942847  74.102448  0.921337   \n",
       "3    2020      Iceland              10.772559  0.974670  73.000000  0.948892   \n",
       "4    2020       Norway              11.087804  0.952487  73.200783  0.955750   \n",
       "..    ...          ...                    ...       ...        ...       ...   \n",
       "297  2021      Lesotho               7.926000  0.787000  48.700000  0.715000   \n",
       "298  2021     Botswana               9.782000  0.784000  59.269000  0.824000   \n",
       "299  2021       Rwanda               7.676000  0.552000  61.400000  0.897000   \n",
       "300  2021     Zimbabwe               7.943000  0.750000  56.201000  0.677000   \n",
       "301  2021  Afghanistan               7.695000  0.463000  52.493000  0.382000   \n",
       "\n",
       "     generosity  corruption   score  \n",
       "0     -0.059482    0.195445  7.8087  \n",
       "1      0.066202    0.168489  7.6456  \n",
       "2      0.105911    0.303728  7.5599  \n",
       "3      0.246944    0.711710  7.5045  \n",
       "4      0.134533    0.263218  7.4880  \n",
       "..          ...         ...     ...  \n",
       "297   -0.131000    0.915000  3.5120  \n",
       "298   -0.246000    0.801000  3.4670  \n",
       "299    0.061000    0.167000  3.4150  \n",
       "300   -0.047000    0.821000  3.1450  \n",
       "301   -0.102000    0.924000  2.5230  \n",
       "\n",
       "[302 rows x 9 columns]"
      ],
      "text/html": "<div>\n<style scoped>\n    .dataframe tbody tr th:only-of-type {\n        vertical-align: middle;\n    }\n\n    .dataframe tbody tr th {\n        vertical-align: top;\n    }\n\n    .dataframe thead th {\n        text-align: right;\n    }\n</style>\n<table border=\"1\" class=\"dataframe\">\n  <thead>\n    <tr style=\"text-align: right;\">\n      <th></th>\n      <th>year</th>\n      <th>country</th>\n      <th>logged_GDP_per_capita</th>\n      <th>support</th>\n      <th>life_exp</th>\n      <th>freedom</th>\n      <th>generosity</th>\n      <th>corruption</th>\n      <th>score</th>\n    </tr>\n  </thead>\n  <tbody>\n    <tr>\n      <th>0</th>\n      <td>2020</td>\n      <td>Finland</td>\n      <td>10.639267</td>\n      <td>0.954330</td>\n      <td>71.900825</td>\n      <td>0.949172</td>\n      <td>-0.059482</td>\n      <td>0.195445</td>\n      <td>7.8087</td>\n    </tr>\n    <tr>\n      <th>1</th>\n      <td>2020</td>\n      <td>Denmark</td>\n      <td>10.774001</td>\n      <td>0.955991</td>\n      <td>72.402504</td>\n      <td>0.951444</td>\n      <td>0.066202</td>\n      <td>0.168489</td>\n      <td>7.6456</td>\n    </tr>\n    <tr>\n      <th>2</th>\n      <td>2020</td>\n      <td>Switzerland</td>\n      <td>10.979933</td>\n      <td>0.942847</td>\n      <td>74.102448</td>\n      <td>0.921337</td>\n      <td>0.105911</td>\n      <td>0.303728</td>\n      <td>7.5599</td>\n    </tr>\n    <tr>\n      <th>3</th>\n      <td>2020</td>\n      <td>Iceland</td>\n      <td>10.772559</td>\n      <td>0.974670</td>\n      <td>73.000000</td>\n      <td>0.948892</td>\n      <td>0.246944</td>\n      <td>0.711710</td>\n      <td>7.5045</td>\n    </tr>\n    <tr>\n      <th>4</th>\n      <td>2020</td>\n      <td>Norway</td>\n      <td>11.087804</td>\n      <td>0.952487</td>\n      <td>73.200783</td>\n      <td>0.955750</td>\n      <td>0.134533</td>\n      <td>0.263218</td>\n      <td>7.4880</td>\n    </tr>\n    <tr>\n      <th>...</th>\n      <td>...</td>\n      <td>...</td>\n      <td>...</td>\n      <td>...</td>\n      <td>...</td>\n      <td>...</td>\n      <td>...</td>\n      <td>...</td>\n      <td>...</td>\n    </tr>\n    <tr>\n      <th>297</th>\n      <td>2021</td>\n      <td>Lesotho</td>\n      <td>7.926000</td>\n      <td>0.787000</td>\n      <td>48.700000</td>\n      <td>0.715000</td>\n      <td>-0.131000</td>\n      <td>0.915000</td>\n      <td>3.5120</td>\n    </tr>\n    <tr>\n      <th>298</th>\n      <td>2021</td>\n      <td>Botswana</td>\n      <td>9.782000</td>\n      <td>0.784000</td>\n      <td>59.269000</td>\n      <td>0.824000</td>\n      <td>-0.246000</td>\n      <td>0.801000</td>\n      <td>3.4670</td>\n    </tr>\n    <tr>\n      <th>299</th>\n      <td>2021</td>\n      <td>Rwanda</td>\n      <td>7.676000</td>\n      <td>0.552000</td>\n      <td>61.400000</td>\n      <td>0.897000</td>\n      <td>0.061000</td>\n      <td>0.167000</td>\n      <td>3.4150</td>\n    </tr>\n    <tr>\n      <th>300</th>\n      <td>2021</td>\n      <td>Zimbabwe</td>\n      <td>7.943000</td>\n      <td>0.750000</td>\n      <td>56.201000</td>\n      <td>0.677000</td>\n      <td>-0.047000</td>\n      <td>0.821000</td>\n      <td>3.1450</td>\n    </tr>\n    <tr>\n      <th>301</th>\n      <td>2021</td>\n      <td>Afghanistan</td>\n      <td>7.695000</td>\n      <td>0.463000</td>\n      <td>52.493000</td>\n      <td>0.382000</td>\n      <td>-0.102000</td>\n      <td>0.924000</td>\n      <td>2.5230</td>\n    </tr>\n  </tbody>\n</table>\n<p>302 rows × 9 columns</p>\n</div>"
     },
     "metadata": {},
     "execution_count": 7
    }
   ],
   "source": [
    "# See current column headings\n",
    "print(happy_all.columns)\n",
    "\n",
    "# Rename columns\n",
    "happy_all = happy_all.rename({'Country name':'country', 'Ladder score':'score', 'Logged GDP per capita':'logged_GDP_per_capita', 'Social support':'support','Freedom to make life choices':'freedom','Generosity':'generosity','Healthy life expectancy':'life_exp','Perceptions of corruption':'corruption'}, axis='columns')\n",
    "\n",
    "happy_all"
   ]
  },
  {
   "cell_type": "code",
   "execution_count": 8,
   "metadata": {},
   "outputs": [],
   "source": [
    "# Save dataframe as csv file (for Tableau use)\n",
    "happy_all.to_csv('Resources/happy_2020_2021.csv')"
   ]
  },
  {
   "cell_type": "code",
   "execution_count": 9,
   "metadata": {},
   "outputs": [],
   "source": [
    "# Save final 'happy_all' dataframe to new dataframe 'happy_postg' for use next section\n",
    "happy_postg = happy_all"
   ]
  },
  {
   "source": [
    "## PART 2: MACHINE LEARNING"
   ],
   "cell_type": "markdown",
   "metadata": {}
  },
  {
   "source": [
    "# MACHINE LEARNING SECTION\n",
    "## Data Cleanup: \n",
    "### - Save X and y variables\n",
    "### - Train, Test, Split\n",
    "### - X-scaler"
   ],
   "cell_type": "markdown",
   "metadata": {}
  },
  {
   "source": [
    "## Save X and y variables"
   ],
   "cell_type": "markdown",
   "metadata": {}
  },
  {
   "cell_type": "code",
   "execution_count": 10,
   "metadata": {},
   "outputs": [
    {
     "output_type": "stream",
     "name": "stdout",
     "text": [
      "     year  logged_GDP_per_capita   support   life_exp   freedom  generosity  \\\n0    2020              10.639267  0.954330  71.900825  0.949172   -0.059482   \n1    2020              10.774001  0.955991  72.402504  0.951444    0.066202   \n2    2020              10.979933  0.942847  74.102448  0.921337    0.105911   \n3    2020              10.772559  0.974670  73.000000  0.948892    0.246944   \n4    2020              11.087804  0.952487  73.200783  0.955750    0.134533   \n..    ...                    ...       ...        ...       ...         ...   \n297  2021               7.926000  0.787000  48.700000  0.715000   -0.131000   \n298  2021               9.782000  0.784000  59.269000  0.824000   -0.246000   \n299  2021               7.676000  0.552000  61.400000  0.897000    0.061000   \n300  2021               7.943000  0.750000  56.201000  0.677000   -0.047000   \n301  2021               7.695000  0.463000  52.493000  0.382000   -0.102000   \n\n     corruption  \n0      0.195445  \n1      0.168489  \n2      0.303728  \n3      0.711710  \n4      0.263218  \n..          ...  \n297    0.915000  \n298    0.801000  \n299    0.167000  \n300    0.821000  \n301    0.924000  \n\n[302 rows x 7 columns]\n------------------------\n0      8\n1      8\n2      8\n3      8\n4      8\n      ..\n297    4\n298    4\n299    4\n300    4\n301    3\nName: score, Length: 302, dtype: int64\n"
     ]
    }
   ],
   "source": [
    "# Assign X (data) and y (target)\n",
    "X = happy_postg.drop([\"score\",\"country\"], axis=1)\n",
    "print(X)\n",
    "print('------------------------')\n",
    "\n",
    "\n",
    "# Categorise y to have 10 categories, \n",
    "# 10 difference score categories (1: 0-1, 2: 1-2, 3: 2-3, 4: 3-4, 5: 4-5, 6: 5-6, 7: 6-7, 8: 7-8, 9: 8-9, 10: 9-10)\n",
    "import numpy as np\n",
    "happy_postg[\"score\"] = happy_all[\"score\"].apply(np.ceil)\n",
    "happy_postg\n",
    "y = happy_postg[\"score\"]\n",
    "y=y.astype('int')\n",
    "print(y)"
   ]
  },
  {
   "cell_type": "code",
   "execution_count": 11,
   "metadata": {},
   "outputs": [
    {
     "output_type": "execute_result",
     "data": {
      "text/plain": [
       "Index(['year', 'logged_GDP_per_capita', 'support', 'life_exp', 'freedom',\n",
       "       'generosity', 'corruption'],\n",
       "      dtype='object')"
      ]
     },
     "metadata": {},
     "execution_count": 11
    }
   ],
   "source": [
    "# Check column names which remain\n",
    "X_headings = X.columns\n",
    "X_headings"
   ]
  },
  {
   "cell_type": "code",
   "execution_count": 12,
   "metadata": {},
   "outputs": [
    {
     "output_type": "stream",
     "name": "stdout",
     "text": [
      "(302, 7)\n(302,)\n"
     ]
    }
   ],
   "source": [
    "print(X.shape)\n",
    "print(y.shape)"
   ]
  },
  {
   "source": [
    "## Train, Test, Split"
   ],
   "cell_type": "markdown",
   "metadata": {}
  },
  {
   "cell_type": "code",
   "execution_count": 13,
   "metadata": {},
   "outputs": [],
   "source": [
    "# Dependencies (to split data)\n",
    "from sklearn.model_selection import train_test_split\n",
    "\n",
    "# Split the data\n",
    "X_train, X_test, y_train, y_test = train_test_split(X, y, random_state=50)"
   ]
  },
  {
   "cell_type": "code",
   "execution_count": 14,
   "metadata": {},
   "outputs": [
    {
     "output_type": "execute_result",
     "data": {
      "text/plain": [
       "3      8\n",
       "127    5\n",
       "249    6\n",
       "1      8\n",
       "245    6\n",
       "      ..\n",
       "70     6\n",
       "132    5\n",
       "289    5\n",
       "109    5\n",
       "176    7\n",
       "Name: score, Length: 226, dtype: int64"
      ]
     },
     "metadata": {},
     "execution_count": 14
    }
   ],
   "source": [
    "y_train"
   ]
  },
  {
   "cell_type": "code",
   "execution_count": 15,
   "metadata": {},
   "outputs": [
    {
     "output_type": "execute_result",
     "data": {
      "text/plain": [
       "112    5\n",
       "63     6\n",
       "269    5\n",
       "39     7\n",
       "276    5\n",
       "      ..\n",
       "214    6\n",
       "187    7\n",
       "296    4\n",
       "46     7\n",
       "114    5\n",
       "Name: score, Length: 76, dtype: int64"
      ]
     },
     "metadata": {},
     "execution_count": 15
    }
   ],
   "source": [
    "y_test"
   ]
  },
  {
   "source": [
    " ## Use MinMaxScaler to scale the numerical data."
   ],
   "cell_type": "markdown",
   "metadata": {}
  },
  {
   "cell_type": "code",
   "execution_count": 16,
   "metadata": {},
   "outputs": [],
   "source": [
    "# Perform MinMaxScaler to X_train and X_test\n",
    "# Categorical columns do not need to be scaled. i.e. y_train and y_test\n",
    "from sklearn.preprocessing import MinMaxScaler\n",
    "\n",
    "# Attain X_scaler using x_train data\n",
    "X_scaler = MinMaxScaler().fit(X_train)\n",
    "\n",
    "# Save all variables using X_scaler\n",
    "X_train_scaled = X_scaler.transform(X_train)\n",
    "X_test_scaled = X_scaler.transform(X_test)"
   ]
  },
  {
   "source": [
    "## Save variables for use in model1"
   ],
   "cell_type": "markdown",
   "metadata": {}
  },
  {
   "cell_type": "code",
   "execution_count": 17,
   "metadata": {},
   "outputs": [
    {
     "output_type": "stream",
     "name": "stdout",
     "text": [
      "Stored 'X_train_scaled' (ndarray)\nStored 'X_test_scaled' (ndarray)\nStored 'y_train' (Series)\nStored 'y_test' (Series)\nStored 'X_headings' (Index)\nStored 'X_scaler' (MinMaxScaler)\n"
     ]
    }
   ],
   "source": [
    "%store X_train_scaled\n",
    "%store X_test_scaled\n",
    "%store y_train\n",
    "%store y_test\n",
    "%store X_headings\n",
    "%store X_scaler"
   ]
  },
  {
   "cell_type": "code",
   "execution_count": 18,
   "metadata": {},
   "outputs": [
    {
     "output_type": "execute_result",
     "data": {
      "text/plain": [
       "LogisticRegression()"
      ]
     },
     "metadata": {},
     "execution_count": 18
    }
   ],
   "source": [
    "from sklearn.linear_model import LogisticRegression\n",
    "classifier = LogisticRegression()\n",
    "classifier"
   ]
  },
  {
   "cell_type": "code",
   "execution_count": 19,
   "metadata": {},
   "outputs": [
    {
     "output_type": "execute_result",
     "data": {
      "text/plain": [
       "LogisticRegression()"
      ]
     },
     "metadata": {},
     "execution_count": 19
    }
   ],
   "source": [
    "classifier.fit(X_train_scaled, y_train)"
   ]
  },
  {
   "cell_type": "code",
   "execution_count": 20,
   "metadata": {},
   "outputs": [
    {
     "output_type": "stream",
     "name": "stdout",
     "text": [
      "Training Data Score: 0.6106194690265486\nTesting Data Score: 0.631578947368421\n"
     ]
    }
   ],
   "source": [
    "print(f\"Training Data Score: {classifier.score(X_train_scaled, y_train)}\")\n",
    "print(f\"Testing Data Score: {classifier.score(X_test_scaled, y_test)}\")"
   ]
  },
  {
   "cell_type": "code",
   "execution_count": 21,
   "metadata": {},
   "outputs": [
    {
     "output_type": "stream",
     "name": "stdout",
     "text": [
      "First 10 Predictions:   [6 6 6 6 6 6 6 6 6 6]\nFirst 10 Actual labels: [5, 6, 5, 7, 5, 6, 5, 6, 6, 6]\n"
     ]
    }
   ],
   "source": [
    "predictions = classifier.predict(X_test)\n",
    "print(f\"First 10 Predictions:   {predictions[:10]}\")\n",
    "print(f\"First 10 Actual labels: {y_test[:10].tolist()}\")"
   ]
  },
  {
   "source": [
    "## PART 3: TRANSFORMATION OF DATA to produce dataframe containing: original features, score and predicted score\n",
    "    - Clean data to produce dataframe 'y_test': 'index' (original index), 'y_actual', 'y_predicted'\n",
    "    - Clean data to produce dataframe 'y_train': 'index' (original index), 'y_actual', 'y_predicted'\n",
    "    - Merge dataframe 'happy_postg' and 'y_test_all' as new dataframe 'happy_predicted'\n",
    "        - There should be blanks because y_predicted values only exist for 20% test data\n",
    "        - * happy_postg = happy_all : This will ensure happy_all variable is left as is from Part1."
   ],
   "cell_type": "markdown",
   "metadata": {}
  },
  {
   "source": [
    "### Save dataframe 'y_test_all' which contains original_index, y_test, y_test_predicted"
   ],
   "cell_type": "markdown",
   "metadata": {}
  },
  {
   "cell_type": "code",
   "execution_count": 22,
   "metadata": {},
   "outputs": [
    {
     "output_type": "stream",
     "name": "stdout",
     "text": [
      "112    5\n63     6\n269    5\n39     7\n276    5\n      ..\n214    6\n187    7\n296    4\n46     7\n114    5\nName: score, Length: 76, dtype: int64\n-----------------------------------\n    0\n0   6\n1   6\n2   6\n3   6\n4   6\n.. ..\n71  6\n72  6\n73  6\n74  6\n75  6\n\n[76 rows x 1 columns]\n"
     ]
    }
   ],
   "source": [
    "# Print y_test dataframe\n",
    "print(y_test)\n",
    "print('-----------------------------------')\n",
    "# PRint y_predicted dataframe\n",
    "y_test_predicted = pd.DataFrame(predictions)\n",
    "print(y_test_predicted)"
   ]
  },
  {
   "cell_type": "code",
   "execution_count": 23,
   "metadata": {},
   "outputs": [
    {
     "output_type": "execute_result",
     "data": {
      "text/plain": [
       "    index  score\n",
       "0     112      5\n",
       "1      63      6\n",
       "2     269      5\n",
       "3      39      7\n",
       "4     276      5\n",
       "..    ...    ...\n",
       "71    214      6\n",
       "72    187      7\n",
       "73    296      4\n",
       "74     46      7\n",
       "75    114      5\n",
       "\n",
       "[76 rows x 2 columns]"
      ],
      "text/html": "<div>\n<style scoped>\n    .dataframe tbody tr th:only-of-type {\n        vertical-align: middle;\n    }\n\n    .dataframe tbody tr th {\n        vertical-align: top;\n    }\n\n    .dataframe thead th {\n        text-align: right;\n    }\n</style>\n<table border=\"1\" class=\"dataframe\">\n  <thead>\n    <tr style=\"text-align: right;\">\n      <th></th>\n      <th>index</th>\n      <th>score</th>\n    </tr>\n  </thead>\n  <tbody>\n    <tr>\n      <th>0</th>\n      <td>112</td>\n      <td>5</td>\n    </tr>\n    <tr>\n      <th>1</th>\n      <td>63</td>\n      <td>6</td>\n    </tr>\n    <tr>\n      <th>2</th>\n      <td>269</td>\n      <td>5</td>\n    </tr>\n    <tr>\n      <th>3</th>\n      <td>39</td>\n      <td>7</td>\n    </tr>\n    <tr>\n      <th>4</th>\n      <td>276</td>\n      <td>5</td>\n    </tr>\n    <tr>\n      <th>...</th>\n      <td>...</td>\n      <td>...</td>\n    </tr>\n    <tr>\n      <th>71</th>\n      <td>214</td>\n      <td>6</td>\n    </tr>\n    <tr>\n      <th>72</th>\n      <td>187</td>\n      <td>7</td>\n    </tr>\n    <tr>\n      <th>73</th>\n      <td>296</td>\n      <td>4</td>\n    </tr>\n    <tr>\n      <th>74</th>\n      <td>46</td>\n      <td>7</td>\n    </tr>\n    <tr>\n      <th>75</th>\n      <td>114</td>\n      <td>5</td>\n    </tr>\n  </tbody>\n</table>\n<p>76 rows × 2 columns</p>\n</div>"
     },
     "metadata": {},
     "execution_count": 23
    }
   ],
   "source": [
    "# Reset y_test index \n",
    "# (to prepare to merge y_test (actual scores) and y_predicted (predicted scores) dataframes)\n",
    "y_test = y_test.reset_index()\n",
    "y_test"
   ]
  },
  {
   "cell_type": "code",
   "execution_count": 24,
   "metadata": {},
   "outputs": [
    {
     "output_type": "execute_result",
     "data": {
      "text/plain": [
       "    index  score  0\n",
       "0     112      5  6\n",
       "1      63      6  6\n",
       "2     269      5  6\n",
       "3      39      7  6\n",
       "4     276      5  6\n",
       "..    ...    ... ..\n",
       "71    214      6  6\n",
       "72    187      7  6\n",
       "73    296      4  6\n",
       "74     46      7  6\n",
       "75    114      5  6\n",
       "\n",
       "[76 rows x 3 columns]"
      ],
      "text/html": "<div>\n<style scoped>\n    .dataframe tbody tr th:only-of-type {\n        vertical-align: middle;\n    }\n\n    .dataframe tbody tr th {\n        vertical-align: top;\n    }\n\n    .dataframe thead th {\n        text-align: right;\n    }\n</style>\n<table border=\"1\" class=\"dataframe\">\n  <thead>\n    <tr style=\"text-align: right;\">\n      <th></th>\n      <th>index</th>\n      <th>score</th>\n      <th>0</th>\n    </tr>\n  </thead>\n  <tbody>\n    <tr>\n      <th>0</th>\n      <td>112</td>\n      <td>5</td>\n      <td>6</td>\n    </tr>\n    <tr>\n      <th>1</th>\n      <td>63</td>\n      <td>6</td>\n      <td>6</td>\n    </tr>\n    <tr>\n      <th>2</th>\n      <td>269</td>\n      <td>5</td>\n      <td>6</td>\n    </tr>\n    <tr>\n      <th>3</th>\n      <td>39</td>\n      <td>7</td>\n      <td>6</td>\n    </tr>\n    <tr>\n      <th>4</th>\n      <td>276</td>\n      <td>5</td>\n      <td>6</td>\n    </tr>\n    <tr>\n      <th>...</th>\n      <td>...</td>\n      <td>...</td>\n      <td>...</td>\n    </tr>\n    <tr>\n      <th>71</th>\n      <td>214</td>\n      <td>6</td>\n      <td>6</td>\n    </tr>\n    <tr>\n      <th>72</th>\n      <td>187</td>\n      <td>7</td>\n      <td>6</td>\n    </tr>\n    <tr>\n      <th>73</th>\n      <td>296</td>\n      <td>4</td>\n      <td>6</td>\n    </tr>\n    <tr>\n      <th>74</th>\n      <td>46</td>\n      <td>7</td>\n      <td>6</td>\n    </tr>\n    <tr>\n      <th>75</th>\n      <td>114</td>\n      <td>5</td>\n      <td>6</td>\n    </tr>\n  </tbody>\n</table>\n<p>76 rows × 3 columns</p>\n</div>"
     },
     "metadata": {},
     "execution_count": 24
    }
   ],
   "source": [
    "# Merge y_test and y_test_predicted\n",
    "y_test_all = pd.merge(y_test, y_test_predicted, left_index=True, right_index=True, how=\"inner\")\n",
    "y_test_all\n"
   ]
  },
  {
   "cell_type": "code",
   "execution_count": 25,
   "metadata": {},
   "outputs": [
    {
     "output_type": "execute_result",
     "data": {
      "text/plain": [
       "    index  y_actual  y_predicted\n",
       "0     112         5            6\n",
       "1      63         6            6\n",
       "2     269         5            6\n",
       "3      39         7            6\n",
       "4     276         5            6\n",
       "..    ...       ...          ...\n",
       "71    214         6            6\n",
       "72    187         7            6\n",
       "73    296         4            6\n",
       "74     46         7            6\n",
       "75    114         5            6\n",
       "\n",
       "[76 rows x 3 columns]"
      ],
      "text/html": "<div>\n<style scoped>\n    .dataframe tbody tr th:only-of-type {\n        vertical-align: middle;\n    }\n\n    .dataframe tbody tr th {\n        vertical-align: top;\n    }\n\n    .dataframe thead th {\n        text-align: right;\n    }\n</style>\n<table border=\"1\" class=\"dataframe\">\n  <thead>\n    <tr style=\"text-align: right;\">\n      <th></th>\n      <th>index</th>\n      <th>y_actual</th>\n      <th>y_predicted</th>\n    </tr>\n  </thead>\n  <tbody>\n    <tr>\n      <th>0</th>\n      <td>112</td>\n      <td>5</td>\n      <td>6</td>\n    </tr>\n    <tr>\n      <th>1</th>\n      <td>63</td>\n      <td>6</td>\n      <td>6</td>\n    </tr>\n    <tr>\n      <th>2</th>\n      <td>269</td>\n      <td>5</td>\n      <td>6</td>\n    </tr>\n    <tr>\n      <th>3</th>\n      <td>39</td>\n      <td>7</td>\n      <td>6</td>\n    </tr>\n    <tr>\n      <th>4</th>\n      <td>276</td>\n      <td>5</td>\n      <td>6</td>\n    </tr>\n    <tr>\n      <th>...</th>\n      <td>...</td>\n      <td>...</td>\n      <td>...</td>\n    </tr>\n    <tr>\n      <th>71</th>\n      <td>214</td>\n      <td>6</td>\n      <td>6</td>\n    </tr>\n    <tr>\n      <th>72</th>\n      <td>187</td>\n      <td>7</td>\n      <td>6</td>\n    </tr>\n    <tr>\n      <th>73</th>\n      <td>296</td>\n      <td>4</td>\n      <td>6</td>\n    </tr>\n    <tr>\n      <th>74</th>\n      <td>46</td>\n      <td>7</td>\n      <td>6</td>\n    </tr>\n    <tr>\n      <th>75</th>\n      <td>114</td>\n      <td>5</td>\n      <td>6</td>\n    </tr>\n  </tbody>\n</table>\n<p>76 rows × 3 columns</p>\n</div>"
     },
     "metadata": {},
     "execution_count": 25
    }
   ],
   "source": [
    "# This dataframe is from the test entries\n",
    "# Rename column\n",
    "y_test_all = y_test_all.rename({'score':'y_actual',0:'y_predicted'}, axis='columns')\n",
    "y_test_all"
   ]
  },
  {
   "source": [
    "- Merge dataframe 'happy_postg' with 'y_test_all' on index and save new dataframe as 'happy_postg_final'"
   ],
   "cell_type": "markdown",
   "metadata": {}
  },
  {
   "cell_type": "code",
   "execution_count": 26,
   "metadata": {},
   "outputs": [
    {
     "output_type": "execute_result",
     "data": {
      "text/plain": [
       "     year      country  logged_GDP_per_capita   support   life_exp   freedom  \\\n",
       "0    2020      Finland              10.639267  0.954330  71.900825  0.949172   \n",
       "1    2020      Denmark              10.774001  0.955991  72.402504  0.951444   \n",
       "2    2020  Switzerland              10.979933  0.942847  74.102448  0.921337   \n",
       "3    2020      Iceland              10.772559  0.974670  73.000000  0.948892   \n",
       "4    2020       Norway              11.087804  0.952487  73.200783  0.955750   \n",
       "..    ...          ...                    ...       ...        ...       ...   \n",
       "297  2021      Lesotho               7.926000  0.787000  48.700000  0.715000   \n",
       "298  2021     Botswana               9.782000  0.784000  59.269000  0.824000   \n",
       "299  2021       Rwanda               7.676000  0.552000  61.400000  0.897000   \n",
       "300  2021     Zimbabwe               7.943000  0.750000  56.201000  0.677000   \n",
       "301  2021  Afghanistan               7.695000  0.463000  52.493000  0.382000   \n",
       "\n",
       "     generosity  corruption  score  index  y_actual  y_predicted  \n",
       "0     -0.059482    0.195445    8.0  112.0       5.0          6.0  \n",
       "1      0.066202    0.168489    8.0   63.0       6.0          6.0  \n",
       "2      0.105911    0.303728    8.0  269.0       5.0          6.0  \n",
       "3      0.246944    0.711710    8.0   39.0       7.0          6.0  \n",
       "4      0.134533    0.263218    8.0  276.0       5.0          6.0  \n",
       "..          ...         ...    ...    ...       ...          ...  \n",
       "297   -0.131000    0.915000    4.0    NaN       NaN          NaN  \n",
       "298   -0.246000    0.801000    4.0    NaN       NaN          NaN  \n",
       "299    0.061000    0.167000    4.0    NaN       NaN          NaN  \n",
       "300   -0.047000    0.821000    4.0    NaN       NaN          NaN  \n",
       "301   -0.102000    0.924000    3.0    NaN       NaN          NaN  \n",
       "\n",
       "[302 rows x 12 columns]"
      ],
      "text/html": "<div>\n<style scoped>\n    .dataframe tbody tr th:only-of-type {\n        vertical-align: middle;\n    }\n\n    .dataframe tbody tr th {\n        vertical-align: top;\n    }\n\n    .dataframe thead th {\n        text-align: right;\n    }\n</style>\n<table border=\"1\" class=\"dataframe\">\n  <thead>\n    <tr style=\"text-align: right;\">\n      <th></th>\n      <th>year</th>\n      <th>country</th>\n      <th>logged_GDP_per_capita</th>\n      <th>support</th>\n      <th>life_exp</th>\n      <th>freedom</th>\n      <th>generosity</th>\n      <th>corruption</th>\n      <th>score</th>\n      <th>index</th>\n      <th>y_actual</th>\n      <th>y_predicted</th>\n    </tr>\n  </thead>\n  <tbody>\n    <tr>\n      <th>0</th>\n      <td>2020</td>\n      <td>Finland</td>\n      <td>10.639267</td>\n      <td>0.954330</td>\n      <td>71.900825</td>\n      <td>0.949172</td>\n      <td>-0.059482</td>\n      <td>0.195445</td>\n      <td>8.0</td>\n      <td>112.0</td>\n      <td>5.0</td>\n      <td>6.0</td>\n    </tr>\n    <tr>\n      <th>1</th>\n      <td>2020</td>\n      <td>Denmark</td>\n      <td>10.774001</td>\n      <td>0.955991</td>\n      <td>72.402504</td>\n      <td>0.951444</td>\n      <td>0.066202</td>\n      <td>0.168489</td>\n      <td>8.0</td>\n      <td>63.0</td>\n      <td>6.0</td>\n      <td>6.0</td>\n    </tr>\n    <tr>\n      <th>2</th>\n      <td>2020</td>\n      <td>Switzerland</td>\n      <td>10.979933</td>\n      <td>0.942847</td>\n      <td>74.102448</td>\n      <td>0.921337</td>\n      <td>0.105911</td>\n      <td>0.303728</td>\n      <td>8.0</td>\n      <td>269.0</td>\n      <td>5.0</td>\n      <td>6.0</td>\n    </tr>\n    <tr>\n      <th>3</th>\n      <td>2020</td>\n      <td>Iceland</td>\n      <td>10.772559</td>\n      <td>0.974670</td>\n      <td>73.000000</td>\n      <td>0.948892</td>\n      <td>0.246944</td>\n      <td>0.711710</td>\n      <td>8.0</td>\n      <td>39.0</td>\n      <td>7.0</td>\n      <td>6.0</td>\n    </tr>\n    <tr>\n      <th>4</th>\n      <td>2020</td>\n      <td>Norway</td>\n      <td>11.087804</td>\n      <td>0.952487</td>\n      <td>73.200783</td>\n      <td>0.955750</td>\n      <td>0.134533</td>\n      <td>0.263218</td>\n      <td>8.0</td>\n      <td>276.0</td>\n      <td>5.0</td>\n      <td>6.0</td>\n    </tr>\n    <tr>\n      <th>...</th>\n      <td>...</td>\n      <td>...</td>\n      <td>...</td>\n      <td>...</td>\n      <td>...</td>\n      <td>...</td>\n      <td>...</td>\n      <td>...</td>\n      <td>...</td>\n      <td>...</td>\n      <td>...</td>\n      <td>...</td>\n    </tr>\n    <tr>\n      <th>297</th>\n      <td>2021</td>\n      <td>Lesotho</td>\n      <td>7.926000</td>\n      <td>0.787000</td>\n      <td>48.700000</td>\n      <td>0.715000</td>\n      <td>-0.131000</td>\n      <td>0.915000</td>\n      <td>4.0</td>\n      <td>NaN</td>\n      <td>NaN</td>\n      <td>NaN</td>\n    </tr>\n    <tr>\n      <th>298</th>\n      <td>2021</td>\n      <td>Botswana</td>\n      <td>9.782000</td>\n      <td>0.784000</td>\n      <td>59.269000</td>\n      <td>0.824000</td>\n      <td>-0.246000</td>\n      <td>0.801000</td>\n      <td>4.0</td>\n      <td>NaN</td>\n      <td>NaN</td>\n      <td>NaN</td>\n    </tr>\n    <tr>\n      <th>299</th>\n      <td>2021</td>\n      <td>Rwanda</td>\n      <td>7.676000</td>\n      <td>0.552000</td>\n      <td>61.400000</td>\n      <td>0.897000</td>\n      <td>0.061000</td>\n      <td>0.167000</td>\n      <td>4.0</td>\n      <td>NaN</td>\n      <td>NaN</td>\n      <td>NaN</td>\n    </tr>\n    <tr>\n      <th>300</th>\n      <td>2021</td>\n      <td>Zimbabwe</td>\n      <td>7.943000</td>\n      <td>0.750000</td>\n      <td>56.201000</td>\n      <td>0.677000</td>\n      <td>-0.047000</td>\n      <td>0.821000</td>\n      <td>4.0</td>\n      <td>NaN</td>\n      <td>NaN</td>\n      <td>NaN</td>\n    </tr>\n    <tr>\n      <th>301</th>\n      <td>2021</td>\n      <td>Afghanistan</td>\n      <td>7.695000</td>\n      <td>0.463000</td>\n      <td>52.493000</td>\n      <td>0.382000</td>\n      <td>-0.102000</td>\n      <td>0.924000</td>\n      <td>3.0</td>\n      <td>NaN</td>\n      <td>NaN</td>\n      <td>NaN</td>\n    </tr>\n  </tbody>\n</table>\n<p>302 rows × 12 columns</p>\n</div>"
     },
     "metadata": {},
     "execution_count": 26
    }
   ],
   "source": [
    "# Merge 'happy_postg' on index with 'y_test_all' on column name 'index'. (join=outer)\n",
    "happy_postg_final = pd.concat([happy_postg,y_test_all],axis=\"columns\", join=\"outer\")\n",
    "happy_postg_final\n",
    "\n",
    "# Rename columns\n",
    "# y_predicted = y_predicted.rename({'score':'xx'}, axis='columns')\n",
    "# print(y_predicted)\n",
    "\n",
    "# y_predicted = y_predicted.rename(columns={'score': 'predicted_score'})\n",
    "# y_predicted"
   ]
  }
 ]
}